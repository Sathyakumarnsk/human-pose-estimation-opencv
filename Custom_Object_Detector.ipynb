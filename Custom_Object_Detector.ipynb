{
  "nbformat": 4,
  "nbformat_minor": 0,
  "metadata": {
    "colab": {
      "name": "Custom Object Detector.ipynb",
      "provenance": [],
      "collapsed_sections": [],
      "toc_visible": true,
      "include_colab_link": true
    },
    "kernelspec": {
      "name": "python3",
      "display_name": "Python 3"
    },
    "accelerator": "GPU"
  },
  "cells": [
    {
      "cell_type": "markdown",
      "metadata": {
        "id": "view-in-github",
        "colab_type": "text"
      },
      "source": [
        "<a href=\"https://colab.research.google.com/github/Sathyakumarnsk/human-pose-estimation-opencv/blob/master/Custom_Object_Detector.ipynb\" target=\"_parent\"><img src=\"https://colab.research.google.com/assets/colab-badge.svg\" alt=\"Open In Colab\"/></a>"
      ]
    },
    {
      "cell_type": "code",
      "metadata": {
        "id": "2mR2TVZCU9Gz",
        "outputId": "e538d4e1-1575-4710-e6a7-b0c840328df4",
        "colab": {
          "base_uri": "https://localhost:8080/",
          "height": 34
        }
      },
      "source": [
        "%tensorflow_version 1.x"
      ],
      "execution_count": 1,
      "outputs": [
        {
          "output_type": "stream",
          "text": [
            "TensorFlow 1.x selected.\n"
          ],
          "name": "stdout"
        }
      ]
    },
    {
      "cell_type": "code",
      "metadata": {
        "id": "X8QUTNF6eLUk"
      },
      "source": [
        "# Number of training steps.\n",
        "num_steps = 200000\n",
        "\n",
        "# Number of evaluation steps.\n",
        "num_eval_steps = 50\n",
        "\n",
        "MODELS_CONFIG = {\n",
        "    'ssd_mobilenet_v2': {\n",
        "        'model_name': 'ssd_mobilenet_v2_coco_2018_03_29',\n",
        "        'pipeline_file': 'ssd_mobilenet_v2_coco.config',\n",
        "        'batch_size':12\n",
        "    },\n",
        "    'faster_rcnn_inception_v2': {\n",
        "        'model_name': 'faster_rcnn_inception_v2_coco_2018_01_28',\n",
        "        'pipeline_file': 'faster_rcnn_inception_v2_pets.config',\n",
        "        'batch_size': 12\n",
        "    },\n",
        "    'rfcn_resnet101': {\n",
        "        'model_name': 'rfcn_resnet101_coco_2018_01_28',\n",
        "        'pipeline_file': 'rfcn_resnet101_pets.config',\n",
        "        'batch_size': 8\n",
        "    }\n",
        "}\n",
        "\n",
        "# Pick the model you want to use\n",
        "# Select a model in `MODELS_CONFIG`.\n",
        "selected_model = 'ssd_mobilenet_v2'\n",
        "\n",
        "# Name of the object detection model to use.\n",
        "MODEL = MODELS_CONFIG[selected_model]['model_name']\n",
        "\n",
        "# Name of the pipline file in tensorflow object detection API.\n",
        "pipeline_file = MODELS_CONFIG[selected_model]['pipeline_file']\n",
        "\n",
        "# Training batch size fits in Colabe's Tesla K80 GPU memory for selected model.\n",
        "batch_size = MODELS_CONFIG[selected_model]['batch_size']"
      ],
      "execution_count": 44,
      "outputs": []
    },
    {
      "cell_type": "code",
      "metadata": {
        "id": "sTzm7xHPe9yb",
        "outputId": "57bf7ce0-809e-44b7-db82-444fab0d7180",
        "colab": {
          "base_uri": "https://localhost:8080/",
          "height": 34
        }
      },
      "source": [
        "!ls"
      ],
      "execution_count": 3,
      "outputs": [
        {
          "output_type": "stream",
          "text": [
            "sample_data\n"
          ],
          "name": "stdout"
        }
      ]
    },
    {
      "cell_type": "code",
      "metadata": {
        "id": "mpDuREHXfCtv"
      },
      "source": [
        "!git clone --quiet https://github.com/tensorflow/models.git"
      ],
      "execution_count": 4,
      "outputs": []
    },
    {
      "cell_type": "code",
      "metadata": {
        "id": "9kSrNtAMfH_D",
        "outputId": "3b7e8ea4-8fb0-4715-f89e-6898acf2b921",
        "colab": {
          "base_uri": "https://localhost:8080/",
          "height": 34
        }
      },
      "source": [
        "!ls"
      ],
      "execution_count": 5,
      "outputs": [
        {
          "output_type": "stream",
          "text": [
            "models\tsample_data\n"
          ],
          "name": "stdout"
        }
      ]
    },
    {
      "cell_type": "code",
      "metadata": {
        "id": "O-T5dDsofPS9",
        "outputId": "568ba788-0610-403e-fbbe-8b031f9da25a",
        "colab": {
          "base_uri": "https://localhost:8080/",
          "height": 663
        }
      },
      "source": [
        "!apt-get install -qq protobuf-compiler python-pil python-lxml python-tk\n",
        "\n",
        "!pip install -q Cython contextlib2 pillow lxml matplotlib\n",
        "\n",
        "!pip install -q pycocotools"
      ],
      "execution_count": 6,
      "outputs": [
        {
          "output_type": "stream",
          "text": [
            "Selecting previously unselected package python-bs4.\n",
            "(Reading database ... 144676 files and directories currently installed.)\n",
            "Preparing to unpack .../0-python-bs4_4.6.0-1_all.deb ...\n",
            "Unpacking python-bs4 (4.6.0-1) ...\n",
            "Selecting previously unselected package python-pkg-resources.\n",
            "Preparing to unpack .../1-python-pkg-resources_39.0.1-2_all.deb ...\n",
            "Unpacking python-pkg-resources (39.0.1-2) ...\n",
            "Selecting previously unselected package python-chardet.\n",
            "Preparing to unpack .../2-python-chardet_3.0.4-1_all.deb ...\n",
            "Unpacking python-chardet (3.0.4-1) ...\n",
            "Selecting previously unselected package python-six.\n",
            "Preparing to unpack .../3-python-six_1.11.0-2_all.deb ...\n",
            "Unpacking python-six (1.11.0-2) ...\n",
            "Selecting previously unselected package python-webencodings.\n",
            "Preparing to unpack .../4-python-webencodings_0.5-2_all.deb ...\n",
            "Unpacking python-webencodings (0.5-2) ...\n",
            "Selecting previously unselected package python-html5lib.\n",
            "Preparing to unpack .../5-python-html5lib_0.999999999-1_all.deb ...\n",
            "Unpacking python-html5lib (0.999999999-1) ...\n",
            "Selecting previously unselected package python-lxml:amd64.\n",
            "Preparing to unpack .../6-python-lxml_4.2.1-1ubuntu0.1_amd64.deb ...\n",
            "Unpacking python-lxml:amd64 (4.2.1-1ubuntu0.1) ...\n",
            "Selecting previously unselected package python-olefile.\n",
            "Preparing to unpack .../7-python-olefile_0.45.1-1_all.deb ...\n",
            "Unpacking python-olefile (0.45.1-1) ...\n",
            "Selecting previously unselected package python-pil:amd64.\n",
            "Preparing to unpack .../8-python-pil_5.1.0-1ubuntu0.3_amd64.deb ...\n",
            "Unpacking python-pil:amd64 (5.1.0-1ubuntu0.3) ...\n",
            "Setting up python-pkg-resources (39.0.1-2) ...\n",
            "Setting up python-six (1.11.0-2) ...\n",
            "Setting up python-bs4 (4.6.0-1) ...\n",
            "Setting up python-lxml:amd64 (4.2.1-1ubuntu0.1) ...\n",
            "Setting up python-olefile (0.45.1-1) ...\n",
            "Setting up python-pil:amd64 (5.1.0-1ubuntu0.3) ...\n",
            "Setting up python-webencodings (0.5-2) ...\n",
            "Setting up python-chardet (3.0.4-1) ...\n",
            "Setting up python-html5lib (0.999999999-1) ...\n",
            "Processing triggers for man-db (2.8.3-2ubuntu0.1) ...\n"
          ],
          "name": "stdout"
        }
      ]
    },
    {
      "cell_type": "code",
      "metadata": {
        "id": "fm6tn9lxfUFr",
        "outputId": "95bf8ea7-31c5-481c-9271-4fe44960fa3d",
        "colab": {
          "base_uri": "https://localhost:8080/",
          "height": 34
        }
      },
      "source": [
        "%cd models/research"
      ],
      "execution_count": 7,
      "outputs": [
        {
          "output_type": "stream",
          "text": [
            "/content/models/research\n"
          ],
          "name": "stdout"
        }
      ]
    },
    {
      "cell_type": "code",
      "metadata": {
        "id": "P01HsgqPfgoM"
      },
      "source": [
        "!protoc object_detection/protos/*.proto --python_out=."
      ],
      "execution_count": 8,
      "outputs": []
    },
    {
      "cell_type": "code",
      "metadata": {
        "id": "MHNmhuQRfic7"
      },
      "source": [
        "import os\n",
        "os.environ['PYTHONPATH'] += ':/content/models/research/:/content/models/research/slim/'"
      ],
      "execution_count": 9,
      "outputs": []
    },
    {
      "cell_type": "code",
      "metadata": {
        "id": "0JCc0jMVUYC9",
        "outputId": "3369aa2d-e5dd-480f-e262-41c9d17f8577",
        "colab": {
          "base_uri": "https://localhost:8080/",
          "height": 35
        }
      },
      "source": [
        "import tensorflow as tf\n",
        "tf.__version__"
      ],
      "execution_count": 10,
      "outputs": [
        {
          "output_type": "execute_result",
          "data": {
            "application/vnd.google.colaboratory.intrinsic+json": {
              "type": "string"
            },
            "text/plain": [
              "'1.15.2'"
            ]
          },
          "metadata": {
            "tags": []
          },
          "execution_count": 10
        }
      ]
    },
    {
      "cell_type": "code",
      "metadata": {
        "id": "QNLucgGFUzzN",
        "outputId": "a9643b49-5de9-42a6-eda6-1052d59c45e8",
        "colab": {
          "base_uri": "https://localhost:8080/",
          "height": 156
        }
      },
      "source": [
        "!pip install tf_slim"
      ],
      "execution_count": 11,
      "outputs": [
        {
          "output_type": "stream",
          "text": [
            "Collecting tf_slim\n",
            "\u001b[?25l  Downloading https://files.pythonhosted.org/packages/02/97/b0f4a64df018ca018cc035d44f2ef08f91e2e8aa67271f6f19633a015ff7/tf_slim-1.1.0-py2.py3-none-any.whl (352kB)\n",
            "\r\u001b[K     |█                               | 10kB 7.6MB/s eta 0:00:01\r\u001b[K     |█▉                              | 20kB 2.9MB/s eta 0:00:01\r\u001b[K     |██▉                             | 30kB 4.1MB/s eta 0:00:01\r\u001b[K     |███▊                            | 40kB 3.3MB/s eta 0:00:01\r\u001b[K     |████▋                           | 51kB 4.0MB/s eta 0:00:01\r\u001b[K     |█████▋                          | 61kB 4.5MB/s eta 0:00:01\r\u001b[K     |██████▌                         | 71kB 5.0MB/s eta 0:00:01\r\u001b[K     |███████▌                        | 81kB 5.4MB/s eta 0:00:01\r\u001b[K     |████████▍                       | 92kB 5.7MB/s eta 0:00:01\r\u001b[K     |█████████▎                      | 102kB 5.7MB/s eta 0:00:01\r\u001b[K     |██████████▎                     | 112kB 5.7MB/s eta 0:00:01\r\u001b[K     |███████████▏                    | 122kB 5.7MB/s eta 0:00:01\r\u001b[K     |████████████                    | 133kB 5.7MB/s eta 0:00:01\r\u001b[K     |█████████████                   | 143kB 5.7MB/s eta 0:00:01\r\u001b[K     |██████████████                  | 153kB 5.7MB/s eta 0:00:01\r\u001b[K     |███████████████                 | 163kB 5.7MB/s eta 0:00:01\r\u001b[K     |███████████████▉                | 174kB 5.7MB/s eta 0:00:01\r\u001b[K     |████████████████▊               | 184kB 5.7MB/s eta 0:00:01\r\u001b[K     |█████████████████▊              | 194kB 5.7MB/s eta 0:00:01\r\u001b[K     |██████████████████▋             | 204kB 5.7MB/s eta 0:00:01\r\u001b[K     |███████████████████▌            | 215kB 5.7MB/s eta 0:00:01\r\u001b[K     |████████████████████▌           | 225kB 5.7MB/s eta 0:00:01\r\u001b[K     |█████████████████████▍          | 235kB 5.7MB/s eta 0:00:01\r\u001b[K     |██████████████████████▍         | 245kB 5.7MB/s eta 0:00:01\r\u001b[K     |███████████████████████▎        | 256kB 5.7MB/s eta 0:00:01\r\u001b[K     |████████████████████████▏       | 266kB 5.7MB/s eta 0:00:01\r\u001b[K     |█████████████████████████▏      | 276kB 5.7MB/s eta 0:00:01\r\u001b[K     |██████████████████████████      | 286kB 5.7MB/s eta 0:00:01\r\u001b[K     |███████████████████████████     | 296kB 5.7MB/s eta 0:00:01\r\u001b[K     |████████████████████████████    | 307kB 5.7MB/s eta 0:00:01\r\u001b[K     |████████████████████████████▉   | 317kB 5.7MB/s eta 0:00:01\r\u001b[K     |█████████████████████████████▉  | 327kB 5.7MB/s eta 0:00:01\r\u001b[K     |██████████████████████████████▊ | 337kB 5.7MB/s eta 0:00:01\r\u001b[K     |███████████████████████████████▋| 348kB 5.7MB/s eta 0:00:01\r\u001b[K     |████████████████████████████████| 358kB 5.7MB/s \n",
            "\u001b[?25hRequirement already satisfied: absl-py>=0.2.2 in /usr/local/lib/python3.6/dist-packages (from tf_slim) (0.10.0)\n",
            "Requirement already satisfied: six in /usr/local/lib/python3.6/dist-packages (from absl-py>=0.2.2->tf_slim) (1.15.0)\n",
            "Installing collected packages: tf-slim\n",
            "Successfully installed tf-slim-1.1.0\n"
          ],
          "name": "stdout"
        }
      ]
    },
    {
      "cell_type": "code",
      "metadata": {
        "id": "jFVMAvxBfo-h"
      },
      "source": [
        "\n",
        "!python object_detection/builders/model_builder_test.py"
      ],
      "execution_count": 12,
      "outputs": []
    },
    {
      "cell_type": "code",
      "metadata": {
        "id": "ioERH21cfqqN"
      },
      "source": [
        ""
      ],
      "execution_count": 12,
      "outputs": []
    },
    {
      "cell_type": "markdown",
      "metadata": {
        "id": "SBjl_xygfuEa"
      },
      "source": [
        "## Upload TF Records File\n"
      ]
    },
    {
      "cell_type": "code",
      "metadata": {
        "id": "SdHJeRZ0H7Mb",
        "outputId": "0d4dd493-af50-4a31-f030-601064173bc9",
        "colab": {
          "base_uri": "https://localhost:8080/",
          "height": 445
        }
      },
      "source": [
        "!wget https://www.dropbox.com/s/uo200sd35j40udw/dataset.zip"
      ],
      "execution_count": 13,
      "outputs": [
        {
          "output_type": "stream",
          "text": [
            "--2020-09-26 12:13:44--  https://www.dropbox.com/s/uo200sd35j40udw/dataset.zip\n",
            "Resolving www.dropbox.com (www.dropbox.com)... 162.125.1.1, 2620:100:6016:1::a27d:101\n",
            "Connecting to www.dropbox.com (www.dropbox.com)|162.125.1.1|:443... connected.\n",
            "HTTP request sent, awaiting response... 301 Moved Permanently\n",
            "Location: /s/raw/uo200sd35j40udw/dataset.zip [following]\n",
            "--2020-09-26 12:13:45--  https://www.dropbox.com/s/raw/uo200sd35j40udw/dataset.zip\n",
            "Reusing existing connection to www.dropbox.com:443.\n",
            "HTTP request sent, awaiting response... 302 Found\n",
            "Location: https://uc83f95f171ef7d26e8153a35d36.dl.dropboxusercontent.com/cd/0/inline/BAFRtS7BlM8hSGXOLzgpPLCOLC2z4X6cmDnFUudsTDoscjs2TB7-nMWuNXQ0EVyXqJBguRdIBSlc8FMCi5AZju-hNy6qzyMc6qdx7ioozTroqVVV3-UO8JMucwZnnZcfC1Q/file# [following]\n",
            "--2020-09-26 12:13:45--  https://uc83f95f171ef7d26e8153a35d36.dl.dropboxusercontent.com/cd/0/inline/BAFRtS7BlM8hSGXOLzgpPLCOLC2z4X6cmDnFUudsTDoscjs2TB7-nMWuNXQ0EVyXqJBguRdIBSlc8FMCi5AZju-hNy6qzyMc6qdx7ioozTroqVVV3-UO8JMucwZnnZcfC1Q/file\n",
            "Resolving uc83f95f171ef7d26e8153a35d36.dl.dropboxusercontent.com (uc83f95f171ef7d26e8153a35d36.dl.dropboxusercontent.com)... 162.125.1.15, 2620:100:6016:15::a27d:10f\n",
            "Connecting to uc83f95f171ef7d26e8153a35d36.dl.dropboxusercontent.com (uc83f95f171ef7d26e8153a35d36.dl.dropboxusercontent.com)|162.125.1.15|:443... connected.\n",
            "HTTP request sent, awaiting response... 302 Found\n",
            "Location: /cd/0/inline2/BAG6gVvvF5w5ISJij9EubA2MWMK5CM9tUUwGur7kkpIV44sV00sTss01dvfp-nqY6WOrIKQbju3jX6EbiDtoey9C_GGQ-duXT4O2ukQ4vjIyL0HaAQvRdhHEAsv6_8U3TVby-3AtQiRHoQ1QjEu8xsLlN4WzTeBrn7-BtlBRcQzN_iUSkS3H6_IhiZK7rKDz4P8PF0CrcJovo2OOki0ut_R1o0NKTl2FM3dRaAXElm2NcBUFqtzaThv2Mo3INfhKL69CJpo6K5AISzNy4adSqbXF4mPF0r-c-JjDr1Jci65vzOAcoC0I2c5NqXo2clibqRY5CaLAlVRSlISYRvF1OLj5wYpeul4ONkV_8Bi4JvOr1Q/file [following]\n",
            "--2020-09-26 12:13:45--  https://uc83f95f171ef7d26e8153a35d36.dl.dropboxusercontent.com/cd/0/inline2/BAG6gVvvF5w5ISJij9EubA2MWMK5CM9tUUwGur7kkpIV44sV00sTss01dvfp-nqY6WOrIKQbju3jX6EbiDtoey9C_GGQ-duXT4O2ukQ4vjIyL0HaAQvRdhHEAsv6_8U3TVby-3AtQiRHoQ1QjEu8xsLlN4WzTeBrn7-BtlBRcQzN_iUSkS3H6_IhiZK7rKDz4P8PF0CrcJovo2OOki0ut_R1o0NKTl2FM3dRaAXElm2NcBUFqtzaThv2Mo3INfhKL69CJpo6K5AISzNy4adSqbXF4mPF0r-c-JjDr1Jci65vzOAcoC0I2c5NqXo2clibqRY5CaLAlVRSlISYRvF1OLj5wYpeul4ONkV_8Bi4JvOr1Q/file\n",
            "Reusing existing connection to uc83f95f171ef7d26e8153a35d36.dl.dropboxusercontent.com:443.\n",
            "HTTP request sent, awaiting response... 200 OK\n",
            "Length: 996764740 (951M) [application/zip]\n",
            "Saving to: ‘dataset.zip’\n",
            "\n",
            "dataset.zip         100%[===================>] 950.59M  63.3MB/s    in 16s     \n",
            "\n",
            "2020-09-26 12:14:01 (60.0 MB/s) - ‘dataset.zip’ saved [996764740/996764740]\n",
            "\n"
          ],
          "name": "stdout"
        }
      ]
    },
    {
      "cell_type": "code",
      "metadata": {
        "id": "j0EIICRbfxD4",
        "outputId": "445dced3-32ac-4659-e9bf-0f1c74a3ee58",
        "colab": {
          "base_uri": "https://localhost:8080/",
          "height": 85
        }
      },
      "source": [
        "!unzip dataset.zip"
      ],
      "execution_count": 14,
      "outputs": [
        {
          "output_type": "stream",
          "text": [
            "Archive:  dataset.zip\n",
            "  inflating: object-detection.pbtxt  \n",
            "  inflating: test.record             \n",
            "  inflating: train.record            \n"
          ],
          "name": "stdout"
        }
      ]
    },
    {
      "cell_type": "code",
      "metadata": {
        "id": "sZtAka8tf8-e",
        "outputId": "8aad8d86-593c-47df-f82c-9d6703767d00",
        "colab": {
          "base_uri": "https://localhost:8080/",
          "height": 163
        }
      },
      "source": [
        "train_record_fname = files.upload()"
      ],
      "execution_count": 15,
      "outputs": [
        {
          "output_type": "error",
          "ename": "NameError",
          "evalue": "ignored",
          "traceback": [
            "\u001b[0;31m---------------------------------------------------------------------------\u001b[0m",
            "\u001b[0;31mNameError\u001b[0m                                 Traceback (most recent call last)",
            "\u001b[0;32m<ipython-input-15-f60baca53565>\u001b[0m in \u001b[0;36m<module>\u001b[0;34m()\u001b[0m\n\u001b[0;32m----> 1\u001b[0;31m \u001b[0mtrain_record_fname\u001b[0m \u001b[0;34m=\u001b[0m \u001b[0mfiles\u001b[0m\u001b[0;34m.\u001b[0m\u001b[0mupload\u001b[0m\u001b[0;34m(\u001b[0m\u001b[0;34m)\u001b[0m\u001b[0;34m\u001b[0m\u001b[0;34m\u001b[0m\u001b[0m\n\u001b[0m",
            "\u001b[0;31mNameError\u001b[0m: name 'files' is not defined"
          ]
        }
      ]
    },
    {
      "cell_type": "code",
      "metadata": {
        "id": "lUP4jV7OiKgi"
      },
      "source": [
        "label_map_pbtxt_fname = files.upload()"
      ],
      "execution_count": null,
      "outputs": []
    },
    {
      "cell_type": "code",
      "metadata": {
        "id": "ej_HCIghk0ZM"
      },
      "source": [
        "test_record_fname = '/content/models/research/test.record'\n",
        "train_record_fname = '/content/models/research/train.record'\n",
        "label_map_pbtxt_fname = '/content/models/research/object-detection.pbtxt'"
      ],
      "execution_count": 16,
      "outputs": []
    },
    {
      "cell_type": "code",
      "metadata": {
        "id": "eVV1oLSAlBRe",
        "outputId": "31d5411a-af3e-4d27-dd14-7e2bbc0edc59",
        "colab": {
          "base_uri": "https://localhost:8080/",
          "height": 34
        }
      },
      "source": [
        "%cd /content/models/research\n"
      ],
      "execution_count": 17,
      "outputs": [
        {
          "output_type": "stream",
          "text": [
            "/content/models/research\n"
          ],
          "name": "stdout"
        }
      ]
    },
    {
      "cell_type": "code",
      "metadata": {
        "id": "dDYCg5kBlUZm"
      },
      "source": [
        "import os\n",
        "import shutil\n",
        "import glob\n",
        "import urllib.request\n",
        "import tarfile\n",
        "MODEL_FILE = MODEL + '.tar.gz'\n",
        "DOWNLOAD_BASE = 'http://download.tensorflow.org/models/object_detection/'\n",
        "DEST_DIR = '/content/models/research/pretrained_model'\n",
        "\n",
        "if not (os.path.exists(MODEL_FILE)):\n",
        "    urllib.request.urlretrieve(DOWNLOAD_BASE + MODEL_FILE, MODEL_FILE)\n",
        "\n",
        "tar = tarfile.open(MODEL_FILE)\n",
        "tar.extractall()\n",
        "tar.close()\n",
        "\n",
        "os.remove(MODEL_FILE)\n",
        "if (os.path.exists(DEST_DIR)):\n",
        "    shutil.rmtree(DEST_DIR)\n",
        "os.rename(MODEL, DEST_DIR)"
      ],
      "execution_count": 18,
      "outputs": []
    },
    {
      "cell_type": "code",
      "metadata": {
        "id": "R-7Tb9WVlaTG",
        "outputId": "42c191d7-b275-4b59-dc42-ef2f07f42b26",
        "colab": {
          "base_uri": "https://localhost:8080/",
          "height": 204
        }
      },
      "source": [
        "!echo {DEST_DIR}\n",
        "!ls -alh {DEST_DIR}"
      ],
      "execution_count": 19,
      "outputs": [
        {
          "output_type": "stream",
          "text": [
            "/content/models/research/pretrained_model\n",
            "total 135M\n",
            "drwxr-xr-x  3 345018 89939 4.0K Mar 30  2018 .\n",
            "drwxr-xr-x 24 root   root  4.0K Sep 26 12:14 ..\n",
            "-rw-r--r--  1 345018 89939   77 Mar 30  2018 checkpoint\n",
            "-rw-r--r--  1 345018 89939  67M Mar 30  2018 frozen_inference_graph.pb\n",
            "-rw-r--r--  1 345018 89939  65M Mar 30  2018 model.ckpt.data-00000-of-00001\n",
            "-rw-r--r--  1 345018 89939  15K Mar 30  2018 model.ckpt.index\n",
            "-rw-r--r--  1 345018 89939 3.4M Mar 30  2018 model.ckpt.meta\n",
            "-rw-r--r--  1 345018 89939 4.2K Mar 30  2018 pipeline.config\n",
            "drwxr-xr-x  3 345018 89939 4.0K Mar 30  2018 saved_model\n"
          ],
          "name": "stdout"
        }
      ]
    },
    {
      "cell_type": "code",
      "metadata": {
        "id": "7n38N1nWld-Z",
        "outputId": "0a0082ee-34f5-4524-c900-c3d51eea7ef8",
        "colab": {
          "base_uri": "https://localhost:8080/",
          "height": 35
        }
      },
      "source": [
        "fine_tune_checkpoint = os.path.join(DEST_DIR, \"model.ckpt\")\n",
        "fine_tune_checkpoint"
      ],
      "execution_count": 20,
      "outputs": [
        {
          "output_type": "execute_result",
          "data": {
            "application/vnd.google.colaboratory.intrinsic+json": {
              "type": "string"
            },
            "text/plain": [
              "'/content/models/research/pretrained_model/model.ckpt'"
            ]
          },
          "metadata": {
            "tags": []
          },
          "execution_count": 20
        }
      ]
    },
    {
      "cell_type": "code",
      "metadata": {
        "id": "IrFfyaq3lhXD"
      },
      "source": [
        ""
      ],
      "execution_count": 20,
      "outputs": []
    },
    {
      "cell_type": "markdown",
      "metadata": {
        "id": "vlOgyZa3lkVh"
      },
      "source": [
        "## Configuring a Training Pipeline"
      ]
    },
    {
      "cell_type": "code",
      "metadata": {
        "id": "YE5m7jnGlpqU"
      },
      "source": [
        "import os\n",
        "pipeline_fname = os.path.join('/content/models/research/object_detection/samples/configs/', pipeline_file)\n",
        "\n",
        "assert os.path.isfile(pipeline_fname), '`{}` not exist'.format(pipeline_fname)"
      ],
      "execution_count": 21,
      "outputs": []
    },
    {
      "cell_type": "code",
      "metadata": {
        "id": "bfaNKmaMl205"
      },
      "source": [
        "def get_num_classes(pbtxt_fname):\n",
        "    from object_detection.utils import label_map_util\n",
        "    label_map = label_map_util.load_labelmap(pbtxt_fname)\n",
        "    categories = label_map_util.convert_label_map_to_categories(\n",
        "        label_map, max_num_classes=90, use_display_name=True)\n",
        "    category_index = label_map_util.create_category_index(categories)\n",
        "    return len(category_index.keys())"
      ],
      "execution_count": 22,
      "outputs": []
    },
    {
      "cell_type": "code",
      "metadata": {
        "id": "cTSPHO2fl8EZ"
      },
      "source": [
        "import re\n",
        "\n",
        "num_classes = get_num_classes(label_map_pbtxt_fname)\n",
        "with open(pipeline_fname) as f:\n",
        "    s = f.read()\n",
        "with open(pipeline_fname, 'w') as f:\n",
        "    \n",
        "    # fine_tune_checkpoint\n",
        "    s = re.sub('fine_tune_checkpoint: \".*?\"',\n",
        "               'fine_tune_checkpoint: \"{}\"'.format(fine_tune_checkpoint), s)\n",
        "    \n",
        "    # tfrecord files train and test.\n",
        "    s = re.sub(\n",
        "        '(input_path: \".*?)(train.record)(.*?\")', 'input_path: \"{}\"'.format(train_record_fname), s)\n",
        "    s = re.sub(\n",
        "        '(input_path: \".*?)(val.record)(.*?\")', 'input_path: \"{}\"'.format(test_record_fname), s)\n",
        "\n",
        "    # label_map_path\n",
        "    s = re.sub(\n",
        "        'label_map_path: \".*?\"', 'label_map_path: \"{}\"'.format(label_map_pbtxt_fname), s)\n",
        "\n",
        "    # Set training batch_size.\n",
        "    s = re.sub('batch_size: [0-9]+',\n",
        "               'batch_size: {}'.format(batch_size), s)\n",
        "\n",
        "    # Set training steps, num_steps\n",
        "    s = re.sub('num_steps: [0-9]+',\n",
        "               'num_steps: {}'.format(num_steps), s)\n",
        "    \n",
        "    # Set number of classes num_classes.\n",
        "    s = re.sub('num_classes: [0-9]+',\n",
        "               'num_classes: {}'.format(num_classes), s)\n",
        "    f.write(s)"
      ],
      "execution_count": 23,
      "outputs": []
    },
    {
      "cell_type": "code",
      "metadata": {
        "id": "W275k33ll-6d"
      },
      "source": [
        "!cat {pipeline_fname}"
      ],
      "execution_count": null,
      "outputs": []
    },
    {
      "cell_type": "code",
      "metadata": {
        "id": "LwFmwzvpmC48"
      },
      "source": [
        "model_dir = 'training/'\n",
        "# Optionally remove content in output model directory to fresh start.\n",
        "!rm -rf {model_dir}\n",
        "os.makedirs(model_dir, exist_ok=True)"
      ],
      "execution_count": 25,
      "outputs": []
    },
    {
      "cell_type": "code",
      "metadata": {
        "id": "PFR1cVakmG-4",
        "outputId": "79097837-d8fe-44bf-d2cc-9721f44431f4",
        "colab": {
          "base_uri": "https://localhost:8080/",
          "height": 1000
        }
      },
      "source": [
        "!python /content/models/research/object_detection/model_main.py \\\n",
        "    --pipeline_config_path={pipeline_fname} \\\n",
        "    --model_dir={model_dir} \\\n",
        "    --alsologtostderr \\\n",
        "    --num_train_steps={num_steps} \\\n",
        "    --num_eval_steps={num_eval_steps}"
      ],
      "execution_count": null,
      "outputs": [
        {
          "output_type": "stream",
          "text": [
            "WARNING:tensorflow:Forced number of epochs for all eval validations to be 1.\n",
            "W0926 13:26:56.868912 140207035189120 model_lib.py:771] Forced number of epochs for all eval validations to be 1.\n",
            "INFO:tensorflow:Maybe overwriting train_steps: 200000\n",
            "I0926 13:26:56.869208 140207035189120 config_util.py:552] Maybe overwriting train_steps: 200000\n",
            "INFO:tensorflow:Maybe overwriting use_bfloat16: False\n",
            "I0926 13:26:56.869322 140207035189120 config_util.py:552] Maybe overwriting use_bfloat16: False\n",
            "INFO:tensorflow:Maybe overwriting sample_1_of_n_eval_examples: 1\n",
            "I0926 13:26:56.869413 140207035189120 config_util.py:552] Maybe overwriting sample_1_of_n_eval_examples: 1\n",
            "INFO:tensorflow:Maybe overwriting eval_num_epochs: 1\n",
            "I0926 13:26:56.869504 140207035189120 config_util.py:552] Maybe overwriting eval_num_epochs: 1\n",
            "WARNING:tensorflow:Expected number of evaluation epochs is 1, but instead encountered `eval_on_train_input_config.num_epochs` = 0. Overwriting `num_epochs` to 1.\n",
            "W0926 13:26:56.869625 140207035189120 model_lib.py:787] Expected number of evaluation epochs is 1, but instead encountered `eval_on_train_input_config.num_epochs` = 0. Overwriting `num_epochs` to 1.\n",
            "INFO:tensorflow:create_estimator_and_inputs: use_tpu False, export_to_tpu None\n",
            "I0926 13:26:56.869782 140207035189120 model_lib.py:822] create_estimator_and_inputs: use_tpu False, export_to_tpu None\n",
            "INFO:tensorflow:Using config: {'_model_dir': 'training/', '_tf_random_seed': None, '_save_summary_steps': 100, '_save_checkpoints_steps': None, '_save_checkpoints_secs': 600, '_session_config': allow_soft_placement: true\n",
            "graph_options {\n",
            "  rewrite_options {\n",
            "    meta_optimizer_iterations: ONE\n",
            "  }\n",
            "}\n",
            ", '_keep_checkpoint_max': 5, '_keep_checkpoint_every_n_hours': 10000, '_log_step_count_steps': 100, '_train_distribute': None, '_device_fn': None, '_protocol': None, '_eval_distribute': None, '_experimental_distribute': None, '_experimental_max_worker_delay_secs': None, '_session_creation_timeout_secs': 7200, '_service': None, '_cluster_spec': <tensorflow.python.training.server_lib.ClusterSpec object at 0x7f8412e923c8>, '_task_type': 'worker', '_task_id': 0, '_global_id_in_cluster': 0, '_master': '', '_evaluation_master': '', '_is_chief': True, '_num_ps_replicas': 0, '_num_worker_replicas': 1}\n",
            "I0926 13:26:56.870333 140207035189120 estimator.py:212] Using config: {'_model_dir': 'training/', '_tf_random_seed': None, '_save_summary_steps': 100, '_save_checkpoints_steps': None, '_save_checkpoints_secs': 600, '_session_config': allow_soft_placement: true\n",
            "graph_options {\n",
            "  rewrite_options {\n",
            "    meta_optimizer_iterations: ONE\n",
            "  }\n",
            "}\n",
            ", '_keep_checkpoint_max': 5, '_keep_checkpoint_every_n_hours': 10000, '_log_step_count_steps': 100, '_train_distribute': None, '_device_fn': None, '_protocol': None, '_eval_distribute': None, '_experimental_distribute': None, '_experimental_max_worker_delay_secs': None, '_session_creation_timeout_secs': 7200, '_service': None, '_cluster_spec': <tensorflow.python.training.server_lib.ClusterSpec object at 0x7f8412e923c8>, '_task_type': 'worker', '_task_id': 0, '_global_id_in_cluster': 0, '_master': '', '_evaluation_master': '', '_is_chief': True, '_num_ps_replicas': 0, '_num_worker_replicas': 1}\n",
            "WARNING:tensorflow:Estimator's model_fn (<function create_model_fn.<locals>.model_fn at 0x7f8412e918c8>) includes params argument, but params are not passed to Estimator.\n",
            "W0926 13:26:56.870623 140207035189120 model_fn.py:630] Estimator's model_fn (<function create_model_fn.<locals>.model_fn at 0x7f8412e918c8>) includes params argument, but params are not passed to Estimator.\n",
            "INFO:tensorflow:Not using Distribute Coordinator.\n",
            "I0926 13:26:56.871681 140207035189120 estimator_training.py:186] Not using Distribute Coordinator.\n",
            "INFO:tensorflow:Running training and evaluation locally (non-distributed).\n",
            "I0926 13:26:56.871927 140207035189120 training.py:612] Running training and evaluation locally (non-distributed).\n",
            "INFO:tensorflow:Start train and evaluate loop. The evaluate will happen after every checkpoint. Checkpoint frequency is determined based on RunConfig arguments: save_checkpoints_steps None or save_checkpoints_secs 600.\n",
            "I0926 13:26:56.872241 140207035189120 training.py:700] Start train and evaluate loop. The evaluate will happen after every checkpoint. Checkpoint frequency is determined based on RunConfig arguments: save_checkpoints_steps None or save_checkpoints_secs 600.\n",
            "WARNING:tensorflow:From /tensorflow-1.15.2/python3.6/tensorflow_core/python/training/training_util.py:236: Variable.initialized_value (from tensorflow.python.ops.variables) is deprecated and will be removed in a future version.\n",
            "Instructions for updating:\n",
            "Use Variable.read_value. Variables in 2.X are initialized automatically both in eager and graph (inside tf.defun) contexts.\n",
            "W0926 13:26:56.883414 140207035189120 deprecation.py:323] From /tensorflow-1.15.2/python3.6/tensorflow_core/python/training/training_util.py:236: Variable.initialized_value (from tensorflow.python.ops.variables) is deprecated and will be removed in a future version.\n",
            "Instructions for updating:\n",
            "Use Variable.read_value. Variables in 2.X are initialized automatically both in eager and graph (inside tf.defun) contexts.\n",
            "WARNING:tensorflow:num_readers has been reduced to 1 to match input file shards.\n",
            "W0926 13:26:56.923950 140207035189120 dataset_builder.py:83] num_readers has been reduced to 1 to match input file shards.\n",
            "WARNING:tensorflow:From /content/models/research/object_detection/builders/dataset_builder.py:100: parallel_interleave (from tensorflow.python.data.experimental.ops.interleave_ops) is deprecated and will be removed in a future version.\n",
            "Instructions for updating:\n",
            "Use `tf.data.Dataset.interleave(map_func, cycle_length, block_length, num_parallel_calls=tf.data.experimental.AUTOTUNE)` instead. If sloppy execution is desired, use `tf.data.Options.experimental_determinstic`.\n",
            "W0926 13:26:56.929983 140207035189120 deprecation.py:323] From /content/models/research/object_detection/builders/dataset_builder.py:100: parallel_interleave (from tensorflow.python.data.experimental.ops.interleave_ops) is deprecated and will be removed in a future version.\n",
            "Instructions for updating:\n",
            "Use `tf.data.Dataset.interleave(map_func, cycle_length, block_length, num_parallel_calls=tf.data.experimental.AUTOTUNE)` instead. If sloppy execution is desired, use `tf.data.Options.experimental_determinstic`.\n",
            "WARNING:tensorflow:From /content/models/research/object_detection/builders/dataset_builder.py:175: DatasetV1.map_with_legacy_function (from tensorflow.python.data.ops.dataset_ops) is deprecated and will be removed in a future version.\n",
            "Instructions for updating:\n",
            "Use `tf.data.Dataset.map()\n",
            "W0926 13:26:56.952638 140207035189120 deprecation.py:323] From /content/models/research/object_detection/builders/dataset_builder.py:175: DatasetV1.map_with_legacy_function (from tensorflow.python.data.ops.dataset_ops) is deprecated and will be removed in a future version.\n",
            "Instructions for updating:\n",
            "Use `tf.data.Dataset.map()\n",
            "WARNING:tensorflow:Entity <bound method TfExampleDecoder.decode of <object_detection.data_decoders.tf_example_decoder.TfExampleDecoder object at 0x7f8412e92ef0>> could not be transformed and will be executed as-is. Please report this to the AutoGraph team. When filing the bug, set the verbosity to 10 (on Linux, `export AUTOGRAPH_VERBOSITY=10`) and attach the full output. Cause: module 'gast' has no attribute 'Num'\n",
            "W0926 13:26:56.989413 140207035189120 ag_logging.py:146] Entity <bound method TfExampleDecoder.decode of <object_detection.data_decoders.tf_example_decoder.TfExampleDecoder object at 0x7f8412e92ef0>> could not be transformed and will be executed as-is. Please report this to the AutoGraph team. When filing the bug, set the verbosity to 10 (on Linux, `export AUTOGRAPH_VERBOSITY=10`) and attach the full output. Cause: module 'gast' has no attribute 'Num'\n",
            "WARNING:tensorflow:Entity <function train_input.<locals>.transform_and_pad_input_data_fn at 0x7f843253a598> could not be transformed and will be executed as-is. Please report this to the AutoGraph team. When filing the bug, set the verbosity to 10 (on Linux, `export AUTOGRAPH_VERBOSITY=10`) and attach the full output. Cause: Bad argument number for Name: 3, expecting 4\n",
            "W0926 13:26:57.189851 140207035189120 ag_logging.py:146] Entity <function train_input.<locals>.transform_and_pad_input_data_fn at 0x7f843253a598> could not be transformed and will be executed as-is. Please report this to the AutoGraph team. When filing the bug, set the verbosity to 10 (on Linux, `export AUTOGRAPH_VERBOSITY=10`) and attach the full output. Cause: Bad argument number for Name: 3, expecting 4\n",
            "WARNING:tensorflow:From /content/models/research/object_detection/inputs.py:80: sparse_to_dense (from tensorflow.python.ops.sparse_ops) is deprecated and will be removed in a future version.\n",
            "Instructions for updating:\n",
            "Create a `tf.sparse.SparseTensor` and use `tf.sparse.to_dense` instead.\n",
            "W0926 13:26:57.196535 140207035189120 deprecation.py:323] From /content/models/research/object_detection/inputs.py:80: sparse_to_dense (from tensorflow.python.ops.sparse_ops) is deprecated and will be removed in a future version.\n",
            "Instructions for updating:\n",
            "Create a `tf.sparse.SparseTensor` and use `tf.sparse.to_dense` instead.\n",
            "WARNING:tensorflow:From /content/models/research/object_detection/utils/ops.py:493: where (from tensorflow.python.ops.array_ops) is deprecated and will be removed in a future version.\n",
            "Instructions for updating:\n",
            "Use tf.where in 2.0, which has the same broadcast rule as np.where\n",
            "W0926 13:26:57.204373 140207035189120 deprecation.py:323] From /content/models/research/object_detection/utils/ops.py:493: where (from tensorflow.python.ops.array_ops) is deprecated and will be removed in a future version.\n",
            "Instructions for updating:\n",
            "Use tf.where in 2.0, which has the same broadcast rule as np.where\n",
            "WARNING:tensorflow:From /content/models/research/object_detection/core/preprocessor.py:199: sample_distorted_bounding_box (from tensorflow.python.ops.image_ops_impl) is deprecated and will be removed in a future version.\n",
            "Instructions for updating:\n",
            "`seed2` arg is deprecated.Use sample_distorted_bounding_box_v2 instead.\n",
            "W0926 13:26:57.300548 140207035189120 deprecation.py:323] From /content/models/research/object_detection/core/preprocessor.py:199: sample_distorted_bounding_box (from tensorflow.python.ops.image_ops_impl) is deprecated and will be removed in a future version.\n",
            "Instructions for updating:\n",
            "`seed2` arg is deprecated.Use sample_distorted_bounding_box_v2 instead.\n",
            "WARNING:tensorflow:From /content/models/research/object_detection/inputs.py:261: to_float (from tensorflow.python.ops.math_ops) is deprecated and will be removed in a future version.\n",
            "Instructions for updating:\n",
            "Use `tf.cast` instead.\n",
            "W0926 13:26:58.258333 140207035189120 deprecation.py:323] From /content/models/research/object_detection/inputs.py:261: to_float (from tensorflow.python.ops.math_ops) is deprecated and will be removed in a future version.\n",
            "Instructions for updating:\n",
            "Use `tf.cast` instead.\n",
            "INFO:tensorflow:Calling model_fn.\n",
            "I0926 13:26:58.716365 140207035189120 estimator.py:1148] Calling model_fn.\n",
            "WARNING:tensorflow:From /usr/local/lib/python3.6/dist-packages/tf_slim/layers/layers.py:1089: Layer.apply (from tensorflow.python.keras.engine.base_layer) is deprecated and will be removed in a future version.\n",
            "Instructions for updating:\n",
            "Please use `layer.__call__` method instead.\n",
            "W0926 13:26:58.743408 140207035189120 deprecation.py:323] From /usr/local/lib/python3.6/dist-packages/tf_slim/layers/layers.py:1089: Layer.apply (from tensorflow.python.keras.engine.base_layer) is deprecated and will be removed in a future version.\n",
            "Instructions for updating:\n",
            "Please use `layer.__call__` method instead.\n",
            "INFO:tensorflow:depth of additional conv before box predictor: 0\n",
            "I0926 13:27:01.595077 140207035189120 convolutional_box_predictor.py:156] depth of additional conv before box predictor: 0\n",
            "INFO:tensorflow:depth of additional conv before box predictor: 0\n",
            "I0926 13:27:01.629487 140207035189120 convolutional_box_predictor.py:156] depth of additional conv before box predictor: 0\n",
            "INFO:tensorflow:depth of additional conv before box predictor: 0\n",
            "I0926 13:27:01.665269 140207035189120 convolutional_box_predictor.py:156] depth of additional conv before box predictor: 0\n",
            "INFO:tensorflow:depth of additional conv before box predictor: 0\n",
            "I0926 13:27:01.706375 140207035189120 convolutional_box_predictor.py:156] depth of additional conv before box predictor: 0\n",
            "INFO:tensorflow:depth of additional conv before box predictor: 0\n",
            "I0926 13:27:01.738342 140207035189120 convolutional_box_predictor.py:156] depth of additional conv before box predictor: 0\n",
            "INFO:tensorflow:depth of additional conv before box predictor: 0\n",
            "I0926 13:27:01.770815 140207035189120 convolutional_box_predictor.py:156] depth of additional conv before box predictor: 0\n",
            "WARNING:tensorflow:From /tensorflow-1.15.2/python3.6/tensorflow_core/python/training/rmsprop.py:119: calling Ones.__init__ (from tensorflow.python.ops.init_ops) with dtype is deprecated and will be removed in a future version.\n",
            "Instructions for updating:\n",
            "Call initializer instance with the dtype argument instead of passing it to the constructor\n",
            "W0926 13:27:03.748414 140207035189120 deprecation.py:506] From /tensorflow-1.15.2/python3.6/tensorflow_core/python/training/rmsprop.py:119: calling Ones.__init__ (from tensorflow.python.ops.init_ops) with dtype is deprecated and will be removed in a future version.\n",
            "Instructions for updating:\n",
            "Call initializer instance with the dtype argument instead of passing it to the constructor\n",
            "INFO:tensorflow:Done calling model_fn.\n",
            "I0926 13:27:10.336552 140207035189120 estimator.py:1150] Done calling model_fn.\n",
            "INFO:tensorflow:Create CheckpointSaverHook.\n",
            "I0926 13:27:10.338096 140207035189120 basic_session_run_hooks.py:541] Create CheckpointSaverHook.\n",
            "INFO:tensorflow:Graph was finalized.\n",
            "I0926 13:27:13.354488 140207035189120 monitored_session.py:240] Graph was finalized.\n",
            "2020-09-26 13:27:13.359724: I tensorflow/core/platform/profile_utils/cpu_utils.cc:94] CPU Frequency: 2200000000 Hz\n",
            "2020-09-26 13:27:13.359952: I tensorflow/compiler/xla/service/service.cc:168] XLA service 0x130d0f40 initialized for platform Host (this does not guarantee that XLA will be used). Devices:\n",
            "2020-09-26 13:27:13.359988: I tensorflow/compiler/xla/service/service.cc:176]   StreamExecutor device (0): Host, Default Version\n",
            "2020-09-26 13:27:13.362077: I tensorflow/stream_executor/platform/default/dso_loader.cc:44] Successfully opened dynamic library libcuda.so.1\n",
            "2020-09-26 13:27:13.509759: I tensorflow/stream_executor/cuda/cuda_gpu_executor.cc:983] successful NUMA node read from SysFS had negative value (-1), but there must be at least one NUMA node, so returning NUMA node zero\n",
            "2020-09-26 13:27:13.510495: I tensorflow/compiler/xla/service/service.cc:168] XLA service 0x130d0d80 initialized for platform CUDA (this does not guarantee that XLA will be used). Devices:\n",
            "2020-09-26 13:27:13.510528: I tensorflow/compiler/xla/service/service.cc:176]   StreamExecutor device (0): Tesla T4, Compute Capability 7.5\n",
            "2020-09-26 13:27:13.510755: I tensorflow/stream_executor/cuda/cuda_gpu_executor.cc:983] successful NUMA node read from SysFS had negative value (-1), but there must be at least one NUMA node, so returning NUMA node zero\n",
            "2020-09-26 13:27:13.511316: I tensorflow/core/common_runtime/gpu/gpu_device.cc:1639] Found device 0 with properties: \n",
            "name: Tesla T4 major: 7 minor: 5 memoryClockRate(GHz): 1.59\n",
            "pciBusID: 0000:00:04.0\n",
            "2020-09-26 13:27:13.511673: I tensorflow/stream_executor/platform/default/dso_loader.cc:44] Successfully opened dynamic library libcudart.so.10.1\n",
            "2020-09-26 13:27:13.513244: I tensorflow/stream_executor/platform/default/dso_loader.cc:44] Successfully opened dynamic library libcublas.so.10\n",
            "2020-09-26 13:27:13.514960: I tensorflow/stream_executor/platform/default/dso_loader.cc:44] Successfully opened dynamic library libcufft.so.10\n",
            "2020-09-26 13:27:13.515316: I tensorflow/stream_executor/platform/default/dso_loader.cc:44] Successfully opened dynamic library libcurand.so.10\n",
            "2020-09-26 13:27:13.517138: I tensorflow/stream_executor/platform/default/dso_loader.cc:44] Successfully opened dynamic library libcusolver.so.10\n",
            "2020-09-26 13:27:13.517970: I tensorflow/stream_executor/platform/default/dso_loader.cc:44] Successfully opened dynamic library libcusparse.so.10\n",
            "2020-09-26 13:27:13.521348: I tensorflow/stream_executor/platform/default/dso_loader.cc:44] Successfully opened dynamic library libcudnn.so.7\n",
            "2020-09-26 13:27:13.521488: I tensorflow/stream_executor/cuda/cuda_gpu_executor.cc:983] successful NUMA node read from SysFS had negative value (-1), but there must be at least one NUMA node, so returning NUMA node zero\n",
            "2020-09-26 13:27:13.522144: I tensorflow/stream_executor/cuda/cuda_gpu_executor.cc:983] successful NUMA node read from SysFS had negative value (-1), but there must be at least one NUMA node, so returning NUMA node zero\n",
            "2020-09-26 13:27:13.522706: I tensorflow/core/common_runtime/gpu/gpu_device.cc:1767] Adding visible gpu devices: 0\n",
            "2020-09-26 13:27:13.522772: I tensorflow/stream_executor/platform/default/dso_loader.cc:44] Successfully opened dynamic library libcudart.so.10.1\n",
            "2020-09-26 13:27:13.524086: I tensorflow/core/common_runtime/gpu/gpu_device.cc:1180] Device interconnect StreamExecutor with strength 1 edge matrix:\n",
            "2020-09-26 13:27:13.524113: I tensorflow/core/common_runtime/gpu/gpu_device.cc:1186]      0 \n",
            "2020-09-26 13:27:13.524124: I tensorflow/core/common_runtime/gpu/gpu_device.cc:1199] 0:   N \n",
            "2020-09-26 13:27:13.524257: I tensorflow/stream_executor/cuda/cuda_gpu_executor.cc:983] successful NUMA node read from SysFS had negative value (-1), but there must be at least one NUMA node, so returning NUMA node zero\n",
            "2020-09-26 13:27:13.524912: I tensorflow/stream_executor/cuda/cuda_gpu_executor.cc:983] successful NUMA node read from SysFS had negative value (-1), but there must be at least one NUMA node, so returning NUMA node zero\n",
            "2020-09-26 13:27:13.525482: W tensorflow/core/common_runtime/gpu/gpu_bfc_allocator.cc:39] Overriding allow_growth setting because the TF_FORCE_GPU_ALLOW_GROWTH environment variable is set. Original config value was 0.\n",
            "2020-09-26 13:27:13.525526: I tensorflow/core/common_runtime/gpu/gpu_device.cc:1325] Created TensorFlow device (/job:localhost/replica:0/task:0/device:GPU:0 with 14221 MB memory) -> physical GPU (device: 0, name: Tesla T4, pci bus id: 0000:00:04.0, compute capability: 7.5)\n",
            "INFO:tensorflow:Restoring parameters from training/model.ckpt-5000\n",
            "I0926 13:27:13.527939 140207035189120 saver.py:1284] Restoring parameters from training/model.ckpt-5000\n",
            "WARNING:tensorflow:From /tensorflow-1.15.2/python3.6/tensorflow_core/python/training/saver.py:1069: get_checkpoint_mtimes (from tensorflow.python.training.checkpoint_management) is deprecated and will be removed in a future version.\n",
            "Instructions for updating:\n",
            "Use standard file utilities to get mtimes.\n",
            "W0926 13:27:15.862731 140207035189120 deprecation.py:323] From /tensorflow-1.15.2/python3.6/tensorflow_core/python/training/saver.py:1069: get_checkpoint_mtimes (from tensorflow.python.training.checkpoint_management) is deprecated and will be removed in a future version.\n",
            "Instructions for updating:\n",
            "Use standard file utilities to get mtimes.\n",
            "INFO:tensorflow:Running local_init_op.\n",
            "I0926 13:27:17.071994 140207035189120 session_manager.py:500] Running local_init_op.\n",
            "INFO:tensorflow:Done running local_init_op.\n",
            "I0926 13:27:17.357614 140207035189120 session_manager.py:502] Done running local_init_op.\n",
            "INFO:tensorflow:Saving checkpoints for 5000 into training/model.ckpt.\n",
            "I0926 13:27:25.237396 140207035189120 basic_session_run_hooks.py:606] Saving checkpoints for 5000 into training/model.ckpt.\n",
            "2020-09-26 13:27:32.439052: I tensorflow/stream_executor/platform/default/dso_loader.cc:44] Successfully opened dynamic library libcudnn.so.7\n",
            "2020-09-26 13:27:34.379215: I tensorflow/stream_executor/platform/default/dso_loader.cc:44] Successfully opened dynamic library libcublas.so.10\n",
            "INFO:tensorflow:loss = 10.6863365, step = 5000\n",
            "I0926 13:27:36.189085 140207035189120 basic_session_run_hooks.py:262] loss = 10.6863365, step = 5000\n",
            "INFO:tensorflow:global_step/sec: 12.4709\n",
            "I0926 13:27:44.206838 140207035189120 basic_session_run_hooks.py:692] global_step/sec: 12.4709\n",
            "INFO:tensorflow:loss = 10.245661, step = 5100 (8.019 sec)\n",
            "I0926 13:27:44.208089 140207035189120 basic_session_run_hooks.py:260] loss = 10.245661, step = 5100 (8.019 sec)\n",
            "INFO:tensorflow:global_step/sec: 20.1662\n",
            "I0926 13:27:49.165544 140207035189120 basic_session_run_hooks.py:692] global_step/sec: 20.1662\n",
            "INFO:tensorflow:loss = 10.026607, step = 5200 (4.959 sec)\n",
            "I0926 13:27:49.166903 140207035189120 basic_session_run_hooks.py:260] loss = 10.026607, step = 5200 (4.959 sec)\n",
            "INFO:tensorflow:global_step/sec: 20.3731\n",
            "I0926 13:27:54.073995 140207035189120 basic_session_run_hooks.py:692] global_step/sec: 20.3731\n",
            "INFO:tensorflow:loss = 9.163813, step = 5300 (4.908 sec)\n",
            "I0926 13:27:54.075115 140207035189120 basic_session_run_hooks.py:260] loss = 9.163813, step = 5300 (4.908 sec)\n",
            "INFO:tensorflow:global_step/sec: 20.2362\n",
            "I0926 13:27:59.015642 140207035189120 basic_session_run_hooks.py:692] global_step/sec: 20.2362\n",
            "INFO:tensorflow:loss = 7.0921245, step = 5400 (4.942 sec)\n",
            "I0926 13:27:59.016984 140207035189120 basic_session_run_hooks.py:260] loss = 7.0921245, step = 5400 (4.942 sec)\n",
            "INFO:tensorflow:global_step/sec: 20.3637\n",
            "I0926 13:28:03.926306 140207035189120 basic_session_run_hooks.py:692] global_step/sec: 20.3637\n",
            "INFO:tensorflow:loss = 7.119359, step = 5500 (4.910 sec)\n",
            "I0926 13:28:03.927467 140207035189120 basic_session_run_hooks.py:260] loss = 7.119359, step = 5500 (4.910 sec)\n",
            "INFO:tensorflow:global_step/sec: 20.6002\n",
            "I0926 13:28:08.780668 140207035189120 basic_session_run_hooks.py:692] global_step/sec: 20.6002\n",
            "INFO:tensorflow:loss = 9.381218, step = 5600 (4.854 sec)\n",
            "I0926 13:28:08.781698 140207035189120 basic_session_run_hooks.py:260] loss = 9.381218, step = 5600 (4.854 sec)\n",
            "INFO:tensorflow:global_step/sec: 20.1584\n",
            "I0926 13:28:13.741327 140207035189120 basic_session_run_hooks.py:692] global_step/sec: 20.1584\n",
            "INFO:tensorflow:loss = 2.6195803, step = 5700 (4.961 sec)\n",
            "I0926 13:28:13.742319 140207035189120 basic_session_run_hooks.py:260] loss = 2.6195803, step = 5700 (4.961 sec)\n",
            "INFO:tensorflow:global_step/sec: 20.5889\n",
            "I0926 13:28:18.598352 140207035189120 basic_session_run_hooks.py:692] global_step/sec: 20.5889\n",
            "INFO:tensorflow:loss = 8.989114, step = 5800 (4.857 sec)\n",
            "I0926 13:28:18.599620 140207035189120 basic_session_run_hooks.py:260] loss = 8.989114, step = 5800 (4.857 sec)\n",
            "INFO:tensorflow:global_step/sec: 20.5537\n",
            "I0926 13:28:23.463701 140207035189120 basic_session_run_hooks.py:692] global_step/sec: 20.5537\n",
            "INFO:tensorflow:loss = 9.117862, step = 5900 (4.865 sec)\n",
            "I0926 13:28:23.464957 140207035189120 basic_session_run_hooks.py:260] loss = 9.117862, step = 5900 (4.865 sec)\n",
            "INFO:tensorflow:global_step/sec: 20.4644\n",
            "I0926 13:28:28.350178 140207035189120 basic_session_run_hooks.py:692] global_step/sec: 20.4644\n",
            "INFO:tensorflow:loss = 9.384637, step = 6000 (4.886 sec)\n",
            "I0926 13:28:28.351301 140207035189120 basic_session_run_hooks.py:260] loss = 9.384637, step = 6000 (4.886 sec)\n",
            "INFO:tensorflow:global_step/sec: 20.5146\n",
            "I0926 13:28:33.224792 140207035189120 basic_session_run_hooks.py:692] global_step/sec: 20.5146\n",
            "INFO:tensorflow:loss = 9.612082, step = 6100 (4.875 sec)\n",
            "I0926 13:28:33.225917 140207035189120 basic_session_run_hooks.py:260] loss = 9.612082, step = 6100 (4.875 sec)\n",
            "INFO:tensorflow:global_step/sec: 20.144\n",
            "I0926 13:28:38.189079 140207035189120 basic_session_run_hooks.py:692] global_step/sec: 20.144\n",
            "INFO:tensorflow:loss = 9.622872, step = 6200 (4.964 sec)\n",
            "I0926 13:28:38.190284 140207035189120 basic_session_run_hooks.py:260] loss = 9.622872, step = 6200 (4.964 sec)\n",
            "INFO:tensorflow:global_step/sec: 20.4413\n",
            "I0926 13:28:43.081090 140207035189120 basic_session_run_hooks.py:692] global_step/sec: 20.4413\n",
            "INFO:tensorflow:loss = 10.046777, step = 6300 (4.892 sec)\n",
            "I0926 13:28:43.082151 140207035189120 basic_session_run_hooks.py:260] loss = 10.046777, step = 6300 (4.892 sec)\n",
            "INFO:tensorflow:global_step/sec: 20.5016\n",
            "I0926 13:28:47.958768 140207035189120 basic_session_run_hooks.py:692] global_step/sec: 20.5016\n",
            "INFO:tensorflow:loss = 8.633635, step = 6400 (4.878 sec)\n",
            "I0926 13:28:47.959914 140207035189120 basic_session_run_hooks.py:260] loss = 8.633635, step = 6400 (4.878 sec)\n",
            "INFO:tensorflow:global_step/sec: 20.4708\n",
            "I0926 13:28:52.843791 140207035189120 basic_session_run_hooks.py:692] global_step/sec: 20.4708\n",
            "INFO:tensorflow:loss = 11.628353, step = 6500 (4.885 sec)\n",
            "I0926 13:28:52.844990 140207035189120 basic_session_run_hooks.py:260] loss = 11.628353, step = 6500 (4.885 sec)\n",
            "INFO:tensorflow:global_step/sec: 20.5376\n",
            "I0926 13:28:57.712883 140207035189120 basic_session_run_hooks.py:692] global_step/sec: 20.5376\n",
            "INFO:tensorflow:loss = 9.270846, step = 6600 (4.869 sec)\n",
            "I0926 13:28:57.714000 140207035189120 basic_session_run_hooks.py:260] loss = 9.270846, step = 6600 (4.869 sec)\n",
            "INFO:tensorflow:global_step/sec: 20.2311\n",
            "I0926 13:29:02.655797 140207035189120 basic_session_run_hooks.py:692] global_step/sec: 20.2311\n",
            "INFO:tensorflow:loss = 9.748628, step = 6700 (4.943 sec)\n",
            "I0926 13:29:02.656877 140207035189120 basic_session_run_hooks.py:260] loss = 9.748628, step = 6700 (4.943 sec)\n",
            "INFO:tensorflow:global_step/sec: 20.6544\n",
            "I0926 13:29:07.497341 140207035189120 basic_session_run_hooks.py:692] global_step/sec: 20.6544\n",
            "INFO:tensorflow:loss = 9.360443, step = 6800 (4.842 sec)\n",
            "I0926 13:29:07.498719 140207035189120 basic_session_run_hooks.py:260] loss = 9.360443, step = 6800 (4.842 sec)\n",
            "INFO:tensorflow:global_step/sec: 20.491\n",
            "I0926 13:29:12.377611 140207035189120 basic_session_run_hooks.py:692] global_step/sec: 20.491\n",
            "INFO:tensorflow:loss = 9.667499, step = 6900 (4.880 sec)\n",
            "I0926 13:29:12.378946 140207035189120 basic_session_run_hooks.py:260] loss = 9.667499, step = 6900 (4.880 sec)\n",
            "INFO:tensorflow:global_step/sec: 20.5028\n",
            "I0926 13:29:17.254969 140207035189120 basic_session_run_hooks.py:692] global_step/sec: 20.5028\n",
            "INFO:tensorflow:loss = 11.03275, step = 7000 (4.877 sec)\n",
            "I0926 13:29:17.256354 140207035189120 basic_session_run_hooks.py:260] loss = 11.03275, step = 7000 (4.877 sec)\n",
            "INFO:tensorflow:global_step/sec: 20.4473\n",
            "I0926 13:29:22.145558 140207035189120 basic_session_run_hooks.py:692] global_step/sec: 20.4473\n",
            "INFO:tensorflow:loss = 9.498765, step = 7100 (4.890 sec)\n",
            "I0926 13:29:22.146744 140207035189120 basic_session_run_hooks.py:260] loss = 9.498765, step = 7100 (4.890 sec)\n",
            "INFO:tensorflow:global_step/sec: 20.1733\n",
            "I0926 13:29:27.102618 140207035189120 basic_session_run_hooks.py:692] global_step/sec: 20.1733\n",
            "INFO:tensorflow:loss = 8.81119, step = 7200 (4.957 sec)\n",
            "I0926 13:29:27.103800 140207035189120 basic_session_run_hooks.py:260] loss = 8.81119, step = 7200 (4.957 sec)\n",
            "INFO:tensorflow:global_step/sec: 20.6809\n",
            "I0926 13:29:31.937986 140207035189120 basic_session_run_hooks.py:692] global_step/sec: 20.6809\n",
            "INFO:tensorflow:loss = 10.8165455, step = 7300 (4.835 sec)\n",
            "I0926 13:29:31.939133 140207035189120 basic_session_run_hooks.py:260] loss = 10.8165455, step = 7300 (4.835 sec)\n",
            "INFO:tensorflow:global_step/sec: 20.43\n",
            "I0926 13:29:36.832768 140207035189120 basic_session_run_hooks.py:692] global_step/sec: 20.43\n",
            "INFO:tensorflow:loss = 9.154272, step = 7400 (4.895 sec)\n",
            "I0926 13:29:36.833948 140207035189120 basic_session_run_hooks.py:260] loss = 9.154272, step = 7400 (4.895 sec)\n",
            "INFO:tensorflow:global_step/sec: 19.6579\n",
            "I0926 13:29:41.919790 140207035189120 basic_session_run_hooks.py:692] global_step/sec: 19.6579\n",
            "INFO:tensorflow:loss = 13.31004, step = 7500 (5.087 sec)\n",
            "I0926 13:29:41.921106 140207035189120 basic_session_run_hooks.py:260] loss = 13.31004, step = 7500 (5.087 sec)\n",
            "INFO:tensorflow:global_step/sec: 20.4017\n",
            "I0926 13:29:46.821350 140207035189120 basic_session_run_hooks.py:692] global_step/sec: 20.4017\n",
            "INFO:tensorflow:loss = 9.909792, step = 7600 (4.901 sec)\n",
            "I0926 13:29:46.822503 140207035189120 basic_session_run_hooks.py:260] loss = 9.909792, step = 7600 (4.901 sec)\n",
            "INFO:tensorflow:global_step/sec: 20.4095\n",
            "I0926 13:29:51.721028 140207035189120 basic_session_run_hooks.py:692] global_step/sec: 20.4095\n",
            "INFO:tensorflow:loss = 8.118589, step = 7700 (4.900 sec)\n",
            "I0926 13:29:51.722176 140207035189120 basic_session_run_hooks.py:260] loss = 8.118589, step = 7700 (4.900 sec)\n",
            "INFO:tensorflow:global_step/sec: 20.4232\n",
            "I0926 13:29:56.617409 140207035189120 basic_session_run_hooks.py:692] global_step/sec: 20.4232\n",
            "INFO:tensorflow:loss = 9.946505, step = 7800 (4.897 sec)\n",
            "I0926 13:29:56.618731 140207035189120 basic_session_run_hooks.py:260] loss = 9.946505, step = 7800 (4.897 sec)\n",
            "INFO:tensorflow:global_step/sec: 20.4726\n",
            "I0926 13:30:01.502009 140207035189120 basic_session_run_hooks.py:692] global_step/sec: 20.4726\n",
            "INFO:tensorflow:loss = 9.285147, step = 7900 (4.885 sec)\n",
            "I0926 13:30:01.503268 140207035189120 basic_session_run_hooks.py:260] loss = 9.285147, step = 7900 (4.885 sec)\n",
            "INFO:tensorflow:global_step/sec: 20.5674\n",
            "I0926 13:30:06.364052 140207035189120 basic_session_run_hooks.py:692] global_step/sec: 20.5674\n",
            "INFO:tensorflow:loss = 10.184372, step = 8000 (4.862 sec)\n",
            "I0926 13:30:06.365327 140207035189120 basic_session_run_hooks.py:260] loss = 10.184372, step = 8000 (4.862 sec)\n",
            "INFO:tensorflow:global_step/sec: 20.4217\n",
            "I0926 13:30:11.260893 140207035189120 basic_session_run_hooks.py:692] global_step/sec: 20.4217\n",
            "INFO:tensorflow:loss = 12.2403345, step = 8100 (4.897 sec)\n",
            "I0926 13:30:11.262174 140207035189120 basic_session_run_hooks.py:260] loss = 12.2403345, step = 8100 (4.897 sec)\n",
            "INFO:tensorflow:global_step/sec: 20.0915\n",
            "I0926 13:30:16.238051 140207035189120 basic_session_run_hooks.py:692] global_step/sec: 20.0915\n",
            "INFO:tensorflow:loss = 9.693007, step = 8200 (4.977 sec)\n",
            "I0926 13:30:16.239426 140207035189120 basic_session_run_hooks.py:260] loss = 9.693007, step = 8200 (4.977 sec)\n",
            "INFO:tensorflow:global_step/sec: 20.0438\n",
            "I0926 13:30:21.227152 140207035189120 basic_session_run_hooks.py:692] global_step/sec: 20.0438\n",
            "INFO:tensorflow:loss = 5.9713874, step = 8300 (4.989 sec)\n",
            "I0926 13:30:21.228412 140207035189120 basic_session_run_hooks.py:260] loss = 5.9713874, step = 8300 (4.989 sec)\n",
            "INFO:tensorflow:global_step/sec: 20.1446\n",
            "I0926 13:30:26.191234 140207035189120 basic_session_run_hooks.py:692] global_step/sec: 20.1446\n",
            "INFO:tensorflow:loss = 10.20825, step = 8400 (4.964 sec)\n",
            "I0926 13:30:26.192449 140207035189120 basic_session_run_hooks.py:260] loss = 10.20825, step = 8400 (4.964 sec)\n",
            "INFO:tensorflow:global_step/sec: 19.8355\n",
            "I0926 13:30:31.232728 140207035189120 basic_session_run_hooks.py:692] global_step/sec: 19.8355\n",
            "INFO:tensorflow:loss = 9.861032, step = 8500 (5.041 sec)\n",
            "I0926 13:30:31.233802 140207035189120 basic_session_run_hooks.py:260] loss = 9.861032, step = 8500 (5.041 sec)\n",
            "INFO:tensorflow:global_step/sec: 20.0992\n",
            "I0926 13:30:36.208005 140207035189120 basic_session_run_hooks.py:692] global_step/sec: 20.0992\n",
            "INFO:tensorflow:loss = 9.9956255, step = 8600 (4.975 sec)\n",
            "I0926 13:30:36.209042 140207035189120 basic_session_run_hooks.py:260] loss = 9.9956255, step = 8600 (4.975 sec)\n",
            "INFO:tensorflow:global_step/sec: 20.0133\n",
            "I0926 13:30:41.204731 140207035189120 basic_session_run_hooks.py:692] global_step/sec: 20.0133\n",
            "INFO:tensorflow:loss = 7.9455523, step = 8700 (4.997 sec)\n",
            "I0926 13:30:41.205914 140207035189120 basic_session_run_hooks.py:260] loss = 7.9455523, step = 8700 (4.997 sec)\n",
            "INFO:tensorflow:global_step/sec: 19.713\n",
            "I0926 13:30:46.277535 140207035189120 basic_session_run_hooks.py:692] global_step/sec: 19.713\n",
            "INFO:tensorflow:loss = 8.789925, step = 8800 (5.073 sec)\n",
            "I0926 13:30:46.278755 140207035189120 basic_session_run_hooks.py:260] loss = 8.789925, step = 8800 (5.073 sec)\n",
            "INFO:tensorflow:global_step/sec: 19.7049\n",
            "I0926 13:30:51.352372 140207035189120 basic_session_run_hooks.py:692] global_step/sec: 19.7049\n",
            "INFO:tensorflow:loss = 8.124863, step = 8900 (5.075 sec)\n",
            "I0926 13:30:51.353769 140207035189120 basic_session_run_hooks.py:260] loss = 8.124863, step = 8900 (5.075 sec)\n",
            "INFO:tensorflow:global_step/sec: 19.8005\n",
            "I0926 13:30:56.402814 140207035189120 basic_session_run_hooks.py:692] global_step/sec: 19.8005\n",
            "INFO:tensorflow:loss = 7.9719577, step = 9000 (5.050 sec)\n",
            "I0926 13:30:56.404067 140207035189120 basic_session_run_hooks.py:260] loss = 7.9719577, step = 9000 (5.050 sec)\n",
            "INFO:tensorflow:global_step/sec: 19.9018\n",
            "I0926 13:31:01.427453 140207035189120 basic_session_run_hooks.py:692] global_step/sec: 19.9018\n",
            "INFO:tensorflow:loss = 9.985015, step = 9100 (5.025 sec)\n",
            "I0926 13:31:01.428707 140207035189120 basic_session_run_hooks.py:260] loss = 9.985015, step = 9100 (5.025 sec)\n",
            "INFO:tensorflow:global_step/sec: 19.8709\n",
            "I0926 13:31:06.459930 140207035189120 basic_session_run_hooks.py:692] global_step/sec: 19.8709\n",
            "INFO:tensorflow:loss = 8.681821, step = 9200 (5.032 sec)\n",
            "I0926 13:31:06.461146 140207035189120 basic_session_run_hooks.py:260] loss = 8.681821, step = 9200 (5.032 sec)\n",
            "INFO:tensorflow:global_step/sec: 20.0978\n",
            "I0926 13:31:11.435553 140207035189120 basic_session_run_hooks.py:692] global_step/sec: 20.0978\n",
            "INFO:tensorflow:loss = 9.173239, step = 9300 (4.976 sec)\n",
            "I0926 13:31:11.436877 140207035189120 basic_session_run_hooks.py:260] loss = 9.173239, step = 9300 (4.976 sec)\n",
            "INFO:tensorflow:global_step/sec: 19.8158\n",
            "I0926 13:31:16.482054 140207035189120 basic_session_run_hooks.py:692] global_step/sec: 19.8158\n",
            "INFO:tensorflow:loss = 10.428294, step = 9400 (5.047 sec)\n",
            "I0926 13:31:16.483431 140207035189120 basic_session_run_hooks.py:260] loss = 10.428294, step = 9400 (5.047 sec)\n",
            "INFO:tensorflow:global_step/sec: 20.1268\n",
            "I0926 13:31:21.450536 140207035189120 basic_session_run_hooks.py:692] global_step/sec: 20.1268\n",
            "INFO:tensorflow:loss = 11.525534, step = 9500 (4.969 sec)\n",
            "I0926 13:31:21.451958 140207035189120 basic_session_run_hooks.py:260] loss = 11.525534, step = 9500 (4.969 sec)\n",
            "INFO:tensorflow:global_step/sec: 19.9243\n",
            "I0926 13:31:26.469598 140207035189120 basic_session_run_hooks.py:692] global_step/sec: 19.9243\n",
            "INFO:tensorflow:loss = 8.847037, step = 9600 (5.019 sec)\n",
            "I0926 13:31:26.470621 140207035189120 basic_session_run_hooks.py:260] loss = 8.847037, step = 9600 (5.019 sec)\n",
            "INFO:tensorflow:global_step/sec: 19.7923\n",
            "I0926 13:31:31.522028 140207035189120 basic_session_run_hooks.py:692] global_step/sec: 19.7923\n",
            "INFO:tensorflow:loss = 10.064637, step = 9700 (5.053 sec)\n",
            "I0926 13:31:31.523228 140207035189120 basic_session_run_hooks.py:260] loss = 10.064637, step = 9700 (5.053 sec)\n",
            "INFO:tensorflow:global_step/sec: 20.0742\n",
            "I0926 13:31:36.503557 140207035189120 basic_session_run_hooks.py:692] global_step/sec: 20.0742\n",
            "INFO:tensorflow:loss = 8.504207, step = 9800 (4.982 sec)\n",
            "I0926 13:31:36.504837 140207035189120 basic_session_run_hooks.py:260] loss = 8.504207, step = 9800 (4.982 sec)\n",
            "INFO:tensorflow:global_step/sec: 19.9885\n",
            "I0926 13:31:41.506413 140207035189120 basic_session_run_hooks.py:692] global_step/sec: 19.9885\n",
            "INFO:tensorflow:loss = 8.396009, step = 9900 (5.003 sec)\n",
            "I0926 13:31:41.507709 140207035189120 basic_session_run_hooks.py:260] loss = 8.396009, step = 9900 (5.003 sec)\n",
            "INFO:tensorflow:global_step/sec: 19.8738\n",
            "I0926 13:31:46.538162 140207035189120 basic_session_run_hooks.py:692] global_step/sec: 19.8738\n",
            "INFO:tensorflow:loss = 8.626866, step = 10000 (5.032 sec)\n",
            "I0926 13:31:46.539465 140207035189120 basic_session_run_hooks.py:260] loss = 8.626866, step = 10000 (5.032 sec)\n",
            "INFO:tensorflow:global_step/sec: 20.1558\n",
            "I0926 13:31:51.499606 140207035189120 basic_session_run_hooks.py:692] global_step/sec: 20.1558\n",
            "INFO:tensorflow:loss = 9.187562, step = 10100 (4.961 sec)\n",
            "I0926 13:31:51.500843 140207035189120 basic_session_run_hooks.py:260] loss = 9.187562, step = 10100 (4.961 sec)\n",
            "INFO:tensorflow:global_step/sec: 20.0278\n",
            "I0926 13:31:56.492577 140207035189120 basic_session_run_hooks.py:692] global_step/sec: 20.0278\n",
            "INFO:tensorflow:loss = 9.21346, step = 10200 (4.993 sec)\n",
            "I0926 13:31:56.493746 140207035189120 basic_session_run_hooks.py:260] loss = 9.21346, step = 10200 (4.993 sec)\n",
            "INFO:tensorflow:global_step/sec: 19.8171\n",
            "I0926 13:32:01.538769 140207035189120 basic_session_run_hooks.py:692] global_step/sec: 19.8171\n",
            "INFO:tensorflow:loss = 9.295298, step = 10300 (5.046 sec)\n",
            "I0926 13:32:01.539922 140207035189120 basic_session_run_hooks.py:260] loss = 9.295298, step = 10300 (5.046 sec)\n",
            "INFO:tensorflow:global_step/sec: 19.813\n",
            "I0926 13:32:06.585900 140207035189120 basic_session_run_hooks.py:692] global_step/sec: 19.813\n",
            "INFO:tensorflow:loss = 17.573626, step = 10400 (5.047 sec)\n",
            "I0926 13:32:06.587198 140207035189120 basic_session_run_hooks.py:260] loss = 17.573626, step = 10400 (5.047 sec)\n",
            "INFO:tensorflow:global_step/sec: 20.0651\n",
            "I0926 13:32:11.569713 140207035189120 basic_session_run_hooks.py:692] global_step/sec: 20.0651\n",
            "INFO:tensorflow:loss = 10.933241, step = 10500 (4.984 sec)\n",
            "I0926 13:32:11.570969 140207035189120 basic_session_run_hooks.py:260] loss = 10.933241, step = 10500 (4.984 sec)\n",
            "INFO:tensorflow:global_step/sec: 20.0052\n",
            "I0926 13:32:16.568395 140207035189120 basic_session_run_hooks.py:692] global_step/sec: 20.0052\n",
            "INFO:tensorflow:loss = 9.2348385, step = 10600 (4.999 sec)\n",
            "I0926 13:32:16.569715 140207035189120 basic_session_run_hooks.py:260] loss = 9.2348385, step = 10600 (4.999 sec)\n",
            "INFO:tensorflow:global_step/sec: 19.9069\n",
            "I0926 13:32:21.591783 140207035189120 basic_session_run_hooks.py:692] global_step/sec: 19.9069\n",
            "INFO:tensorflow:loss = 9.726788, step = 10700 (5.023 sec)\n",
            "I0926 13:32:21.592905 140207035189120 basic_session_run_hooks.py:260] loss = 9.726788, step = 10700 (5.023 sec)\n",
            "INFO:tensorflow:global_step/sec: 19.9977\n",
            "I0926 13:32:26.592358 140207035189120 basic_session_run_hooks.py:692] global_step/sec: 19.9977\n",
            "INFO:tensorflow:loss = 9.715173, step = 10800 (5.001 sec)\n",
            "I0926 13:32:26.593615 140207035189120 basic_session_run_hooks.py:260] loss = 9.715173, step = 10800 (5.001 sec)\n",
            "INFO:tensorflow:global_step/sec: 19.8155\n",
            "I0926 13:32:31.638925 140207035189120 basic_session_run_hooks.py:692] global_step/sec: 19.8155\n",
            "INFO:tensorflow:loss = 10.89187, step = 10900 (5.047 sec)\n",
            "I0926 13:32:31.640150 140207035189120 basic_session_run_hooks.py:260] loss = 10.89187, step = 10900 (5.047 sec)\n",
            "INFO:tensorflow:global_step/sec: 19.7418\n",
            "I0926 13:32:36.704290 140207035189120 basic_session_run_hooks.py:692] global_step/sec: 19.7418\n",
            "INFO:tensorflow:loss = 8.711876, step = 11000 (5.065 sec)\n",
            "I0926 13:32:36.705527 140207035189120 basic_session_run_hooks.py:260] loss = 8.711876, step = 11000 (5.065 sec)\n",
            "INFO:tensorflow:global_step/sec: 20.0001\n",
            "I0926 13:32:41.704274 140207035189120 basic_session_run_hooks.py:692] global_step/sec: 20.0001\n",
            "INFO:tensorflow:loss = 10.017751, step = 11100 (5.000 sec)\n",
            "I0926 13:32:41.705579 140207035189120 basic_session_run_hooks.py:260] loss = 10.017751, step = 11100 (5.000 sec)\n",
            "INFO:tensorflow:global_step/sec: 20.1\n",
            "I0926 13:32:46.679399 140207035189120 basic_session_run_hooks.py:692] global_step/sec: 20.1\n",
            "INFO:tensorflow:loss = 11.05351, step = 11200 (4.975 sec)\n",
            "I0926 13:32:46.680625 140207035189120 basic_session_run_hooks.py:260] loss = 11.05351, step = 11200 (4.975 sec)\n",
            "INFO:tensorflow:global_step/sec: 20.1104\n",
            "I0926 13:32:51.651943 140207035189120 basic_session_run_hooks.py:692] global_step/sec: 20.1104\n",
            "INFO:tensorflow:loss = 7.8097224, step = 11300 (4.972 sec)\n",
            "I0926 13:32:51.653115 140207035189120 basic_session_run_hooks.py:260] loss = 7.8097224, step = 11300 (4.972 sec)\n",
            "INFO:tensorflow:global_step/sec: 19.5786\n",
            "I0926 13:32:56.759564 140207035189120 basic_session_run_hooks.py:692] global_step/sec: 19.5786\n",
            "INFO:tensorflow:loss = 7.039628, step = 11400 (5.108 sec)\n",
            "I0926 13:32:56.760912 140207035189120 basic_session_run_hooks.py:260] loss = 7.039628, step = 11400 (5.108 sec)\n",
            "INFO:tensorflow:global_step/sec: 19.6212\n",
            "I0926 13:33:01.856099 140207035189120 basic_session_run_hooks.py:692] global_step/sec: 19.6212\n",
            "INFO:tensorflow:loss = 13.004327, step = 11500 (5.097 sec)\n",
            "I0926 13:33:01.857459 140207035189120 basic_session_run_hooks.py:260] loss = 13.004327, step = 11500 (5.097 sec)\n",
            "INFO:tensorflow:global_step/sec: 19.6665\n",
            "I0926 13:33:06.940888 140207035189120 basic_session_run_hooks.py:692] global_step/sec: 19.6665\n",
            "INFO:tensorflow:loss = 7.898901, step = 11600 (5.085 sec)\n",
            "I0926 13:33:06.942129 140207035189120 basic_session_run_hooks.py:260] loss = 7.898901, step = 11600 (5.085 sec)\n",
            "INFO:tensorflow:global_step/sec: 19.6315\n",
            "I0926 13:33:12.034779 140207035189120 basic_session_run_hooks.py:692] global_step/sec: 19.6315\n",
            "INFO:tensorflow:loss = 9.393317, step = 11700 (5.094 sec)\n",
            "I0926 13:33:12.036024 140207035189120 basic_session_run_hooks.py:260] loss = 9.393317, step = 11700 (5.094 sec)\n",
            "INFO:tensorflow:global_step/sec: 19.7628\n",
            "I0926 13:33:17.094750 140207035189120 basic_session_run_hooks.py:692] global_step/sec: 19.7628\n",
            "INFO:tensorflow:loss = 9.150518, step = 11800 (5.060 sec)\n",
            "I0926 13:33:17.096108 140207035189120 basic_session_run_hooks.py:260] loss = 9.150518, step = 11800 (5.060 sec)\n",
            "INFO:tensorflow:global_step/sec: 19.8807\n",
            "I0926 13:33:22.124763 140207035189120 basic_session_run_hooks.py:692] global_step/sec: 19.8807\n",
            "INFO:tensorflow:loss = 9.091804, step = 11900 (5.030 sec)\n",
            "I0926 13:33:22.126101 140207035189120 basic_session_run_hooks.py:260] loss = 9.091804, step = 11900 (5.030 sec)\n",
            "INFO:tensorflow:global_step/sec: 19.6757\n",
            "I0926 13:33:27.207144 140207035189120 basic_session_run_hooks.py:692] global_step/sec: 19.6757\n",
            "INFO:tensorflow:loss = 8.185854, step = 12000 (5.082 sec)\n",
            "I0926 13:33:27.208415 140207035189120 basic_session_run_hooks.py:260] loss = 8.185854, step = 12000 (5.082 sec)\n",
            "INFO:tensorflow:global_step/sec: 19.3856\n",
            "I0926 13:33:32.365617 140207035189120 basic_session_run_hooks.py:692] global_step/sec: 19.3856\n",
            "INFO:tensorflow:loss = 8.558141, step = 12100 (5.158 sec)\n",
            "I0926 13:33:32.366845 140207035189120 basic_session_run_hooks.py:260] loss = 8.558141, step = 12100 (5.158 sec)\n",
            "INFO:tensorflow:global_step/sec: 19.8898\n",
            "I0926 13:33:37.393304 140207035189120 basic_session_run_hooks.py:692] global_step/sec: 19.8898\n",
            "INFO:tensorflow:loss = 8.569147, step = 12200 (5.028 sec)\n",
            "I0926 13:33:37.394493 140207035189120 basic_session_run_hooks.py:260] loss = 8.569147, step = 12200 (5.028 sec)\n",
            "INFO:tensorflow:global_step/sec: 19.8748\n",
            "I0926 13:33:42.424840 140207035189120 basic_session_run_hooks.py:692] global_step/sec: 19.8748\n",
            "INFO:tensorflow:loss = 9.60067, step = 12300 (5.032 sec)\n",
            "I0926 13:33:42.426111 140207035189120 basic_session_run_hooks.py:260] loss = 9.60067, step = 12300 (5.032 sec)\n",
            "INFO:tensorflow:global_step/sec: 19.6912\n",
            "I0926 13:33:47.503222 140207035189120 basic_session_run_hooks.py:692] global_step/sec: 19.6912\n",
            "INFO:tensorflow:loss = 9.63612, step = 12400 (5.078 sec)\n",
            "I0926 13:33:47.504452 140207035189120 basic_session_run_hooks.py:260] loss = 9.63612, step = 12400 (5.078 sec)\n",
            "INFO:tensorflow:global_step/sec: 19.5721\n",
            "I0926 13:33:52.612553 140207035189120 basic_session_run_hooks.py:692] global_step/sec: 19.5721\n",
            "INFO:tensorflow:loss = 8.429267, step = 12500 (5.109 sec)\n",
            "I0926 13:33:52.613858 140207035189120 basic_session_run_hooks.py:260] loss = 8.429267, step = 12500 (5.109 sec)\n",
            "INFO:tensorflow:global_step/sec: 19.4947\n",
            "I0926 13:33:57.742148 140207035189120 basic_session_run_hooks.py:692] global_step/sec: 19.4947\n",
            "INFO:tensorflow:loss = 9.132983, step = 12600 (5.129 sec)\n",
            "I0926 13:33:57.743355 140207035189120 basic_session_run_hooks.py:260] loss = 9.132983, step = 12600 (5.129 sec)\n",
            "INFO:tensorflow:global_step/sec: 19.2069\n",
            "I0926 13:34:02.948628 140207035189120 basic_session_run_hooks.py:692] global_step/sec: 19.2069\n",
            "INFO:tensorflow:loss = 10.074471, step = 12700 (5.206 sec)\n",
            "I0926 13:34:02.949808 140207035189120 basic_session_run_hooks.py:260] loss = 10.074471, step = 12700 (5.206 sec)\n",
            "INFO:tensorflow:global_step/sec: 19.5348\n",
            "I0926 13:34:08.067691 140207035189120 basic_session_run_hooks.py:692] global_step/sec: 19.5348\n",
            "INFO:tensorflow:loss = 8.921813, step = 12800 (5.119 sec)\n",
            "I0926 13:34:08.068812 140207035189120 basic_session_run_hooks.py:260] loss = 8.921813, step = 12800 (5.119 sec)\n",
            "INFO:tensorflow:global_step/sec: 19.505\n",
            "I0926 13:34:13.194573 140207035189120 basic_session_run_hooks.py:692] global_step/sec: 19.505\n",
            "INFO:tensorflow:loss = 9.124251, step = 12900 (5.127 sec)\n",
            "I0926 13:34:13.195822 140207035189120 basic_session_run_hooks.py:260] loss = 9.124251, step = 12900 (5.127 sec)\n",
            "INFO:tensorflow:global_step/sec: 19.5834\n",
            "I0926 13:34:18.300923 140207035189120 basic_session_run_hooks.py:692] global_step/sec: 19.5834\n",
            "INFO:tensorflow:loss = 10.190652, step = 13000 (5.106 sec)\n",
            "I0926 13:34:18.301960 140207035189120 basic_session_run_hooks.py:260] loss = 10.190652, step = 13000 (5.106 sec)\n",
            "INFO:tensorflow:global_step/sec: 19.7246\n",
            "I0926 13:34:23.370794 140207035189120 basic_session_run_hooks.py:692] global_step/sec: 19.7246\n",
            "INFO:tensorflow:loss = 8.894796, step = 13100 (5.070 sec)\n",
            "I0926 13:34:23.372094 140207035189120 basic_session_run_hooks.py:260] loss = 8.894796, step = 13100 (5.070 sec)\n",
            "INFO:tensorflow:global_step/sec: 19.6592\n",
            "I0926 13:34:28.457409 140207035189120 basic_session_run_hooks.py:692] global_step/sec: 19.6592\n",
            "INFO:tensorflow:loss = 7.3355155, step = 13200 (5.086 sec)\n",
            "I0926 13:34:28.458427 140207035189120 basic_session_run_hooks.py:260] loss = 7.3355155, step = 13200 (5.086 sec)\n",
            "INFO:tensorflow:global_step/sec: 19.4463\n",
            "I0926 13:34:33.599807 140207035189120 basic_session_run_hooks.py:692] global_step/sec: 19.4463\n",
            "INFO:tensorflow:loss = 12.068918, step = 13300 (5.143 sec)\n",
            "I0926 13:34:33.601119 140207035189120 basic_session_run_hooks.py:260] loss = 12.068918, step = 13300 (5.143 sec)\n",
            "INFO:tensorflow:global_step/sec: 19.5629\n",
            "I0926 13:34:38.711509 140207035189120 basic_session_run_hooks.py:692] global_step/sec: 19.5629\n",
            "INFO:tensorflow:loss = 9.189345, step = 13400 (5.112 sec)\n",
            "I0926 13:34:38.712632 140207035189120 basic_session_run_hooks.py:260] loss = 9.189345, step = 13400 (5.112 sec)\n",
            "INFO:tensorflow:global_step/sec: 19.7912\n",
            "I0926 13:34:43.764275 140207035189120 basic_session_run_hooks.py:692] global_step/sec: 19.7912\n",
            "INFO:tensorflow:loss = 8.755604, step = 13500 (5.053 sec)\n",
            "I0926 13:34:43.765617 140207035189120 basic_session_run_hooks.py:260] loss = 8.755604, step = 13500 (5.053 sec)\n",
            "INFO:tensorflow:global_step/sec: 19.567\n",
            "I0926 13:34:48.874919 140207035189120 basic_session_run_hooks.py:692] global_step/sec: 19.567\n",
            "INFO:tensorflow:loss = 9.691487, step = 13600 (5.111 sec)\n",
            "I0926 13:34:48.876141 140207035189120 basic_session_run_hooks.py:260] loss = 9.691487, step = 13600 (5.111 sec)\n",
            "INFO:tensorflow:global_step/sec: 19.4062\n",
            "I0926 13:34:54.027900 140207035189120 basic_session_run_hooks.py:692] global_step/sec: 19.4062\n",
            "INFO:tensorflow:loss = 8.190222, step = 13700 (5.153 sec)\n",
            "I0926 13:34:54.029208 140207035189120 basic_session_run_hooks.py:260] loss = 8.190222, step = 13700 (5.153 sec)\n",
            "INFO:tensorflow:global_step/sec: 19.5725\n",
            "I0926 13:34:59.137112 140207035189120 basic_session_run_hooks.py:692] global_step/sec: 19.5725\n",
            "INFO:tensorflow:loss = 9.670972, step = 13800 (5.109 sec)\n",
            "I0926 13:34:59.138092 140207035189120 basic_session_run_hooks.py:260] loss = 9.670972, step = 13800 (5.109 sec)\n",
            "INFO:tensorflow:global_step/sec: 19.3851\n",
            "I0926 13:35:04.295772 140207035189120 basic_session_run_hooks.py:692] global_step/sec: 19.3851\n",
            "INFO:tensorflow:loss = 11.847915, step = 13900 (5.159 sec)\n",
            "I0926 13:35:04.297078 140207035189120 basic_session_run_hooks.py:260] loss = 11.847915, step = 13900 (5.159 sec)\n",
            "INFO:tensorflow:global_step/sec: 19.7008\n",
            "I0926 13:35:09.371689 140207035189120 basic_session_run_hooks.py:692] global_step/sec: 19.7008\n",
            "INFO:tensorflow:loss = 6.9694076, step = 14000 (5.076 sec)\n",
            "I0926 13:35:09.373012 140207035189120 basic_session_run_hooks.py:260] loss = 6.9694076, step = 14000 (5.076 sec)\n",
            "INFO:tensorflow:global_step/sec: 19.4133\n",
            "I0926 13:35:14.522781 140207035189120 basic_session_run_hooks.py:692] global_step/sec: 19.4133\n",
            "INFO:tensorflow:loss = 6.312092, step = 14100 (5.151 sec)\n",
            "I0926 13:35:14.524061 140207035189120 basic_session_run_hooks.py:260] loss = 6.312092, step = 14100 (5.151 sec)\n",
            "INFO:tensorflow:global_step/sec: 19.377\n",
            "I0926 13:35:19.683508 140207035189120 basic_session_run_hooks.py:692] global_step/sec: 19.377\n",
            "INFO:tensorflow:loss = 9.640099, step = 14200 (5.161 sec)\n",
            "I0926 13:35:19.684632 140207035189120 basic_session_run_hooks.py:260] loss = 9.640099, step = 14200 (5.161 sec)\n",
            "INFO:tensorflow:global_step/sec: 19.7882\n",
            "I0926 13:35:24.737026 140207035189120 basic_session_run_hooks.py:692] global_step/sec: 19.7882\n",
            "INFO:tensorflow:loss = 9.165807, step = 14300 (5.054 sec)\n",
            "I0926 13:35:24.738242 140207035189120 basic_session_run_hooks.py:260] loss = 9.165807, step = 14300 (5.054 sec)\n",
            "INFO:tensorflow:global_step/sec: 19.5283\n",
            "I0926 13:35:29.857821 140207035189120 basic_session_run_hooks.py:692] global_step/sec: 19.5283\n",
            "INFO:tensorflow:loss = 8.928547, step = 14400 (5.121 sec)\n",
            "I0926 13:35:29.859014 140207035189120 basic_session_run_hooks.py:260] loss = 8.928547, step = 14400 (5.121 sec)\n",
            "INFO:tensorflow:global_step/sec: 19.8336\n",
            "I0926 13:35:34.899771 140207035189120 basic_session_run_hooks.py:692] global_step/sec: 19.8336\n",
            "INFO:tensorflow:loss = 8.470727, step = 14500 (5.042 sec)\n",
            "I0926 13:35:34.901103 140207035189120 basic_session_run_hooks.py:260] loss = 8.470727, step = 14500 (5.042 sec)\n",
            "INFO:tensorflow:global_step/sec: 19.749\n",
            "I0926 13:35:39.963310 140207035189120 basic_session_run_hooks.py:692] global_step/sec: 19.749\n",
            "INFO:tensorflow:loss = 13.225906, step = 14600 (5.063 sec)\n",
            "I0926 13:35:39.964534 140207035189120 basic_session_run_hooks.py:260] loss = 13.225906, step = 14600 (5.063 sec)\n",
            "INFO:tensorflow:global_step/sec: 19.1366\n",
            "I0926 13:35:45.188897 140207035189120 basic_session_run_hooks.py:692] global_step/sec: 19.1366\n",
            "INFO:tensorflow:loss = 11.116273, step = 14700 (5.226 sec)\n",
            "I0926 13:35:45.190082 140207035189120 basic_session_run_hooks.py:260] loss = 11.116273, step = 14700 (5.226 sec)\n",
            "INFO:tensorflow:global_step/sec: 19.291\n",
            "I0926 13:35:50.372641 140207035189120 basic_session_run_hooks.py:692] global_step/sec: 19.291\n",
            "INFO:tensorflow:loss = 8.309188, step = 14800 (5.184 sec)\n",
            "I0926 13:35:50.373929 140207035189120 basic_session_run_hooks.py:260] loss = 8.309188, step = 14800 (5.184 sec)\n",
            "INFO:tensorflow:global_step/sec: 19.8079\n",
            "I0926 13:35:55.421151 140207035189120 basic_session_run_hooks.py:692] global_step/sec: 19.8079\n",
            "INFO:tensorflow:loss = 2.4310713, step = 14900 (5.049 sec)\n",
            "I0926 13:35:55.422451 140207035189120 basic_session_run_hooks.py:260] loss = 2.4310713, step = 14900 (5.049 sec)\n",
            "INFO:tensorflow:global_step/sec: 19.8062\n",
            "I0926 13:36:00.470050 140207035189120 basic_session_run_hooks.py:692] global_step/sec: 19.8062\n",
            "INFO:tensorflow:loss = 6.5472226, step = 15000 (5.049 sec)\n",
            "I0926 13:36:00.471340 140207035189120 basic_session_run_hooks.py:260] loss = 6.5472226, step = 15000 (5.049 sec)\n",
            "INFO:tensorflow:global_step/sec: 19.4842\n",
            "I0926 13:36:05.602445 140207035189120 basic_session_run_hooks.py:692] global_step/sec: 19.4842\n",
            "INFO:tensorflow:loss = 8.533489, step = 15100 (5.132 sec)\n",
            "I0926 13:36:05.603735 140207035189120 basic_session_run_hooks.py:260] loss = 8.533489, step = 15100 (5.132 sec)\n",
            "INFO:tensorflow:global_step/sec: 19.6172\n",
            "I0926 13:36:10.700021 140207035189120 basic_session_run_hooks.py:692] global_step/sec: 19.6172\n",
            "INFO:tensorflow:loss = 9.708597, step = 15200 (5.098 sec)\n",
            "I0926 13:36:10.701286 140207035189120 basic_session_run_hooks.py:260] loss = 9.708597, step = 15200 (5.098 sec)\n",
            "INFO:tensorflow:global_step/sec: 19.5934\n",
            "I0926 13:36:15.803790 140207035189120 basic_session_run_hooks.py:692] global_step/sec: 19.5934\n",
            "INFO:tensorflow:loss = 8.536943, step = 15300 (5.104 sec)\n",
            "I0926 13:36:15.804938 140207035189120 basic_session_run_hooks.py:260] loss = 8.536943, step = 15300 (5.104 sec)\n",
            "INFO:tensorflow:global_step/sec: 19.6116\n",
            "I0926 13:36:20.902810 140207035189120 basic_session_run_hooks.py:692] global_step/sec: 19.6116\n",
            "INFO:tensorflow:loss = 7.6241217, step = 15400 (5.099 sec)\n",
            "I0926 13:36:20.903993 140207035189120 basic_session_run_hooks.py:260] loss = 7.6241217, step = 15400 (5.099 sec)\n",
            "INFO:tensorflow:global_step/sec: 19.8364\n",
            "I0926 13:36:25.944050 140207035189120 basic_session_run_hooks.py:692] global_step/sec: 19.8364\n",
            "INFO:tensorflow:loss = 8.1831, step = 15500 (5.041 sec)\n",
            "I0926 13:36:25.945339 140207035189120 basic_session_run_hooks.py:260] loss = 8.1831, step = 15500 (5.041 sec)\n",
            "INFO:tensorflow:global_step/sec: 19.5475\n",
            "I0926 13:36:31.059794 140207035189120 basic_session_run_hooks.py:692] global_step/sec: 19.5475\n",
            "INFO:tensorflow:loss = 8.758326, step = 15600 (5.116 sec)\n",
            "I0926 13:36:31.060991 140207035189120 basic_session_run_hooks.py:260] loss = 8.758326, step = 15600 (5.116 sec)\n",
            "INFO:tensorflow:global_step/sec: 20.0149\n",
            "I0926 13:36:36.056065 140207035189120 basic_session_run_hooks.py:692] global_step/sec: 20.0149\n",
            "INFO:tensorflow:loss = 10.160932, step = 15700 (4.997 sec)\n",
            "I0926 13:36:36.057551 140207035189120 basic_session_run_hooks.py:260] loss = 10.160932, step = 15700 (4.997 sec)\n",
            "INFO:tensorflow:global_step/sec: 19.5343\n",
            "I0926 13:36:41.175235 140207035189120 basic_session_run_hooks.py:692] global_step/sec: 19.5343\n",
            "INFO:tensorflow:loss = 7.9852357, step = 15800 (5.119 sec)\n",
            "I0926 13:36:41.176424 140207035189120 basic_session_run_hooks.py:260] loss = 7.9852357, step = 15800 (5.119 sec)\n",
            "INFO:tensorflow:global_step/sec: 19.9672\n",
            "I0926 13:36:46.183450 140207035189120 basic_session_run_hooks.py:692] global_step/sec: 19.9672\n",
            "INFO:tensorflow:loss = 10.728158, step = 15900 (5.008 sec)\n",
            "I0926 13:36:46.184465 140207035189120 basic_session_run_hooks.py:260] loss = 10.728158, step = 15900 (5.008 sec)\n",
            "INFO:tensorflow:global_step/sec: 19.6273\n",
            "I0926 13:36:51.278412 140207035189120 basic_session_run_hooks.py:692] global_step/sec: 19.6273\n",
            "INFO:tensorflow:loss = 2.1980202, step = 16000 (5.095 sec)\n",
            "I0926 13:36:51.279742 140207035189120 basic_session_run_hooks.py:260] loss = 2.1980202, step = 16000 (5.095 sec)\n",
            "INFO:tensorflow:global_step/sec: 19.1786\n",
            "I0926 13:36:56.492559 140207035189120 basic_session_run_hooks.py:692] global_step/sec: 19.1786\n",
            "INFO:tensorflow:loss = 5.961615, step = 16100 (5.214 sec)\n",
            "I0926 13:36:56.493899 140207035189120 basic_session_run_hooks.py:260] loss = 5.961615, step = 16100 (5.214 sec)\n",
            "INFO:tensorflow:global_step/sec: 19.4903\n",
            "I0926 13:37:01.623328 140207035189120 basic_session_run_hooks.py:692] global_step/sec: 19.4903\n",
            "INFO:tensorflow:loss = 6.087452, step = 16200 (5.131 sec)\n",
            "I0926 13:37:01.624435 140207035189120 basic_session_run_hooks.py:260] loss = 6.087452, step = 16200 (5.131 sec)\n",
            "INFO:tensorflow:global_step/sec: 19.7074\n",
            "I0926 13:37:06.697545 140207035189120 basic_session_run_hooks.py:692] global_step/sec: 19.7074\n",
            "INFO:tensorflow:loss = 10.299712, step = 16300 (5.074 sec)\n",
            "I0926 13:37:06.698736 140207035189120 basic_session_run_hooks.py:260] loss = 10.299712, step = 16300 (5.074 sec)\n",
            "INFO:tensorflow:global_step/sec: 19.6232\n",
            "I0926 13:37:11.793576 140207035189120 basic_session_run_hooks.py:692] global_step/sec: 19.6232\n",
            "INFO:tensorflow:loss = 7.6083508, step = 16400 (5.096 sec)\n",
            "I0926 13:37:11.794881 140207035189120 basic_session_run_hooks.py:260] loss = 7.6083508, step = 16400 (5.096 sec)\n",
            "INFO:tensorflow:global_step/sec: 19.6649\n",
            "I0926 13:37:16.878773 140207035189120 basic_session_run_hooks.py:692] global_step/sec: 19.6649\n",
            "INFO:tensorflow:loss = 9.091631, step = 16500 (5.085 sec)\n",
            "I0926 13:37:16.879951 140207035189120 basic_session_run_hooks.py:260] loss = 9.091631, step = 16500 (5.085 sec)\n",
            "INFO:tensorflow:global_step/sec: 19.5418\n",
            "I0926 13:37:21.995968 140207035189120 basic_session_run_hooks.py:692] global_step/sec: 19.5418\n",
            "INFO:tensorflow:loss = 8.567092, step = 16600 (5.117 sec)\n",
            "I0926 13:37:21.997265 140207035189120 basic_session_run_hooks.py:260] loss = 8.567092, step = 16600 (5.117 sec)\n",
            "INFO:tensorflow:global_step/sec: 19.166\n",
            "I0926 13:37:27.213598 140207035189120 basic_session_run_hooks.py:692] global_step/sec: 19.166\n",
            "INFO:tensorflow:loss = 6.2699056, step = 16700 (5.218 sec)\n",
            "I0926 13:37:27.214965 140207035189120 basic_session_run_hooks.py:260] loss = 6.2699056, step = 16700 (5.218 sec)\n",
            "INFO:tensorflow:Saving checkpoints for 16702 into training/model.ckpt.\n",
            "I0926 13:37:27.271730 140207035189120 basic_session_run_hooks.py:606] Saving checkpoints for 16702 into training/model.ckpt.\n",
            "WARNING:tensorflow:Entity <bound method TfExampleDecoder.decode of <object_detection.data_decoders.tf_example_decoder.TfExampleDecoder object at 0x7f84003664a8>> could not be transformed and will be executed as-is. Please report this to the AutoGraph team. When filing the bug, set the verbosity to 10 (on Linux, `export AUTOGRAPH_VERBOSITY=10`) and attach the full output. Cause: module 'gast' has no attribute 'Num'\n",
            "W0926 13:37:28.603600 140207035189120 ag_logging.py:146] Entity <bound method TfExampleDecoder.decode of <object_detection.data_decoders.tf_example_decoder.TfExampleDecoder object at 0x7f84003664a8>> could not be transformed and will be executed as-is. Please report this to the AutoGraph team. When filing the bug, set the verbosity to 10 (on Linux, `export AUTOGRAPH_VERBOSITY=10`) and attach the full output. Cause: module 'gast' has no attribute 'Num'\n",
            "WARNING:tensorflow:Entity <function eval_input.<locals>.transform_and_pad_input_data_fn at 0x7f840ccbfd90> could not be transformed and will be executed as-is. Please report this to the AutoGraph team. When filing the bug, set the verbosity to 10 (on Linux, `export AUTOGRAPH_VERBOSITY=10`) and attach the full output. Cause: Bad argument number for Name: 3, expecting 4\n",
            "W0926 13:37:28.808350 140207035189120 ag_logging.py:146] Entity <function eval_input.<locals>.transform_and_pad_input_data_fn at 0x7f840ccbfd90> could not be transformed and will be executed as-is. Please report this to the AutoGraph team. When filing the bug, set the verbosity to 10 (on Linux, `export AUTOGRAPH_VERBOSITY=10`) and attach the full output. Cause: Bad argument number for Name: 3, expecting 4\n",
            "INFO:tensorflow:Calling model_fn.\n",
            "I0926 13:37:29.389239 140207035189120 estimator.py:1148] Calling model_fn.\n",
            "INFO:tensorflow:depth of additional conv before box predictor: 0\n",
            "I0926 13:37:31.979351 140207035189120 convolutional_box_predictor.py:156] depth of additional conv before box predictor: 0\n",
            "INFO:tensorflow:depth of additional conv before box predictor: 0\n",
            "I0926 13:37:32.013245 140207035189120 convolutional_box_predictor.py:156] depth of additional conv before box predictor: 0\n",
            "INFO:tensorflow:depth of additional conv before box predictor: 0\n",
            "I0926 13:37:32.046455 140207035189120 convolutional_box_predictor.py:156] depth of additional conv before box predictor: 0\n",
            "INFO:tensorflow:depth of additional conv before box predictor: 0\n",
            "I0926 13:37:32.079756 140207035189120 convolutional_box_predictor.py:156] depth of additional conv before box predictor: 0\n",
            "INFO:tensorflow:depth of additional conv before box predictor: 0\n",
            "I0926 13:37:32.112131 140207035189120 convolutional_box_predictor.py:156] depth of additional conv before box predictor: 0\n",
            "INFO:tensorflow:depth of additional conv before box predictor: 0\n",
            "I0926 13:37:32.145180 140207035189120 convolutional_box_predictor.py:156] depth of additional conv before box predictor: 0\n",
            "WARNING:tensorflow:From /content/models/research/object_detection/eval_util.py:879: to_int64 (from tensorflow.python.ops.math_ops) is deprecated and will be removed in a future version.\n",
            "Instructions for updating:\n",
            "Use `tf.cast` instead.\n",
            "W0926 13:37:33.204231 140207035189120 deprecation.py:323] From /content/models/research/object_detection/eval_util.py:879: to_int64 (from tensorflow.python.ops.math_ops) is deprecated and will be removed in a future version.\n",
            "Instructions for updating:\n",
            "Use `tf.cast` instead.\n",
            "WARNING:tensorflow:From /content/models/research/object_detection/utils/visualization_utils.py:618: py_func (from tensorflow.python.ops.script_ops) is deprecated and will be removed in a future version.\n",
            "Instructions for updating:\n",
            "tf.py_func is deprecated in TF V2. Instead, there are two\n",
            "    options available in V2.\n",
            "    - tf.py_function takes a python function which manipulates tf eager\n",
            "    tensors instead of numpy arrays. It's easy to convert a tf eager tensor to\n",
            "    an ndarray (just call tensor.numpy()) but having access to eager tensors\n",
            "    means `tf.py_function`s can use accelerators such as GPUs as well as\n",
            "    being differentiable using a gradient tape.\n",
            "    - tf.numpy_function maintains the semantics of the deprecated tf.py_func\n",
            "    (it is not differentiable, and manipulates numpy arrays). It drops the\n",
            "    stateful argument making all functions stateful.\n",
            "    \n",
            "W0926 13:37:33.418826 140207035189120 deprecation.py:323] From /content/models/research/object_detection/utils/visualization_utils.py:618: py_func (from tensorflow.python.ops.script_ops) is deprecated and will be removed in a future version.\n",
            "Instructions for updating:\n",
            "tf.py_func is deprecated in TF V2. Instead, there are two\n",
            "    options available in V2.\n",
            "    - tf.py_function takes a python function which manipulates tf eager\n",
            "    tensors instead of numpy arrays. It's easy to convert a tf eager tensor to\n",
            "    an ndarray (just call tensor.numpy()) but having access to eager tensors\n",
            "    means `tf.py_function`s can use accelerators such as GPUs as well as\n",
            "    being differentiable using a gradient tape.\n",
            "    - tf.numpy_function maintains the semantics of the deprecated tf.py_func\n",
            "    (it is not differentiable, and manipulates numpy arrays). It drops the\n",
            "    stateful argument making all functions stateful.\n",
            "    \n",
            "INFO:tensorflow:Done calling model_fn.\n",
            "I0926 13:37:34.011534 140207035189120 estimator.py:1150] Done calling model_fn.\n",
            "INFO:tensorflow:Starting evaluation at 2020-09-26T13:37:34Z\n",
            "I0926 13:37:34.029522 140207035189120 evaluation.py:255] Starting evaluation at 2020-09-26T13:37:34Z\n",
            "INFO:tensorflow:Graph was finalized.\n",
            "I0926 13:37:34.482784 140207035189120 monitored_session.py:240] Graph was finalized.\n",
            "2020-09-26 13:37:34.484038: I tensorflow/stream_executor/cuda/cuda_gpu_executor.cc:983] successful NUMA node read from SysFS had negative value (-1), but there must be at least one NUMA node, so returning NUMA node zero\n",
            "2020-09-26 13:37:34.484597: I tensorflow/core/common_runtime/gpu/gpu_device.cc:1639] Found device 0 with properties: \n",
            "name: Tesla T4 major: 7 minor: 5 memoryClockRate(GHz): 1.59\n",
            "pciBusID: 0000:00:04.0\n",
            "2020-09-26 13:37:34.484749: I tensorflow/stream_executor/platform/default/dso_loader.cc:44] Successfully opened dynamic library libcudart.so.10.1\n",
            "2020-09-26 13:37:34.484783: I tensorflow/stream_executor/platform/default/dso_loader.cc:44] Successfully opened dynamic library libcublas.so.10\n",
            "2020-09-26 13:37:34.484817: I tensorflow/stream_executor/platform/default/dso_loader.cc:44] Successfully opened dynamic library libcufft.so.10\n",
            "2020-09-26 13:37:34.484842: I tensorflow/stream_executor/platform/default/dso_loader.cc:44] Successfully opened dynamic library libcurand.so.10\n",
            "2020-09-26 13:37:34.484865: I tensorflow/stream_executor/platform/default/dso_loader.cc:44] Successfully opened dynamic library libcusolver.so.10\n",
            "2020-09-26 13:37:34.484959: I tensorflow/stream_executor/platform/default/dso_loader.cc:44] Successfully opened dynamic library libcusparse.so.10\n",
            "2020-09-26 13:37:34.485004: I tensorflow/stream_executor/platform/default/dso_loader.cc:44] Successfully opened dynamic library libcudnn.so.7\n",
            "2020-09-26 13:37:34.485107: I tensorflow/stream_executor/cuda/cuda_gpu_executor.cc:983] successful NUMA node read from SysFS had negative value (-1), but there must be at least one NUMA node, so returning NUMA node zero\n",
            "2020-09-26 13:37:34.485709: I tensorflow/stream_executor/cuda/cuda_gpu_executor.cc:983] successful NUMA node read from SysFS had negative value (-1), but there must be at least one NUMA node, so returning NUMA node zero\n",
            "2020-09-26 13:37:34.486216: I tensorflow/core/common_runtime/gpu/gpu_device.cc:1767] Adding visible gpu devices: 0\n",
            "2020-09-26 13:37:34.486307: I tensorflow/core/common_runtime/gpu/gpu_device.cc:1180] Device interconnect StreamExecutor with strength 1 edge matrix:\n",
            "2020-09-26 13:37:34.486324: I tensorflow/core/common_runtime/gpu/gpu_device.cc:1186]      0 \n",
            "2020-09-26 13:37:34.486335: I tensorflow/core/common_runtime/gpu/gpu_device.cc:1199] 0:   N \n",
            "2020-09-26 13:37:34.486466: I tensorflow/stream_executor/cuda/cuda_gpu_executor.cc:983] successful NUMA node read from SysFS had negative value (-1), but there must be at least one NUMA node, so returning NUMA node zero\n",
            "2020-09-26 13:37:34.487044: I tensorflow/stream_executor/cuda/cuda_gpu_executor.cc:983] successful NUMA node read from SysFS had negative value (-1), but there must be at least one NUMA node, so returning NUMA node zero\n",
            "2020-09-26 13:37:34.487565: I tensorflow/core/common_runtime/gpu/gpu_device.cc:1325] Created TensorFlow device (/job:localhost/replica:0/task:0/device:GPU:0 with 14221 MB memory) -> physical GPU (device: 0, name: Tesla T4, pci bus id: 0000:00:04.0, compute capability: 7.5)\n",
            "INFO:tensorflow:Restoring parameters from training/model.ckpt-16702\n",
            "I0926 13:37:34.488683 140207035189120 saver.py:1284] Restoring parameters from training/model.ckpt-16702\n",
            "INFO:tensorflow:Running local_init_op.\n",
            "I0926 13:37:35.507088 140207035189120 session_manager.py:500] Running local_init_op.\n",
            "INFO:tensorflow:Done running local_init_op.\n",
            "I0926 13:37:35.660491 140207035189120 session_manager.py:502] Done running local_init_op.\n",
            "INFO:tensorflow:Performing evaluation on 738 images.\n",
            "I0926 13:38:29.047810 140203473921792 coco_evaluation.py:282] Performing evaluation on 738 images.\n",
            "creating index...\n",
            "index created!\n",
            "INFO:tensorflow:Loading and preparing annotation results...\n",
            "I0926 13:38:29.051300 140203473921792 coco_tools.py:116] Loading and preparing annotation results...\n",
            "INFO:tensorflow:DONE (t=0.06s)\n",
            "I0926 13:38:29.110345 140203473921792 coco_tools.py:138] DONE (t=0.06s)\n",
            "creating index...\n",
            "index created!\n",
            "Running per image evaluation...\n",
            "Evaluate annotation type *bbox*\n",
            "DONE (t=3.38s).\n",
            "Accumulating evaluation results...\n",
            "DONE (t=1.10s).\n",
            " Average Precision  (AP) @[ IoU=0.50:0.95 | area=   all | maxDets=100 ] = 0.011\n",
            " Average Precision  (AP) @[ IoU=0.50      | area=   all | maxDets=100 ] = 0.029\n",
            " Average Precision  (AP) @[ IoU=0.75      | area=   all | maxDets=100 ] = 0.005\n",
            " Average Precision  (AP) @[ IoU=0.50:0.95 | area= small | maxDets=100 ] = 0.000\n",
            " Average Precision  (AP) @[ IoU=0.50:0.95 | area=medium | maxDets=100 ] = 0.000\n",
            " Average Precision  (AP) @[ IoU=0.50:0.95 | area= large | maxDets=100 ] = 0.012\n",
            " Average Recall     (AR) @[ IoU=0.50:0.95 | area=   all | maxDets=  1 ] = 0.124\n",
            " Average Recall     (AR) @[ IoU=0.50:0.95 | area=   all | maxDets= 10 ] = 0.214\n",
            " Average Recall     (AR) @[ IoU=0.50:0.95 | area=   all | maxDets=100 ] = 0.222\n",
            " Average Recall     (AR) @[ IoU=0.50:0.95 | area= small | maxDets=100 ] = 0.000\n",
            " Average Recall     (AR) @[ IoU=0.50:0.95 | area=medium | maxDets=100 ] = 0.004\n",
            " Average Recall     (AR) @[ IoU=0.50:0.95 | area= large | maxDets=100 ] = 0.249\n",
            "INFO:tensorflow:Finished evaluation at 2020-09-26-13:38:33\n",
            "I0926 13:38:33.801180 140207035189120 evaluation.py:275] Finished evaluation at 2020-09-26-13:38:33\n",
            "INFO:tensorflow:Saving dict for global step 16702: DetectionBoxes_Precision/mAP = 0.011382547, DetectionBoxes_Precision/mAP (large) = 0.012458248, DetectionBoxes_Precision/mAP (medium) = 9.966719e-05, DetectionBoxes_Precision/mAP (small) = 0.0, DetectionBoxes_Precision/mAP@.50IOU = 0.029448213, DetectionBoxes_Precision/mAP@.75IOU = 0.004928878, DetectionBoxes_Recall/AR@1 = 0.1236135, DetectionBoxes_Recall/AR@10 = 0.21354897, DetectionBoxes_Recall/AR@100 = 0.22162151, DetectionBoxes_Recall/AR@100 (large) = 0.2485479, DetectionBoxes_Recall/AR@100 (medium) = 0.004131054, DetectionBoxes_Recall/AR@100 (small) = 0.0, Loss/classification_loss = 9.6775055, Loss/localization_loss = 1.7433203, Loss/regularization_loss = 0.37960732, Loss/total_loss = 11.800434, global_step = 16702, learning_rate = 0.004, loss = 11.800434\n",
            "I0926 13:38:33.801484 140207035189120 estimator.py:2049] Saving dict for global step 16702: DetectionBoxes_Precision/mAP = 0.011382547, DetectionBoxes_Precision/mAP (large) = 0.012458248, DetectionBoxes_Precision/mAP (medium) = 9.966719e-05, DetectionBoxes_Precision/mAP (small) = 0.0, DetectionBoxes_Precision/mAP@.50IOU = 0.029448213, DetectionBoxes_Precision/mAP@.75IOU = 0.004928878, DetectionBoxes_Recall/AR@1 = 0.1236135, DetectionBoxes_Recall/AR@10 = 0.21354897, DetectionBoxes_Recall/AR@100 = 0.22162151, DetectionBoxes_Recall/AR@100 (large) = 0.2485479, DetectionBoxes_Recall/AR@100 (medium) = 0.004131054, DetectionBoxes_Recall/AR@100 (small) = 0.0, Loss/classification_loss = 9.6775055, Loss/localization_loss = 1.7433203, Loss/regularization_loss = 0.37960732, Loss/total_loss = 11.800434, global_step = 16702, learning_rate = 0.004, loss = 11.800434\n",
            "INFO:tensorflow:Saving 'checkpoint_path' summary for global step 16702: training/model.ckpt-16702\n",
            "I0926 13:38:34.675120 140207035189120 estimator.py:2109] Saving 'checkpoint_path' summary for global step 16702: training/model.ckpt-16702\n",
            "INFO:tensorflow:global_step/sec: 1.38079\n",
            "I0926 13:38:39.635710 140207035189120 basic_session_run_hooks.py:692] global_step/sec: 1.38079\n",
            "INFO:tensorflow:loss = 8.762909, step = 16800 (72.422 sec)\n",
            "I0926 13:38:39.636934 140207035189120 basic_session_run_hooks.py:260] loss = 8.762909, step = 16800 (72.422 sec)\n",
            "INFO:tensorflow:global_step/sec: 20.714\n",
            "I0926 13:38:44.463363 140207035189120 basic_session_run_hooks.py:692] global_step/sec: 20.714\n",
            "INFO:tensorflow:loss = 6.523677, step = 16900 (4.828 sec)\n",
            "I0926 13:38:44.464614 140207035189120 basic_session_run_hooks.py:260] loss = 6.523677, step = 16900 (4.828 sec)\n",
            "INFO:tensorflow:global_step/sec: 20.2817\n",
            "I0926 13:38:49.393888 140207035189120 basic_session_run_hooks.py:692] global_step/sec: 20.2817\n",
            "INFO:tensorflow:loss = 8.0935335, step = 17000 (4.930 sec)\n",
            "I0926 13:38:49.395047 140207035189120 basic_session_run_hooks.py:260] loss = 8.0935335, step = 17000 (4.930 sec)\n",
            "INFO:tensorflow:global_step/sec: 20.7314\n",
            "I0926 13:38:54.217548 140207035189120 basic_session_run_hooks.py:692] global_step/sec: 20.7314\n",
            "INFO:tensorflow:loss = 10.993354, step = 17100 (4.824 sec)\n",
            "I0926 13:38:54.218742 140207035189120 basic_session_run_hooks.py:260] loss = 10.993354, step = 17100 (4.824 sec)\n",
            "INFO:tensorflow:global_step/sec: 20.5774\n",
            "I0926 13:38:59.077201 140207035189120 basic_session_run_hooks.py:692] global_step/sec: 20.5774\n",
            "INFO:tensorflow:loss = 12.308545, step = 17200 (4.860 sec)\n",
            "I0926 13:38:59.078426 140207035189120 basic_session_run_hooks.py:260] loss = 12.308545, step = 17200 (4.860 sec)\n",
            "INFO:tensorflow:global_step/sec: 20.4629\n",
            "I0926 13:39:03.964086 140207035189120 basic_session_run_hooks.py:692] global_step/sec: 20.4629\n",
            "INFO:tensorflow:loss = 8.876565, step = 17300 (4.887 sec)\n",
            "I0926 13:39:03.965320 140207035189120 basic_session_run_hooks.py:260] loss = 8.876565, step = 17300 (4.887 sec)\n",
            "INFO:tensorflow:global_step/sec: 20.2326\n",
            "I0926 13:39:08.906600 140207035189120 basic_session_run_hooks.py:692] global_step/sec: 20.2326\n",
            "INFO:tensorflow:loss = 8.852673, step = 17400 (4.942 sec)\n",
            "I0926 13:39:08.907825 140207035189120 basic_session_run_hooks.py:260] loss = 8.852673, step = 17400 (4.942 sec)\n",
            "INFO:tensorflow:global_step/sec: 20.3207\n",
            "I0926 13:39:13.827718 140207035189120 basic_session_run_hooks.py:692] global_step/sec: 20.3207\n",
            "INFO:tensorflow:loss = 11.760184, step = 17500 (4.921 sec)\n",
            "I0926 13:39:13.828846 140207035189120 basic_session_run_hooks.py:260] loss = 11.760184, step = 17500 (4.921 sec)\n",
            "INFO:tensorflow:global_step/sec: 20.6153\n",
            "I0926 13:39:18.678467 140207035189120 basic_session_run_hooks.py:692] global_step/sec: 20.6153\n",
            "INFO:tensorflow:loss = 9.409827, step = 17600 (4.851 sec)\n",
            "I0926 13:39:18.679612 140207035189120 basic_session_run_hooks.py:260] loss = 9.409827, step = 17600 (4.851 sec)\n",
            "INFO:tensorflow:global_step/sec: 20.7172\n",
            "I0926 13:39:23.505374 140207035189120 basic_session_run_hooks.py:692] global_step/sec: 20.7172\n",
            "INFO:tensorflow:loss = 8.749123, step = 17700 (4.827 sec)\n",
            "I0926 13:39:23.506494 140207035189120 basic_session_run_hooks.py:260] loss = 8.749123, step = 17700 (4.827 sec)\n",
            "INFO:tensorflow:global_step/sec: 20.5803\n",
            "I0926 13:39:28.364392 140207035189120 basic_session_run_hooks.py:692] global_step/sec: 20.5803\n",
            "INFO:tensorflow:loss = 8.938532, step = 17800 (4.859 sec)\n",
            "I0926 13:39:28.365449 140207035189120 basic_session_run_hooks.py:260] loss = 8.938532, step = 17800 (4.859 sec)\n",
            "INFO:tensorflow:global_step/sec: 20.7642\n",
            "I0926 13:39:33.180392 140207035189120 basic_session_run_hooks.py:692] global_step/sec: 20.7642\n",
            "INFO:tensorflow:loss = 9.620254, step = 17900 (4.816 sec)\n",
            "I0926 13:39:33.181759 140207035189120 basic_session_run_hooks.py:260] loss = 9.620254, step = 17900 (4.816 sec)\n",
            "INFO:tensorflow:global_step/sec: 20.4744\n",
            "I0926 13:39:38.064543 140207035189120 basic_session_run_hooks.py:692] global_step/sec: 20.4744\n",
            "INFO:tensorflow:loss = 8.202732, step = 18000 (4.884 sec)\n",
            "I0926 13:39:38.065583 140207035189120 basic_session_run_hooks.py:260] loss = 8.202732, step = 18000 (4.884 sec)\n",
            "INFO:tensorflow:global_step/sec: 20.636\n",
            "I0926 13:39:42.910442 140207035189120 basic_session_run_hooks.py:692] global_step/sec: 20.636\n",
            "INFO:tensorflow:loss = 7.916609, step = 18100 (4.846 sec)\n",
            "I0926 13:39:42.911623 140207035189120 basic_session_run_hooks.py:260] loss = 7.916609, step = 18100 (4.846 sec)\n",
            "INFO:tensorflow:global_step/sec: 20.5981\n",
            "I0926 13:39:47.765272 140207035189120 basic_session_run_hooks.py:692] global_step/sec: 20.5981\n",
            "INFO:tensorflow:loss = 9.808966, step = 18200 (4.855 sec)\n",
            "I0926 13:39:47.766467 140207035189120 basic_session_run_hooks.py:260] loss = 9.808966, step = 18200 (4.855 sec)\n",
            "INFO:tensorflow:global_step/sec: 20.6088\n",
            "I0926 13:39:52.617544 140207035189120 basic_session_run_hooks.py:692] global_step/sec: 20.6088\n",
            "INFO:tensorflow:loss = 12.845995, step = 18300 (4.852 sec)\n",
            "I0926 13:39:52.618702 140207035189120 basic_session_run_hooks.py:260] loss = 12.845995, step = 18300 (4.852 sec)\n",
            "INFO:tensorflow:global_step/sec: 20.5731\n",
            "I0926 13:39:57.478284 140207035189120 basic_session_run_hooks.py:692] global_step/sec: 20.5731\n",
            "INFO:tensorflow:loss = 9.57172, step = 18400 (4.861 sec)\n",
            "I0926 13:39:57.479354 140207035189120 basic_session_run_hooks.py:260] loss = 9.57172, step = 18400 (4.861 sec)\n",
            "INFO:tensorflow:global_step/sec: 20.4671\n",
            "I0926 13:40:02.364163 140207035189120 basic_session_run_hooks.py:692] global_step/sec: 20.4671\n",
            "INFO:tensorflow:loss = 11.716172, step = 18500 (4.886 sec)\n",
            "I0926 13:40:02.365324 140207035189120 basic_session_run_hooks.py:260] loss = 11.716172, step = 18500 (4.886 sec)\n",
            "INFO:tensorflow:global_step/sec: 20.592\n",
            "I0926 13:40:07.220429 140207035189120 basic_session_run_hooks.py:692] global_step/sec: 20.592\n",
            "INFO:tensorflow:loss = 9.582344, step = 18600 (4.856 sec)\n",
            "I0926 13:40:07.221596 140207035189120 basic_session_run_hooks.py:260] loss = 9.582344, step = 18600 (4.856 sec)\n",
            "INFO:tensorflow:global_step/sec: 20.6665\n",
            "I0926 13:40:12.059170 140207035189120 basic_session_run_hooks.py:692] global_step/sec: 20.6665\n",
            "INFO:tensorflow:loss = 9.232895, step = 18700 (4.839 sec)\n",
            "I0926 13:40:12.060415 140207035189120 basic_session_run_hooks.py:260] loss = 9.232895, step = 18700 (4.839 sec)\n",
            "INFO:tensorflow:global_step/sec: 20.6241\n",
            "I0926 13:40:16.907878 140207035189120 basic_session_run_hooks.py:692] global_step/sec: 20.6241\n",
            "INFO:tensorflow:loss = 8.767887, step = 18800 (4.849 sec)\n",
            "I0926 13:40:16.909098 140207035189120 basic_session_run_hooks.py:260] loss = 8.767887, step = 18800 (4.849 sec)\n",
            "INFO:tensorflow:global_step/sec: 20.7472\n",
            "I0926 13:40:21.727823 140207035189120 basic_session_run_hooks.py:692] global_step/sec: 20.7472\n",
            "INFO:tensorflow:loss = 8.320069, step = 18900 (4.820 sec)\n",
            "I0926 13:40:21.728849 140207035189120 basic_session_run_hooks.py:260] loss = 8.320069, step = 18900 (4.820 sec)\n",
            "INFO:tensorflow:global_step/sec: 20.4531\n",
            "I0926 13:40:26.617032 140207035189120 basic_session_run_hooks.py:692] global_step/sec: 20.4531\n",
            "INFO:tensorflow:loss = 7.6681614, step = 19000 (4.890 sec)\n",
            "I0926 13:40:26.618360 140207035189120 basic_session_run_hooks.py:260] loss = 7.6681614, step = 19000 (4.890 sec)\n",
            "INFO:tensorflow:global_step/sec: 20.4422\n",
            "I0926 13:40:31.508902 140207035189120 basic_session_run_hooks.py:692] global_step/sec: 20.4422\n",
            "INFO:tensorflow:loss = 9.338511, step = 19100 (4.891 sec)\n",
            "I0926 13:40:31.509861 140207035189120 basic_session_run_hooks.py:260] loss = 9.338511, step = 19100 (4.891 sec)\n"
          ],
          "name": "stdout"
        }
      ]
    },
    {
      "cell_type": "code",
      "metadata": {
        "id": "f0ZS8zUwuAyV",
        "outputId": "e1594cc2-c828-4d6f-ab9b-fd07b64e1f58",
        "colab": {
          "base_uri": "https://localhost:8080/",
          "height": 204
        }
      },
      "source": [
        "!ls {model_dir}"
      ],
      "execution_count": 40,
      "outputs": [
        {
          "output_type": "stream",
          "text": [
            "checkpoint\n",
            "eval_0\n",
            "events.out.tfevents.1601122514.3c0ae76b980d\n",
            "export\n",
            "graph.pbtxt\n",
            "model.ckpt-0.data-00000-of-00001\n",
            "model.ckpt-0.index\n",
            "model.ckpt-0.meta\n",
            "model.ckpt-5000.data-00000-of-00001\n",
            "model.ckpt-5000.index\n",
            "model.ckpt-5000.meta\n"
          ],
          "name": "stdout"
        }
      ]
    },
    {
      "cell_type": "code",
      "metadata": {
        "id": "aBMyxL3cuepM"
      },
      "source": [
        ""
      ],
      "execution_count": null,
      "outputs": []
    },
    {
      "cell_type": "markdown",
      "metadata": {
        "id": "b3n_TkPAujHk"
      },
      "source": [
        "## Exporting a Trained Inference Graph\n",
        "Once your training job is complete, you need to extract the newly trained inference graph, which will be later used to perform the object detection"
      ]
    },
    {
      "cell_type": "code",
      "metadata": {
        "id": "_jMKkpNju79_",
        "outputId": "c4da613b-162b-49fc-be46-05bc30ed95c6",
        "colab": {
          "base_uri": "https://localhost:8080/",
          "height": 1000
        }
      },
      "source": [
        "import re\n",
        "import numpy as np\n",
        "\n",
        "output_directory = './fine_tuned_model'\n",
        "\n",
        "lst = os.listdir(model_dir)\n",
        "lst = [l for l in lst if 'model.ckpt-' in l and '.meta' in l]\n",
        "steps=np.array([int(re.findall('\\d+', l)[0]) for l in lst])\n",
        "last_model = lst[steps.argmax()].replace('.meta', '')\n",
        "\n",
        "last_model_path = os.path.join(model_dir, last_model)\n",
        "print(last_model_path)\n",
        "!python /content/models/research/object_detection/export_inference_graph.py \\\n",
        "    --input_type=image_tensor \\\n",
        "    --pipeline_config_path={pipeline_fname} \\\n",
        "    --output_directory={output_directory} \\\n",
        "    --trained_checkpoint_prefix={last_model_path}"
      ],
      "execution_count": 41,
      "outputs": [
        {
          "output_type": "stream",
          "text": [
            "training/model.ckpt-5000\n",
            "WARNING:tensorflow:From /usr/local/lib/python3.6/dist-packages/tf_slim/layers/layers.py:1089: Layer.apply (from tensorflow.python.keras.engine.base_layer) is deprecated and will be removed in a future version.\n",
            "Instructions for updating:\n",
            "Please use `layer.__call__` method instead.\n",
            "W0926 13:17:30.287852 140386905995136 deprecation.py:323] From /usr/local/lib/python3.6/dist-packages/tf_slim/layers/layers.py:1089: Layer.apply (from tensorflow.python.keras.engine.base_layer) is deprecated and will be removed in a future version.\n",
            "Instructions for updating:\n",
            "Please use `layer.__call__` method instead.\n",
            "INFO:tensorflow:depth of additional conv before box predictor: 0\n",
            "I0926 13:17:32.536812 140386905995136 convolutional_box_predictor.py:156] depth of additional conv before box predictor: 0\n",
            "INFO:tensorflow:depth of additional conv before box predictor: 0\n",
            "I0926 13:17:32.579150 140386905995136 convolutional_box_predictor.py:156] depth of additional conv before box predictor: 0\n",
            "INFO:tensorflow:depth of additional conv before box predictor: 0\n",
            "I0926 13:17:32.619771 140386905995136 convolutional_box_predictor.py:156] depth of additional conv before box predictor: 0\n",
            "INFO:tensorflow:depth of additional conv before box predictor: 0\n",
            "I0926 13:17:32.660276 140386905995136 convolutional_box_predictor.py:156] depth of additional conv before box predictor: 0\n",
            "INFO:tensorflow:depth of additional conv before box predictor: 0\n",
            "I0926 13:17:32.700570 140386905995136 convolutional_box_predictor.py:156] depth of additional conv before box predictor: 0\n",
            "INFO:tensorflow:depth of additional conv before box predictor: 0\n",
            "I0926 13:17:32.740646 140386905995136 convolutional_box_predictor.py:156] depth of additional conv before box predictor: 0\n",
            "WARNING:tensorflow:From /content/models/research/object_detection/core/post_processing.py:595: where (from tensorflow.python.ops.array_ops) is deprecated and will be removed in a future version.\n",
            "Instructions for updating:\n",
            "Use tf.where in 2.0, which has the same broadcast rule as np.where\n",
            "W0926 13:17:33.147691 140386905995136 deprecation.py:323] From /content/models/research/object_detection/core/post_processing.py:595: where (from tensorflow.python.ops.array_ops) is deprecated and will be removed in a future version.\n",
            "Instructions for updating:\n",
            "Use tf.where in 2.0, which has the same broadcast rule as np.where\n",
            "WARNING:tensorflow:From /content/models/research/object_detection/exporter.py:474: get_or_create_global_step (from tf_slim.ops.variables) is deprecated and will be removed in a future version.\n",
            "Instructions for updating:\n",
            "Please switch to tf.train.get_or_create_global_step\n",
            "W0926 13:17:33.798320 140386905995136 deprecation.py:323] From /content/models/research/object_detection/exporter.py:474: get_or_create_global_step (from tf_slim.ops.variables) is deprecated and will be removed in a future version.\n",
            "Instructions for updating:\n",
            "Please switch to tf.train.get_or_create_global_step\n",
            "WARNING:tensorflow:From /content/models/research/object_detection/exporter.py:653: print_model_analysis (from tensorflow.contrib.tfprof.model_analyzer) is deprecated and will be removed after 2018-01-01.\n",
            "Instructions for updating:\n",
            "Use `tf.profiler.profile(graph, run_meta, op_log, cmd, options)`. Build `options` with `tf.profiler.ProfileOptionBuilder`. See README.md for details\n",
            "W0926 13:17:33.801949 140386905995136 deprecation.py:323] From /content/models/research/object_detection/exporter.py:653: print_model_analysis (from tensorflow.contrib.tfprof.model_analyzer) is deprecated and will be removed after 2018-01-01.\n",
            "Instructions for updating:\n",
            "Use `tf.profiler.profile(graph, run_meta, op_log, cmd, options)`. Build `options` with `tf.profiler.ProfileOptionBuilder`. See README.md for details\n",
            "WARNING:tensorflow:From /tensorflow-1.15.2/python3.6/tensorflow_core/python/profiler/internal/flops_registry.py:142: tensor_shape_from_node_def_name (from tensorflow.python.framework.graph_util_impl) is deprecated and will be removed in a future version.\n",
            "Instructions for updating:\n",
            "Use `tf.compat.v1.graph_util.tensor_shape_from_node_def_name`\n",
            "W0926 13:17:33.802582 140386905995136 deprecation.py:323] From /tensorflow-1.15.2/python3.6/tensorflow_core/python/profiler/internal/flops_registry.py:142: tensor_shape_from_node_def_name (from tensorflow.python.framework.graph_util_impl) is deprecated and will be removed in a future version.\n",
            "Instructions for updating:\n",
            "Use `tf.compat.v1.graph_util.tensor_shape_from_node_def_name`\n",
            "149 ops no flops stats due to incomplete shapes.\n",
            "Parsing Inputs...\n",
            "Incomplete shape.\n",
            "\n",
            "=========================Options=============================\n",
            "-max_depth                  10000\n",
            "-min_bytes                  0\n",
            "-min_peak_bytes             0\n",
            "-min_residual_bytes         0\n",
            "-min_output_bytes           0\n",
            "-min_micros                 0\n",
            "-min_accelerator_micros     0\n",
            "-min_cpu_micros             0\n",
            "-min_params                 0\n",
            "-min_float_ops              0\n",
            "-min_occurrence             0\n",
            "-step                       -1\n",
            "-order_by                   name\n",
            "-account_type_regexes       _trainable_variables\n",
            "-start_name_regexes         .*\n",
            "-trim_name_regexes          .*BatchNorm.*\n",
            "-show_name_regexes          .*\n",
            "-hide_name_regexes          \n",
            "-account_displayed_op_only  true\n",
            "-select                     params\n",
            "-output                     stdout:\n",
            "\n",
            "==================Model Analysis Report======================\n",
            "Incomplete shape.\n",
            "\n",
            "Doc:\n",
            "scope: The nodes in the model graph are organized by their names, which is hierarchical like filesystem.\n",
            "param: Number of parameters (in the Variable).\n",
            "\n",
            "Profile:\n",
            "node name | # parameters\n",
            "_TFProfRoot (--/4.70m params)\n",
            "  BoxPredictor_0 (--/24.23k params)\n",
            "    BoxPredictor_0/BoxEncodingPredictor (--/6.92k params)\n",
            "      BoxPredictor_0/BoxEncodingPredictor/biases (12, 12/12 params)\n",
            "      BoxPredictor_0/BoxEncodingPredictor/weights (1x1x576x12, 6.91k/6.91k params)\n",
            "    BoxPredictor_0/ClassPredictor (--/17.31k params)\n",
            "      BoxPredictor_0/ClassPredictor/biases (30, 30/30 params)\n",
            "      BoxPredictor_0/ClassPredictor/weights (1x1x576x30, 17.28k/17.28k params)\n",
            "  BoxPredictor_1 (--/107.60k params)\n",
            "    BoxPredictor_1/BoxEncodingPredictor (--/30.74k params)\n",
            "      BoxPredictor_1/BoxEncodingPredictor/biases (24, 24/24 params)\n",
            "      BoxPredictor_1/BoxEncodingPredictor/weights (1x1x1280x24, 30.72k/30.72k params)\n",
            "    BoxPredictor_1/ClassPredictor (--/76.86k params)\n",
            "      BoxPredictor_1/ClassPredictor/biases (60, 60/60 params)\n",
            "      BoxPredictor_1/ClassPredictor/weights (1x1x1280x60, 76.80k/76.80k params)\n",
            "  BoxPredictor_2 (--/43.09k params)\n",
            "    BoxPredictor_2/BoxEncodingPredictor (--/12.31k params)\n",
            "      BoxPredictor_2/BoxEncodingPredictor/biases (24, 24/24 params)\n",
            "      BoxPredictor_2/BoxEncodingPredictor/weights (1x1x512x24, 12.29k/12.29k params)\n",
            "    BoxPredictor_2/ClassPredictor (--/30.78k params)\n",
            "      BoxPredictor_2/ClassPredictor/biases (60, 60/60 params)\n",
            "      BoxPredictor_2/ClassPredictor/weights (1x1x512x60, 30.72k/30.72k params)\n",
            "  BoxPredictor_3 (--/21.59k params)\n",
            "    BoxPredictor_3/BoxEncodingPredictor (--/6.17k params)\n",
            "      BoxPredictor_3/BoxEncodingPredictor/biases (24, 24/24 params)\n",
            "      BoxPredictor_3/BoxEncodingPredictor/weights (1x1x256x24, 6.14k/6.14k params)\n",
            "    BoxPredictor_3/ClassPredictor (--/15.42k params)\n",
            "      BoxPredictor_3/ClassPredictor/biases (60, 60/60 params)\n",
            "      BoxPredictor_3/ClassPredictor/weights (1x1x256x60, 15.36k/15.36k params)\n",
            "  BoxPredictor_4 (--/21.59k params)\n",
            "    BoxPredictor_4/BoxEncodingPredictor (--/6.17k params)\n",
            "      BoxPredictor_4/BoxEncodingPredictor/biases (24, 24/24 params)\n",
            "      BoxPredictor_4/BoxEncodingPredictor/weights (1x1x256x24, 6.14k/6.14k params)\n",
            "    BoxPredictor_4/ClassPredictor (--/15.42k params)\n",
            "      BoxPredictor_4/ClassPredictor/biases (60, 60/60 params)\n",
            "      BoxPredictor_4/ClassPredictor/weights (1x1x256x60, 15.36k/15.36k params)\n",
            "  BoxPredictor_5 (--/10.84k params)\n",
            "    BoxPredictor_5/BoxEncodingPredictor (--/3.10k params)\n",
            "      BoxPredictor_5/BoxEncodingPredictor/biases (24, 24/24 params)\n",
            "      BoxPredictor_5/BoxEncodingPredictor/weights (1x1x128x24, 3.07k/3.07k params)\n",
            "    BoxPredictor_5/ClassPredictor (--/7.74k params)\n",
            "      BoxPredictor_5/ClassPredictor/biases (60, 60/60 params)\n",
            "      BoxPredictor_5/ClassPredictor/weights (1x1x128x60, 7.68k/7.68k params)\n",
            "  FeatureExtractor (--/4.48m params)\n",
            "    FeatureExtractor/MobilenetV2 (--/4.48m params)\n",
            "      FeatureExtractor/MobilenetV2/Conv (--/864 params)\n",
            "        FeatureExtractor/MobilenetV2/Conv/BatchNorm (--/0 params)\n",
            "        FeatureExtractor/MobilenetV2/Conv/weights (3x3x3x32, 864/864 params)\n",
            "      FeatureExtractor/MobilenetV2/Conv_1 (--/409.60k params)\n",
            "        FeatureExtractor/MobilenetV2/Conv_1/BatchNorm (--/0 params)\n",
            "        FeatureExtractor/MobilenetV2/Conv_1/weights (1x1x320x1280, 409.60k/409.60k params)\n",
            "      FeatureExtractor/MobilenetV2/expanded_conv (--/800 params)\n",
            "        FeatureExtractor/MobilenetV2/expanded_conv/depthwise (--/288 params)\n",
            "          FeatureExtractor/MobilenetV2/expanded_conv/depthwise/BatchNorm (--/0 params)\n",
            "          FeatureExtractor/MobilenetV2/expanded_conv/depthwise/depthwise_weights (3x3x32x1, 288/288 params)\n",
            "        FeatureExtractor/MobilenetV2/expanded_conv/project (--/512 params)\n",
            "          FeatureExtractor/MobilenetV2/expanded_conv/project/BatchNorm (--/0 params)\n",
            "          FeatureExtractor/MobilenetV2/expanded_conv/project/weights (1x1x32x16, 512/512 params)\n",
            "      FeatureExtractor/MobilenetV2/expanded_conv_1 (--/4.70k params)\n",
            "        FeatureExtractor/MobilenetV2/expanded_conv_1/depthwise (--/864 params)\n",
            "          FeatureExtractor/MobilenetV2/expanded_conv_1/depthwise/BatchNorm (--/0 params)\n",
            "          FeatureExtractor/MobilenetV2/expanded_conv_1/depthwise/depthwise_weights (3x3x96x1, 864/864 params)\n",
            "        FeatureExtractor/MobilenetV2/expanded_conv_1/expand (--/1.54k params)\n",
            "          FeatureExtractor/MobilenetV2/expanded_conv_1/expand/BatchNorm (--/0 params)\n",
            "          FeatureExtractor/MobilenetV2/expanded_conv_1/expand/weights (1x1x16x96, 1.54k/1.54k params)\n",
            "        FeatureExtractor/MobilenetV2/expanded_conv_1/project (--/2.30k params)\n",
            "          FeatureExtractor/MobilenetV2/expanded_conv_1/project/BatchNorm (--/0 params)\n",
            "          FeatureExtractor/MobilenetV2/expanded_conv_1/project/weights (1x1x96x24, 2.30k/2.30k params)\n",
            "      FeatureExtractor/MobilenetV2/expanded_conv_10 (--/64.90k params)\n",
            "        FeatureExtractor/MobilenetV2/expanded_conv_10/depthwise (--/3.46k params)\n",
            "          FeatureExtractor/MobilenetV2/expanded_conv_10/depthwise/BatchNorm (--/0 params)\n",
            "          FeatureExtractor/MobilenetV2/expanded_conv_10/depthwise/depthwise_weights (3x3x384x1, 3.46k/3.46k params)\n",
            "        FeatureExtractor/MobilenetV2/expanded_conv_10/expand (--/24.58k params)\n",
            "          FeatureExtractor/MobilenetV2/expanded_conv_10/expand/BatchNorm (--/0 params)\n",
            "          FeatureExtractor/MobilenetV2/expanded_conv_10/expand/weights (1x1x64x384, 24.58k/24.58k params)\n",
            "        FeatureExtractor/MobilenetV2/expanded_conv_10/project (--/36.86k params)\n",
            "          FeatureExtractor/MobilenetV2/expanded_conv_10/project/BatchNorm (--/0 params)\n",
            "          FeatureExtractor/MobilenetV2/expanded_conv_10/project/weights (1x1x384x96, 36.86k/36.86k params)\n",
            "      FeatureExtractor/MobilenetV2/expanded_conv_11 (--/115.78k params)\n",
            "        FeatureExtractor/MobilenetV2/expanded_conv_11/depthwise (--/5.18k params)\n",
            "          FeatureExtractor/MobilenetV2/expanded_conv_11/depthwise/BatchNorm (--/0 params)\n",
            "          FeatureExtractor/MobilenetV2/expanded_conv_11/depthwise/depthwise_weights (3x3x576x1, 5.18k/5.18k params)\n",
            "        FeatureExtractor/MobilenetV2/expanded_conv_11/expand (--/55.30k params)\n",
            "          FeatureExtractor/MobilenetV2/expanded_conv_11/expand/BatchNorm (--/0 params)\n",
            "          FeatureExtractor/MobilenetV2/expanded_conv_11/expand/weights (1x1x96x576, 55.30k/55.30k params)\n",
            "        FeatureExtractor/MobilenetV2/expanded_conv_11/project (--/55.30k params)\n",
            "          FeatureExtractor/MobilenetV2/expanded_conv_11/project/BatchNorm (--/0 params)\n",
            "          FeatureExtractor/MobilenetV2/expanded_conv_11/project/weights (1x1x576x96, 55.30k/55.30k params)\n",
            "      FeatureExtractor/MobilenetV2/expanded_conv_12 (--/115.78k params)\n",
            "        FeatureExtractor/MobilenetV2/expanded_conv_12/depthwise (--/5.18k params)\n",
            "          FeatureExtractor/MobilenetV2/expanded_conv_12/depthwise/BatchNorm (--/0 params)\n",
            "          FeatureExtractor/MobilenetV2/expanded_conv_12/depthwise/depthwise_weights (3x3x576x1, 5.18k/5.18k params)\n",
            "        FeatureExtractor/MobilenetV2/expanded_conv_12/expand (--/55.30k params)\n",
            "          FeatureExtractor/MobilenetV2/expanded_conv_12/expand/BatchNorm (--/0 params)\n",
            "          FeatureExtractor/MobilenetV2/expanded_conv_12/expand/weights (1x1x96x576, 55.30k/55.30k params)\n",
            "        FeatureExtractor/MobilenetV2/expanded_conv_12/project (--/55.30k params)\n",
            "          FeatureExtractor/MobilenetV2/expanded_conv_12/project/BatchNorm (--/0 params)\n",
            "          FeatureExtractor/MobilenetV2/expanded_conv_12/project/weights (1x1x576x96, 55.30k/55.30k params)\n",
            "      FeatureExtractor/MobilenetV2/expanded_conv_13 (--/152.64k params)\n",
            "        FeatureExtractor/MobilenetV2/expanded_conv_13/depthwise (--/5.18k params)\n",
            "          FeatureExtractor/MobilenetV2/expanded_conv_13/depthwise/BatchNorm (--/0 params)\n",
            "          FeatureExtractor/MobilenetV2/expanded_conv_13/depthwise/depthwise_weights (3x3x576x1, 5.18k/5.18k params)\n",
            "        FeatureExtractor/MobilenetV2/expanded_conv_13/expand (--/55.30k params)\n",
            "          FeatureExtractor/MobilenetV2/expanded_conv_13/expand/BatchNorm (--/0 params)\n",
            "          FeatureExtractor/MobilenetV2/expanded_conv_13/expand/weights (1x1x96x576, 55.30k/55.30k params)\n",
            "        FeatureExtractor/MobilenetV2/expanded_conv_13/project (--/92.16k params)\n",
            "          FeatureExtractor/MobilenetV2/expanded_conv_13/project/BatchNorm (--/0 params)\n",
            "          FeatureExtractor/MobilenetV2/expanded_conv_13/project/weights (1x1x576x160, 92.16k/92.16k params)\n",
            "      FeatureExtractor/MobilenetV2/expanded_conv_14 (--/315.84k params)\n",
            "        FeatureExtractor/MobilenetV2/expanded_conv_14/depthwise (--/8.64k params)\n",
            "          FeatureExtractor/MobilenetV2/expanded_conv_14/depthwise/BatchNorm (--/0 params)\n",
            "          FeatureExtractor/MobilenetV2/expanded_conv_14/depthwise/depthwise_weights (3x3x960x1, 8.64k/8.64k params)\n",
            "        FeatureExtractor/MobilenetV2/expanded_conv_14/expand (--/153.60k params)\n",
            "          FeatureExtractor/MobilenetV2/expanded_conv_14/expand/BatchNorm (--/0 params)\n",
            "          FeatureExtractor/MobilenetV2/expanded_conv_14/expand/weights (1x1x160x960, 153.60k/153.60k params)\n",
            "        FeatureExtractor/MobilenetV2/expanded_conv_14/project (--/153.60k params)\n",
            "          FeatureExtractor/MobilenetV2/expanded_conv_14/project/BatchNorm (--/0 params)\n",
            "          FeatureExtractor/MobilenetV2/expanded_conv_14/project/weights (1x1x960x160, 153.60k/153.60k params)\n",
            "      FeatureExtractor/MobilenetV2/expanded_conv_15 (--/315.84k params)\n",
            "        FeatureExtractor/MobilenetV2/expanded_conv_15/depthwise (--/8.64k params)\n",
            "          FeatureExtractor/MobilenetV2/expanded_conv_15/depthwise/BatchNorm (--/0 params)\n",
            "          FeatureExtractor/MobilenetV2/expanded_conv_15/depthwise/depthwise_weights (3x3x960x1, 8.64k/8.64k params)\n",
            "        FeatureExtractor/MobilenetV2/expanded_conv_15/expand (--/153.60k params)\n",
            "          FeatureExtractor/MobilenetV2/expanded_conv_15/expand/BatchNorm (--/0 params)\n",
            "          FeatureExtractor/MobilenetV2/expanded_conv_15/expand/weights (1x1x160x960, 153.60k/153.60k params)\n",
            "        FeatureExtractor/MobilenetV2/expanded_conv_15/project (--/153.60k params)\n",
            "          FeatureExtractor/MobilenetV2/expanded_conv_15/project/BatchNorm (--/0 params)\n",
            "          FeatureExtractor/MobilenetV2/expanded_conv_15/project/weights (1x1x960x160, 153.60k/153.60k params)\n",
            "      FeatureExtractor/MobilenetV2/expanded_conv_16 (--/469.44k params)\n",
            "        FeatureExtractor/MobilenetV2/expanded_conv_16/depthwise (--/8.64k params)\n",
            "          FeatureExtractor/MobilenetV2/expanded_conv_16/depthwise/BatchNorm (--/0 params)\n",
            "          FeatureExtractor/MobilenetV2/expanded_conv_16/depthwise/depthwise_weights (3x3x960x1, 8.64k/8.64k params)\n",
            "        FeatureExtractor/MobilenetV2/expanded_conv_16/expand (--/153.60k params)\n",
            "          FeatureExtractor/MobilenetV2/expanded_conv_16/expand/BatchNorm (--/0 params)\n",
            "          FeatureExtractor/MobilenetV2/expanded_conv_16/expand/weights (1x1x160x960, 153.60k/153.60k params)\n",
            "        FeatureExtractor/MobilenetV2/expanded_conv_16/project (--/307.20k params)\n",
            "          FeatureExtractor/MobilenetV2/expanded_conv_16/project/BatchNorm (--/0 params)\n",
            "          FeatureExtractor/MobilenetV2/expanded_conv_16/project/weights (1x1x960x320, 307.20k/307.20k params)\n",
            "      FeatureExtractor/MobilenetV2/expanded_conv_2 (--/8.21k params)\n",
            "        FeatureExtractor/MobilenetV2/expanded_conv_2/depthwise (--/1.30k params)\n",
            "          FeatureExtractor/MobilenetV2/expanded_conv_2/depthwise/BatchNorm (--/0 params)\n",
            "          FeatureExtractor/MobilenetV2/expanded_conv_2/depthwise/depthwise_weights (3x3x144x1, 1.30k/1.30k params)\n",
            "        FeatureExtractor/MobilenetV2/expanded_conv_2/expand (--/3.46k params)\n",
            "          FeatureExtractor/MobilenetV2/expanded_conv_2/expand/BatchNorm (--/0 params)\n",
            "          FeatureExtractor/MobilenetV2/expanded_conv_2/expand/weights (1x1x24x144, 3.46k/3.46k params)\n",
            "        FeatureExtractor/MobilenetV2/expanded_conv_2/project (--/3.46k params)\n",
            "          FeatureExtractor/MobilenetV2/expanded_conv_2/project/BatchNorm (--/0 params)\n",
            "          FeatureExtractor/MobilenetV2/expanded_conv_2/project/weights (1x1x144x24, 3.46k/3.46k params)\n",
            "      FeatureExtractor/MobilenetV2/expanded_conv_3 (--/9.36k params)\n",
            "        FeatureExtractor/MobilenetV2/expanded_conv_3/depthwise (--/1.30k params)\n",
            "          FeatureExtractor/MobilenetV2/expanded_conv_3/depthwise/BatchNorm (--/0 params)\n",
            "          FeatureExtractor/MobilenetV2/expanded_conv_3/depthwise/depthwise_weights (3x3x144x1, 1.30k/1.30k params)\n",
            "        FeatureExtractor/MobilenetV2/expanded_conv_3/expand (--/3.46k params)\n",
            "          FeatureExtractor/MobilenetV2/expanded_conv_3/expand/BatchNorm (--/0 params)\n",
            "          FeatureExtractor/MobilenetV2/expanded_conv_3/expand/weights (1x1x24x144, 3.46k/3.46k params)\n",
            "        FeatureExtractor/MobilenetV2/expanded_conv_3/project (--/4.61k params)\n",
            "          FeatureExtractor/MobilenetV2/expanded_conv_3/project/BatchNorm (--/0 params)\n",
            "          FeatureExtractor/MobilenetV2/expanded_conv_3/project/weights (1x1x144x32, 4.61k/4.61k params)\n",
            "      FeatureExtractor/MobilenetV2/expanded_conv_4 (--/14.02k params)\n",
            "        FeatureExtractor/MobilenetV2/expanded_conv_4/depthwise (--/1.73k params)\n",
            "          FeatureExtractor/MobilenetV2/expanded_conv_4/depthwise/BatchNorm (--/0 params)\n",
            "          FeatureExtractor/MobilenetV2/expanded_conv_4/depthwise/depthwise_weights (3x3x192x1, 1.73k/1.73k params)\n",
            "        FeatureExtractor/MobilenetV2/expanded_conv_4/expand (--/6.14k params)\n",
            "          FeatureExtractor/MobilenetV2/expanded_conv_4/expand/BatchNorm (--/0 params)\n",
            "          FeatureExtractor/MobilenetV2/expanded_conv_4/expand/weights (1x1x32x192, 6.14k/6.14k params)\n",
            "        FeatureExtractor/MobilenetV2/expanded_conv_4/project (--/6.14k params)\n",
            "          FeatureExtractor/MobilenetV2/expanded_conv_4/project/BatchNorm (--/0 params)\n",
            "          FeatureExtractor/MobilenetV2/expanded_conv_4/project/weights (1x1x192x32, 6.14k/6.14k params)\n",
            "      FeatureExtractor/MobilenetV2/expanded_conv_5 (--/14.02k params)\n",
            "        FeatureExtractor/MobilenetV2/expanded_conv_5/depthwise (--/1.73k params)\n",
            "          FeatureExtractor/MobilenetV2/expanded_conv_5/depthwise/BatchNorm (--/0 params)\n",
            "          FeatureExtractor/MobilenetV2/expanded_conv_5/depthwise/depthwise_weights (3x3x192x1, 1.73k/1.73k params)\n",
            "        FeatureExtractor/MobilenetV2/expanded_conv_5/expand (--/6.14k params)\n",
            "          FeatureExtractor/MobilenetV2/expanded_conv_5/expand/BatchNorm (--/0 params)\n",
            "          FeatureExtractor/MobilenetV2/expanded_conv_5/expand/weights (1x1x32x192, 6.14k/6.14k params)\n",
            "        FeatureExtractor/MobilenetV2/expanded_conv_5/project (--/6.14k params)\n",
            "          FeatureExtractor/MobilenetV2/expanded_conv_5/project/BatchNorm (--/0 params)\n",
            "          FeatureExtractor/MobilenetV2/expanded_conv_5/project/weights (1x1x192x32, 6.14k/6.14k params)\n",
            "      FeatureExtractor/MobilenetV2/expanded_conv_6 (--/20.16k params)\n",
            "        FeatureExtractor/MobilenetV2/expanded_conv_6/depthwise (--/1.73k params)\n",
            "          FeatureExtractor/MobilenetV2/expanded_conv_6/depthwise/BatchNorm (--/0 params)\n",
            "          FeatureExtractor/MobilenetV2/expanded_conv_6/depthwise/depthwise_weights (3x3x192x1, 1.73k/1.73k params)\n",
            "        FeatureExtractor/MobilenetV2/expanded_conv_6/expand (--/6.14k params)\n",
            "          FeatureExtractor/MobilenetV2/expanded_conv_6/expand/BatchNorm (--/0 params)\n",
            "          FeatureExtractor/MobilenetV2/expanded_conv_6/expand/weights (1x1x32x192, 6.14k/6.14k params)\n",
            "        FeatureExtractor/MobilenetV2/expanded_conv_6/project (--/12.29k params)\n",
            "          FeatureExtractor/MobilenetV2/expanded_conv_6/project/BatchNorm (--/0 params)\n",
            "          FeatureExtractor/MobilenetV2/expanded_conv_6/project/weights (1x1x192x64, 12.29k/12.29k params)\n",
            "      FeatureExtractor/MobilenetV2/expanded_conv_7 (--/52.61k params)\n",
            "        FeatureExtractor/MobilenetV2/expanded_conv_7/depthwise (--/3.46k params)\n",
            "          FeatureExtractor/MobilenetV2/expanded_conv_7/depthwise/BatchNorm (--/0 params)\n",
            "          FeatureExtractor/MobilenetV2/expanded_conv_7/depthwise/depthwise_weights (3x3x384x1, 3.46k/3.46k params)\n",
            "        FeatureExtractor/MobilenetV2/expanded_conv_7/expand (--/24.58k params)\n",
            "          FeatureExtractor/MobilenetV2/expanded_conv_7/expand/BatchNorm (--/0 params)\n",
            "          FeatureExtractor/MobilenetV2/expanded_conv_7/expand/weights (1x1x64x384, 24.58k/24.58k params)\n",
            "        FeatureExtractor/MobilenetV2/expanded_conv_7/project (--/24.58k params)\n",
            "          FeatureExtractor/MobilenetV2/expanded_conv_7/project/BatchNorm (--/0 params)\n",
            "          FeatureExtractor/MobilenetV2/expanded_conv_7/project/weights (1x1x384x64, 24.58k/24.58k params)\n",
            "      FeatureExtractor/MobilenetV2/expanded_conv_8 (--/52.61k params)\n",
            "        FeatureExtractor/MobilenetV2/expanded_conv_8/depthwise (--/3.46k params)\n",
            "          FeatureExtractor/MobilenetV2/expanded_conv_8/depthwise/BatchNorm (--/0 params)\n",
            "          FeatureExtractor/MobilenetV2/expanded_conv_8/depthwise/depthwise_weights (3x3x384x1, 3.46k/3.46k params)\n",
            "        FeatureExtractor/MobilenetV2/expanded_conv_8/expand (--/24.58k params)\n",
            "          FeatureExtractor/MobilenetV2/expanded_conv_8/expand/BatchNorm (--/0 params)\n",
            "          FeatureExtractor/MobilenetV2/expanded_conv_8/expand/weights (1x1x64x384, 24.58k/24.58k params)\n",
            "        FeatureExtractor/MobilenetV2/expanded_conv_8/project (--/24.58k params)\n",
            "          FeatureExtractor/MobilenetV2/expanded_conv_8/project/BatchNorm (--/0 params)\n",
            "          FeatureExtractor/MobilenetV2/expanded_conv_8/project/weights (1x1x384x64, 24.58k/24.58k params)\n",
            "      FeatureExtractor/MobilenetV2/expanded_conv_9 (--/52.61k params)\n",
            "        FeatureExtractor/MobilenetV2/expanded_conv_9/depthwise (--/3.46k params)\n",
            "          FeatureExtractor/MobilenetV2/expanded_conv_9/depthwise/BatchNorm (--/0 params)\n",
            "          FeatureExtractor/MobilenetV2/expanded_conv_9/depthwise/depthwise_weights (3x3x384x1, 3.46k/3.46k params)\n",
            "        FeatureExtractor/MobilenetV2/expanded_conv_9/expand (--/24.58k params)\n",
            "          FeatureExtractor/MobilenetV2/expanded_conv_9/expand/BatchNorm (--/0 params)\n",
            "          FeatureExtractor/MobilenetV2/expanded_conv_9/expand/weights (1x1x64x384, 24.58k/24.58k params)\n",
            "        FeatureExtractor/MobilenetV2/expanded_conv_9/project (--/24.58k params)\n",
            "          FeatureExtractor/MobilenetV2/expanded_conv_9/project/BatchNorm (--/0 params)\n",
            "          FeatureExtractor/MobilenetV2/expanded_conv_9/project/weights (1x1x384x64, 24.58k/24.58k params)\n",
            "      FeatureExtractor/MobilenetV2/layer_19_1_Conv2d_2_1x1_256 (--/327.68k params)\n",
            "        FeatureExtractor/MobilenetV2/layer_19_1_Conv2d_2_1x1_256/BatchNorm (--/0 params)\n",
            "        FeatureExtractor/MobilenetV2/layer_19_1_Conv2d_2_1x1_256/weights (1x1x1280x256, 327.68k/327.68k params)\n",
            "      FeatureExtractor/MobilenetV2/layer_19_1_Conv2d_3_1x1_128 (--/65.54k params)\n",
            "        FeatureExtractor/MobilenetV2/layer_19_1_Conv2d_3_1x1_128/BatchNorm (--/0 params)\n",
            "        FeatureExtractor/MobilenetV2/layer_19_1_Conv2d_3_1x1_128/weights (1x1x512x128, 65.54k/65.54k params)\n",
            "      FeatureExtractor/MobilenetV2/layer_19_1_Conv2d_4_1x1_128 (--/32.77k params)\n",
            "        FeatureExtractor/MobilenetV2/layer_19_1_Conv2d_4_1x1_128/BatchNorm (--/0 params)\n",
            "        FeatureExtractor/MobilenetV2/layer_19_1_Conv2d_4_1x1_128/weights (1x1x256x128, 32.77k/32.77k params)\n",
            "      FeatureExtractor/MobilenetV2/layer_19_1_Conv2d_5_1x1_64 (--/16.38k params)\n",
            "        FeatureExtractor/MobilenetV2/layer_19_1_Conv2d_5_1x1_64/BatchNorm (--/0 params)\n",
            "        FeatureExtractor/MobilenetV2/layer_19_1_Conv2d_5_1x1_64/weights (1x1x256x64, 16.38k/16.38k params)\n",
            "      FeatureExtractor/MobilenetV2/layer_19_2_Conv2d_2_3x3_s2_512 (--/1.18m params)\n",
            "        FeatureExtractor/MobilenetV2/layer_19_2_Conv2d_2_3x3_s2_512/BatchNorm (--/0 params)\n",
            "        FeatureExtractor/MobilenetV2/layer_19_2_Conv2d_2_3x3_s2_512/weights (3x3x256x512, 1.18m/1.18m params)\n",
            "      FeatureExtractor/MobilenetV2/layer_19_2_Conv2d_3_3x3_s2_256 (--/294.91k params)\n",
            "        FeatureExtractor/MobilenetV2/layer_19_2_Conv2d_3_3x3_s2_256/BatchNorm (--/0 params)\n",
            "        FeatureExtractor/MobilenetV2/layer_19_2_Conv2d_3_3x3_s2_256/weights (3x3x128x256, 294.91k/294.91k params)\n",
            "      FeatureExtractor/MobilenetV2/layer_19_2_Conv2d_4_3x3_s2_256 (--/294.91k params)\n",
            "        FeatureExtractor/MobilenetV2/layer_19_2_Conv2d_4_3x3_s2_256/BatchNorm (--/0 params)\n",
            "        FeatureExtractor/MobilenetV2/layer_19_2_Conv2d_4_3x3_s2_256/weights (3x3x128x256, 294.91k/294.91k params)\n",
            "      FeatureExtractor/MobilenetV2/layer_19_2_Conv2d_5_3x3_s2_128 (--/73.73k params)\n",
            "        FeatureExtractor/MobilenetV2/layer_19_2_Conv2d_5_3x3_s2_128/BatchNorm (--/0 params)\n",
            "        FeatureExtractor/MobilenetV2/layer_19_2_Conv2d_5_3x3_s2_128/weights (3x3x64x128, 73.73k/73.73k params)\n",
            "\n",
            "======================End of Report==========================\n",
            "149 ops no flops stats due to incomplete shapes.\n",
            "Parsing Inputs...\n",
            "Incomplete shape.\n",
            "\n",
            "=========================Options=============================\n",
            "-max_depth                  10000\n",
            "-min_bytes                  0\n",
            "-min_peak_bytes             0\n",
            "-min_residual_bytes         0\n",
            "-min_output_bytes           0\n",
            "-min_micros                 0\n",
            "-min_accelerator_micros     0\n",
            "-min_cpu_micros             0\n",
            "-min_params                 0\n",
            "-min_float_ops              1\n",
            "-min_occurrence             0\n",
            "-step                       -1\n",
            "-order_by                   float_ops\n",
            "-account_type_regexes       .*\n",
            "-start_name_regexes         .*\n",
            "-trim_name_regexes          .*BatchNorm.*,.*Initializer.*,.*Regularizer.*,.*BiasAdd.*\n",
            "-show_name_regexes          .*\n",
            "-hide_name_regexes          \n",
            "-account_displayed_op_only  true\n",
            "-select                     float_ops\n",
            "-output                     stdout:\n",
            "\n",
            "==================Model Analysis Report======================\n",
            "Incomplete shape.\n",
            "\n",
            "Doc:\n",
            "scope: The nodes in the model graph are organized by their names, which is hierarchical like filesystem.\n",
            "flops: Number of float operations. Note: Please read the implementation for the math behind it.\n",
            "\n",
            "Profile:\n",
            "node name | # float_ops\n",
            "_TFProfRoot (--/13.73k flops)\n",
            "  MultipleGridAnchorGenerator/sub (2.17k/2.17k flops)\n",
            "  MultipleGridAnchorGenerator/mul_20 (2.17k/2.17k flops)\n",
            "  MultipleGridAnchorGenerator/mul_19 (2.17k/2.17k flops)\n",
            "  MultipleGridAnchorGenerator/sub_1 (1.20k/1.20k flops)\n",
            "  MultipleGridAnchorGenerator/mul_28 (1.20k/1.20k flops)\n",
            "  MultipleGridAnchorGenerator/mul_27 (1.20k/1.20k flops)\n",
            "  MultipleGridAnchorGenerator/mul_21 (1.08k/1.08k flops)\n",
            "  MultipleGridAnchorGenerator/mul_29 (600/600 flops)\n",
            "  MultipleGridAnchorGenerator/sub_2 (300/300 flops)\n",
            "  MultipleGridAnchorGenerator/mul_36 (300/300 flops)\n",
            "  MultipleGridAnchorGenerator/mul_35 (300/300 flops)\n",
            "  MultipleGridAnchorGenerator/mul_37 (150/150 flops)\n",
            "  MultipleGridAnchorGenerator/sub_3 (108/108 flops)\n",
            "  MultipleGridAnchorGenerator/mul_44 (108/108 flops)\n",
            "  MultipleGridAnchorGenerator/mul_43 (108/108 flops)\n",
            "  MultipleGridAnchorGenerator/mul_45 (54/54 flops)\n",
            "  MultipleGridAnchorGenerator/mul_52 (48/48 flops)\n",
            "  MultipleGridAnchorGenerator/mul_51 (48/48 flops)\n",
            "  MultipleGridAnchorGenerator/sub_4 (48/48 flops)\n",
            "  MultipleGridAnchorGenerator/mul_53 (24/24 flops)\n",
            "  MultipleGridAnchorGenerator/mul_17 (19/19 flops)\n",
            "  MultipleGridAnchorGenerator/mul_18 (19/19 flops)\n",
            "  MultipleGridAnchorGenerator/sub_5 (12/12 flops)\n",
            "  MultipleGridAnchorGenerator/mul_60 (12/12 flops)\n",
            "  MultipleGridAnchorGenerator/mul_59 (12/12 flops)\n",
            "  MultipleGridAnchorGenerator/mul_25 (10/10 flops)\n",
            "  MultipleGridAnchorGenerator/mul_26 (10/10 flops)\n",
            "  MultipleGridAnchorGenerator/truediv_15 (6/6 flops)\n",
            "  MultipleGridAnchorGenerator/truediv_19 (6/6 flops)\n",
            "  MultipleGridAnchorGenerator/mul_22 (6/6 flops)\n",
            "  MultipleGridAnchorGenerator/mul_54 (6/6 flops)\n",
            "  MultipleGridAnchorGenerator/mul_55 (6/6 flops)\n",
            "  MultipleGridAnchorGenerator/mul_48 (6/6 flops)\n",
            "  MultipleGridAnchorGenerator/mul_47 (6/6 flops)\n",
            "  MultipleGridAnchorGenerator/mul_46 (6/6 flops)\n",
            "  MultipleGridAnchorGenerator/mul_23 (6/6 flops)\n",
            "  MultipleGridAnchorGenerator/mul_24 (6/6 flops)\n",
            "  MultipleGridAnchorGenerator/mul_56 (6/6 flops)\n",
            "  MultipleGridAnchorGenerator/mul_40 (6/6 flops)\n",
            "  MultipleGridAnchorGenerator/mul_39 (6/6 flops)\n",
            "  MultipleGridAnchorGenerator/mul_38 (6/6 flops)\n",
            "  MultipleGridAnchorGenerator/truediv_18 (6/6 flops)\n",
            "  MultipleGridAnchorGenerator/truediv_17 (6/6 flops)\n",
            "  MultipleGridAnchorGenerator/mul_32 (6/6 flops)\n",
            "  MultipleGridAnchorGenerator/mul_31 (6/6 flops)\n",
            "  MultipleGridAnchorGenerator/mul_30 (6/6 flops)\n",
            "  MultipleGridAnchorGenerator/mul_61 (6/6 flops)\n",
            "  MultipleGridAnchorGenerator/truediv_16 (6/6 flops)\n",
            "  MultipleGridAnchorGenerator/mul_34 (5/5 flops)\n",
            "  MultipleGridAnchorGenerator/mul_33 (5/5 flops)\n",
            "  MultipleGridAnchorGenerator/mul_42 (3/3 flops)\n",
            "  MultipleGridAnchorGenerator/mul_41 (3/3 flops)\n",
            "  MultipleGridAnchorGenerator/mul_14 (3/3 flops)\n",
            "  MultipleGridAnchorGenerator/mul_15 (3/3 flops)\n",
            "  MultipleGridAnchorGenerator/mul_16 (3/3 flops)\n",
            "  MultipleGridAnchorGenerator/truediv_14 (3/3 flops)\n",
            "  MultipleGridAnchorGenerator/mul_50 (2/2 flops)\n",
            "  MultipleGridAnchorGenerator/mul_49 (2/2 flops)\n",
            "  Postprocessor/BatchMultiClassNonMaxSuppression/map/while/PadOrClipBoxList/Greater_3 (1/1 flops)\n",
            "  Postprocessor/BatchMultiClassNonMaxSuppression/map/while/PadOrClipBoxList/Greater_2 (1/1 flops)\n",
            "  Postprocessor/BatchMultiClassNonMaxSuppression/map/while/PadOrClipBoxList/Greater_1 (1/1 flops)\n",
            "  Postprocessor/BatchMultiClassNonMaxSuppression/map/while/PadOrClipBoxList/Greater_4 (1/1 flops)\n",
            "  Postprocessor/BatchMultiClassNonMaxSuppression/map/while/PadOrClipBoxList/Greater (1/1 flops)\n",
            "  Postprocessor/BatchMultiClassNonMaxSuppression/map/while/PadOrClipBoxList/Greater_7 (1/1 flops)\n",
            "  Postprocessor/BatchMultiClassNonMaxSuppression/map/while/PadOrClipBoxList/Greater_5 (1/1 flops)\n",
            "  Postprocessor/BatchMultiClassNonMaxSuppression/map/while/PadOrClipBoxList/Greater_6 (1/1 flops)\n",
            "  Postprocessor/BatchMultiClassNonMaxSuppression/map/while/MultiClassNonMaxSuppression/sub_1 (1/1 flops)\n",
            "  Postprocessor/BatchMultiClassNonMaxSuppression/map/while/MultiClassNonMaxSuppression/sub_17 (1/1 flops)\n",
            "  Preprocessor/map/while/Less_1 (1/1 flops)\n",
            "  Postprocessor/BatchMultiClassNonMaxSuppression/map/while/MultiClassNonMaxSuppression/sub_10 (1/1 flops)\n",
            "  Postprocessor/BatchMultiClassNonMaxSuppression/map/while/MultiClassNonMaxSuppression/sub_11 (1/1 flops)\n",
            "  Postprocessor/BatchMultiClassNonMaxSuppression/map/while/MultiClassNonMaxSuppression/sub_12 (1/1 flops)\n",
            "  Postprocessor/BatchMultiClassNonMaxSuppression/map/while/MultiClassNonMaxSuppression/sub_13 (1/1 flops)\n",
            "  Postprocessor/BatchMultiClassNonMaxSuppression/map/while/MultiClassNonMaxSuppression/sub_14 (1/1 flops)\n",
            "  Postprocessor/BatchMultiClassNonMaxSuppression/map/while/MultiClassNonMaxSuppression/sub_15 (1/1 flops)\n",
            "  Postprocessor/BatchMultiClassNonMaxSuppression/map/while/MultiClassNonMaxSuppression/sub_16 (1/1 flops)\n",
            "  Postprocessor/BatchMultiClassNonMaxSuppression/map/while/MultiClassNonMaxSuppression/sub_9 (1/1 flops)\n",
            "  Postprocessor/BatchMultiClassNonMaxSuppression/map/while/MultiClassNonMaxSuppression/sub_2 (1/1 flops)\n",
            "  Postprocessor/BatchMultiClassNonMaxSuppression/map/while/MultiClassNonMaxSuppression/sub_3 (1/1 flops)\n",
            "  Postprocessor/BatchMultiClassNonMaxSuppression/map/while/MultiClassNonMaxSuppression/sub_4 (1/1 flops)\n",
            "  Postprocessor/BatchMultiClassNonMaxSuppression/map/while/MultiClassNonMaxSuppression/sub_5 (1/1 flops)\n",
            "  Postprocessor/BatchMultiClassNonMaxSuppression/map/while/MultiClassNonMaxSuppression/sub_6 (1/1 flops)\n",
            "  Postprocessor/BatchMultiClassNonMaxSuppression/map/while/MultiClassNonMaxSuppression/sub_7 (1/1 flops)\n",
            "  Postprocessor/BatchMultiClassNonMaxSuppression/map/while/MultiClassNonMaxSuppression/sub_8 (1/1 flops)\n",
            "  Postprocessor/BatchMultiClassNonMaxSuppression/map/while/PadOrClipBoxList/sub_18 (1/1 flops)\n",
            "  MultipleGridAnchorGenerator/Minimum (1/1 flops)\n",
            "  Preprocessor/map/while/Less (1/1 flops)\n",
            "  Postprocessor/BatchMultiClassNonMaxSuppression/ones/Less (1/1 flops)\n",
            "  Postprocessor/BatchMultiClassNonMaxSuppression/map/while/PadOrClipBoxList/sub_9 (1/1 flops)\n",
            "  Postprocessor/BatchMultiClassNonMaxSuppression/map/while/PadOrClipBoxList/sub_8 (1/1 flops)\n",
            "  Postprocessor/BatchMultiClassNonMaxSuppression/map/while/PadOrClipBoxList/sub_7 (1/1 flops)\n",
            "  Postprocessor/BatchMultiClassNonMaxSuppression/map/while/PadOrClipBoxList/sub_6 (1/1 flops)\n",
            "  Postprocessor/BatchMultiClassNonMaxSuppression/map/while/PadOrClipBoxList/sub_5 (1/1 flops)\n",
            "  Postprocessor/BatchMultiClassNonMaxSuppression/map/while/PadOrClipBoxList/sub_4 (1/1 flops)\n",
            "  Postprocessor/BatchMultiClassNonMaxSuppression/map/while/PadOrClipBoxList/sub_3 (1/1 flops)\n",
            "  Postprocessor/BatchMultiClassNonMaxSuppression/map/while/PadOrClipBoxList/sub_2 (1/1 flops)\n",
            "  Postprocessor/BatchMultiClassNonMaxSuppression/map/while/PadOrClipBoxList/sub_19 (1/1 flops)\n",
            "  Postprocessor/BatchMultiClassNonMaxSuppression/map/while/PadOrClipBoxList/Greater_8 (1/1 flops)\n",
            "  Postprocessor/BatchMultiClassNonMaxSuppression/map/while/PadOrClipBoxList/sub_17 (1/1 flops)\n",
            "  Postprocessor/BatchMultiClassNonMaxSuppression/map/while/PadOrClipBoxList/sub_16 (1/1 flops)\n",
            "  Postprocessor/BatchMultiClassNonMaxSuppression/map/while/PadOrClipBoxList/sub_15 (1/1 flops)\n",
            "  Postprocessor/BatchMultiClassNonMaxSuppression/map/while/PadOrClipBoxList/sub_14 (1/1 flops)\n",
            "  Postprocessor/BatchMultiClassNonMaxSuppression/map/while/PadOrClipBoxList/sub_13 (1/1 flops)\n",
            "  Postprocessor/BatchMultiClassNonMaxSuppression/map/while/PadOrClipBoxList/sub_12 (1/1 flops)\n",
            "  Postprocessor/BatchMultiClassNonMaxSuppression/map/while/PadOrClipBoxList/sub_11 (1/1 flops)\n",
            "  Postprocessor/BatchMultiClassNonMaxSuppression/map/while/PadOrClipBoxList/sub_10 (1/1 flops)\n",
            "  Postprocessor/BatchMultiClassNonMaxSuppression/map/while/PadOrClipBoxList/sub_1 (1/1 flops)\n",
            "  Postprocessor/BatchMultiClassNonMaxSuppression/map/while/PadOrClipBoxList/sub (1/1 flops)\n",
            "  Postprocessor/BatchMultiClassNonMaxSuppression/map/while/PadOrClipBoxList/Greater_9 (1/1 flops)\n",
            "  MultipleGridAnchorGenerator/mul_58 (1/1 flops)\n",
            "  MultipleGridAnchorGenerator/truediv_3 (1/1 flops)\n",
            "  MultipleGridAnchorGenerator/truediv_2 (1/1 flops)\n",
            "  MultipleGridAnchorGenerator/truediv_13 (1/1 flops)\n",
            "  MultipleGridAnchorGenerator/truediv_12 (1/1 flops)\n",
            "  MultipleGridAnchorGenerator/truediv_11 (1/1 flops)\n",
            "  MultipleGridAnchorGenerator/truediv_10 (1/1 flops)\n",
            "  MultipleGridAnchorGenerator/truediv_1 (1/1 flops)\n",
            "  MultipleGridAnchorGenerator/truediv (1/1 flops)\n",
            "  MultipleGridAnchorGenerator/mul_9 (1/1 flops)\n",
            "  MultipleGridAnchorGenerator/mul_8 (1/1 flops)\n",
            "  MultipleGridAnchorGenerator/mul_7 (1/1 flops)\n",
            "  MultipleGridAnchorGenerator/mul_6 (1/1 flops)\n",
            "  MultipleGridAnchorGenerator/truediv_4 (1/1 flops)\n",
            "  MultipleGridAnchorGenerator/mul_57 (1/1 flops)\n",
            "  MultipleGridAnchorGenerator/mul_5 (1/1 flops)\n",
            "  MultipleGridAnchorGenerator/mul_4 (1/1 flops)\n",
            "  MultipleGridAnchorGenerator/mul_3 (1/1 flops)\n",
            "  MultipleGridAnchorGenerator/mul_2 (1/1 flops)\n",
            "  MultipleGridAnchorGenerator/mul_13 (1/1 flops)\n",
            "  MultipleGridAnchorGenerator/mul_12 (1/1 flops)\n",
            "  MultipleGridAnchorGenerator/mul_11 (1/1 flops)\n",
            "  MultipleGridAnchorGenerator/mul_10 (1/1 flops)\n",
            "  MultipleGridAnchorGenerator/mul_1 (1/1 flops)\n",
            "  MultipleGridAnchorGenerator/mul (1/1 flops)\n",
            "  MultipleGridAnchorGenerator/assert_equal_1/Equal (1/1 flops)\n",
            "  Postprocessor/BatchMultiClassNonMaxSuppression/map/while/MultiClassNonMaxSuppression/Greater (1/1 flops)\n",
            "  Postprocessor/BatchMultiClassNonMaxSuppression/map/while/MultiClassNonMaxSuppression/SortByField_1/Equal (1/1 flops)\n",
            "  Postprocessor/BatchMultiClassNonMaxSuppression/map/while/MultiClassNonMaxSuppression/SortByField/Equal (1/1 flops)\n",
            "  Postprocessor/BatchMultiClassNonMaxSuppression/map/while/MultiClassNonMaxSuppression/Minimum_9 (1/1 flops)\n",
            "  Postprocessor/BatchMultiClassNonMaxSuppression/map/while/MultiClassNonMaxSuppression/Minimum_8 (1/1 flops)\n",
            "  Postprocessor/BatchMultiClassNonMaxSuppression/map/while/MultiClassNonMaxSuppression/Minimum_7 (1/1 flops)\n",
            "  Postprocessor/BatchMultiClassNonMaxSuppression/map/while/MultiClassNonMaxSuppression/Minimum_6 (1/1 flops)\n",
            "  Postprocessor/BatchMultiClassNonMaxSuppression/map/while/MultiClassNonMaxSuppression/Minimum_5 (1/1 flops)\n",
            "  Postprocessor/BatchMultiClassNonMaxSuppression/map/while/MultiClassNonMaxSuppression/Minimum_4 (1/1 flops)\n",
            "  Postprocessor/BatchMultiClassNonMaxSuppression/map/while/MultiClassNonMaxSuppression/Minimum_3 (1/1 flops)\n",
            "  Postprocessor/BatchMultiClassNonMaxSuppression/map/while/MultiClassNonMaxSuppression/Minimum_2 (1/1 flops)\n",
            "  Postprocessor/BatchMultiClassNonMaxSuppression/map/while/MultiClassNonMaxSuppression/Minimum_1 (1/1 flops)\n",
            "  Postprocessor/BatchMultiClassNonMaxSuppression/map/while/MultiClassNonMaxSuppression/Minimum (1/1 flops)\n",
            "  Postprocessor/BatchMultiClassNonMaxSuppression/map/while/MultiClassNonMaxSuppression/sub (1/1 flops)\n",
            "  Postprocessor/BatchMultiClassNonMaxSuppression/map/while/MultiClassNonMaxSuppression/ChangeCoordinateFrame/truediv_1 (1/1 flops)\n",
            "  Postprocessor/BatchMultiClassNonMaxSuppression/map/while/MultiClassNonMaxSuppression/ChangeCoordinateFrame/truediv (1/1 flops)\n",
            "  Postprocessor/BatchMultiClassNonMaxSuppression/map/while/MultiClassNonMaxSuppression/ChangeCoordinateFrame/sub_1 (1/1 flops)\n",
            "  Postprocessor/BatchMultiClassNonMaxSuppression/map/while/MultiClassNonMaxSuppression/ChangeCoordinateFrame/sub (1/1 flops)\n",
            "  Postprocessor/BatchMultiClassNonMaxSuppression/map/while/Less_1 (1/1 flops)\n",
            "  Postprocessor/BatchMultiClassNonMaxSuppression/map/while/Less (1/1 flops)\n",
            "  MultipleGridAnchorGenerator/truediv_9 (1/1 flops)\n",
            "  MultipleGridAnchorGenerator/truediv_8 (1/1 flops)\n",
            "  MultipleGridAnchorGenerator/truediv_7 (1/1 flops)\n",
            "  MultipleGridAnchorGenerator/truediv_6 (1/1 flops)\n",
            "  MultipleGridAnchorGenerator/truediv_5 (1/1 flops)\n",
            "\n",
            "======================End of Report==========================\n",
            "2020-09-26 13:17:36.033661: I tensorflow/stream_executor/platform/default/dso_loader.cc:44] Successfully opened dynamic library libcuda.so.1\n",
            "2020-09-26 13:17:36.071118: I tensorflow/stream_executor/cuda/cuda_gpu_executor.cc:983] successful NUMA node read from SysFS had negative value (-1), but there must be at least one NUMA node, so returning NUMA node zero\n",
            "2020-09-26 13:17:36.071739: I tensorflow/core/common_runtime/gpu/gpu_device.cc:1639] Found device 0 with properties: \n",
            "name: Tesla T4 major: 7 minor: 5 memoryClockRate(GHz): 1.59\n",
            "pciBusID: 0000:00:04.0\n",
            "2020-09-26 13:17:36.072083: I tensorflow/stream_executor/platform/default/dso_loader.cc:44] Successfully opened dynamic library libcudart.so.10.1\n",
            "2020-09-26 13:17:36.073965: I tensorflow/stream_executor/platform/default/dso_loader.cc:44] Successfully opened dynamic library libcublas.so.10\n",
            "2020-09-26 13:17:36.075975: I tensorflow/stream_executor/platform/default/dso_loader.cc:44] Successfully opened dynamic library libcufft.so.10\n",
            "2020-09-26 13:17:36.076386: I tensorflow/stream_executor/platform/default/dso_loader.cc:44] Successfully opened dynamic library libcurand.so.10\n",
            "2020-09-26 13:17:36.078999: I tensorflow/stream_executor/platform/default/dso_loader.cc:44] Successfully opened dynamic library libcusolver.so.10\n",
            "2020-09-26 13:17:36.079990: I tensorflow/stream_executor/platform/default/dso_loader.cc:44] Successfully opened dynamic library libcusparse.so.10\n",
            "2020-09-26 13:17:36.084398: I tensorflow/stream_executor/platform/default/dso_loader.cc:44] Successfully opened dynamic library libcudnn.so.7\n",
            "2020-09-26 13:17:36.084560: I tensorflow/stream_executor/cuda/cuda_gpu_executor.cc:983] successful NUMA node read from SysFS had negative value (-1), but there must be at least one NUMA node, so returning NUMA node zero\n",
            "2020-09-26 13:17:36.085464: I tensorflow/stream_executor/cuda/cuda_gpu_executor.cc:983] successful NUMA node read from SysFS had negative value (-1), but there must be at least one NUMA node, so returning NUMA node zero\n",
            "2020-09-26 13:17:36.086176: I tensorflow/core/common_runtime/gpu/gpu_device.cc:1767] Adding visible gpu devices: 0\n",
            "2020-09-26 13:17:36.091859: I tensorflow/core/platform/profile_utils/cpu_utils.cc:94] CPU Frequency: 2200000000 Hz\n",
            "2020-09-26 13:17:36.092066: I tensorflow/compiler/xla/service/service.cc:168] XLA service 0x2d12d80 initialized for platform Host (this does not guarantee that XLA will be used). Devices:\n",
            "2020-09-26 13:17:36.092097: I tensorflow/compiler/xla/service/service.cc:176]   StreamExecutor device (0): Host, Default Version\n",
            "2020-09-26 13:17:36.214501: I tensorflow/stream_executor/cuda/cuda_gpu_executor.cc:983] successful NUMA node read from SysFS had negative value (-1), but there must be at least one NUMA node, so returning NUMA node zero\n",
            "2020-09-26 13:17:36.215318: I tensorflow/compiler/xla/service/service.cc:168] XLA service 0x2d13100 initialized for platform CUDA (this does not guarantee that XLA will be used). Devices:\n",
            "2020-09-26 13:17:36.215352: I tensorflow/compiler/xla/service/service.cc:176]   StreamExecutor device (0): Tesla T4, Compute Capability 7.5\n",
            "2020-09-26 13:17:36.215598: I tensorflow/stream_executor/cuda/cuda_gpu_executor.cc:983] successful NUMA node read from SysFS had negative value (-1), but there must be at least one NUMA node, so returning NUMA node zero\n",
            "2020-09-26 13:17:36.216200: I tensorflow/core/common_runtime/gpu/gpu_device.cc:1639] Found device 0 with properties: \n",
            "name: Tesla T4 major: 7 minor: 5 memoryClockRate(GHz): 1.59\n",
            "pciBusID: 0000:00:04.0\n",
            "2020-09-26 13:17:36.216290: I tensorflow/stream_executor/platform/default/dso_loader.cc:44] Successfully opened dynamic library libcudart.so.10.1\n",
            "2020-09-26 13:17:36.216319: I tensorflow/stream_executor/platform/default/dso_loader.cc:44] Successfully opened dynamic library libcublas.so.10\n",
            "2020-09-26 13:17:36.216351: I tensorflow/stream_executor/platform/default/dso_loader.cc:44] Successfully opened dynamic library libcufft.so.10\n",
            "2020-09-26 13:17:36.216376: I tensorflow/stream_executor/platform/default/dso_loader.cc:44] Successfully opened dynamic library libcurand.so.10\n",
            "2020-09-26 13:17:36.216398: I tensorflow/stream_executor/platform/default/dso_loader.cc:44] Successfully opened dynamic library libcusolver.so.10\n",
            "2020-09-26 13:17:36.216423: I tensorflow/stream_executor/platform/default/dso_loader.cc:44] Successfully opened dynamic library libcusparse.so.10\n",
            "2020-09-26 13:17:36.216449: I tensorflow/stream_executor/platform/default/dso_loader.cc:44] Successfully opened dynamic library libcudnn.so.7\n",
            "2020-09-26 13:17:36.216538: I tensorflow/stream_executor/cuda/cuda_gpu_executor.cc:983] successful NUMA node read from SysFS had negative value (-1), but there must be at least one NUMA node, so returning NUMA node zero\n",
            "2020-09-26 13:17:36.217199: I tensorflow/stream_executor/cuda/cuda_gpu_executor.cc:983] successful NUMA node read from SysFS had negative value (-1), but there must be at least one NUMA node, so returning NUMA node zero\n",
            "2020-09-26 13:17:36.217740: I tensorflow/core/common_runtime/gpu/gpu_device.cc:1767] Adding visible gpu devices: 0\n",
            "2020-09-26 13:17:36.217813: I tensorflow/stream_executor/platform/default/dso_loader.cc:44] Successfully opened dynamic library libcudart.so.10.1\n",
            "2020-09-26 13:17:36.219099: I tensorflow/core/common_runtime/gpu/gpu_device.cc:1180] Device interconnect StreamExecutor with strength 1 edge matrix:\n",
            "2020-09-26 13:17:36.219126: I tensorflow/core/common_runtime/gpu/gpu_device.cc:1186]      0 \n",
            "2020-09-26 13:17:36.219137: I tensorflow/core/common_runtime/gpu/gpu_device.cc:1199] 0:   N \n",
            "2020-09-26 13:17:36.219266: I tensorflow/stream_executor/cuda/cuda_gpu_executor.cc:983] successful NUMA node read from SysFS had negative value (-1), but there must be at least one NUMA node, so returning NUMA node zero\n",
            "2020-09-26 13:17:36.220268: I tensorflow/stream_executor/cuda/cuda_gpu_executor.cc:983] successful NUMA node read from SysFS had negative value (-1), but there must be at least one NUMA node, so returning NUMA node zero\n",
            "2020-09-26 13:17:36.221176: W tensorflow/core/common_runtime/gpu/gpu_bfc_allocator.cc:39] Overriding allow_growth setting because the TF_FORCE_GPU_ALLOW_GROWTH environment variable is set. Original config value was 0.\n",
            "2020-09-26 13:17:36.221235: I tensorflow/core/common_runtime/gpu/gpu_device.cc:1325] Created TensorFlow device (/job:localhost/replica:0/task:0/device:GPU:0 with 14221 MB memory) -> physical GPU (device: 0, name: Tesla T4, pci bus id: 0000:00:04.0, compute capability: 7.5)\n",
            "INFO:tensorflow:Restoring parameters from training/model.ckpt-5000\n",
            "I0926 13:17:36.223328 140386905995136 saver.py:1284] Restoring parameters from training/model.ckpt-5000\n",
            "WARNING:tensorflow:From /tensorflow-1.15.2/python3.6/tensorflow_core/python/tools/freeze_graph.py:127: checkpoint_exists (from tensorflow.python.training.checkpoint_management) is deprecated and will be removed in a future version.\n",
            "Instructions for updating:\n",
            "Use standard file APIs to check for files with this prefix.\n",
            "W0926 13:17:37.999901 140386905995136 deprecation.py:323] From /tensorflow-1.15.2/python3.6/tensorflow_core/python/tools/freeze_graph.py:127: checkpoint_exists (from tensorflow.python.training.checkpoint_management) is deprecated and will be removed in a future version.\n",
            "Instructions for updating:\n",
            "Use standard file APIs to check for files with this prefix.\n",
            "2020-09-26 13:17:38.609615: I tensorflow/stream_executor/cuda/cuda_gpu_executor.cc:983] successful NUMA node read from SysFS had negative value (-1), but there must be at least one NUMA node, so returning NUMA node zero\n",
            "2020-09-26 13:17:38.610253: I tensorflow/core/common_runtime/gpu/gpu_device.cc:1639] Found device 0 with properties: \n",
            "name: Tesla T4 major: 7 minor: 5 memoryClockRate(GHz): 1.59\n",
            "pciBusID: 0000:00:04.0\n",
            "2020-09-26 13:17:38.610352: I tensorflow/stream_executor/platform/default/dso_loader.cc:44] Successfully opened dynamic library libcudart.so.10.1\n",
            "2020-09-26 13:17:38.610383: I tensorflow/stream_executor/platform/default/dso_loader.cc:44] Successfully opened dynamic library libcublas.so.10\n",
            "2020-09-26 13:17:38.610411: I tensorflow/stream_executor/platform/default/dso_loader.cc:44] Successfully opened dynamic library libcufft.so.10\n",
            "2020-09-26 13:17:38.610438: I tensorflow/stream_executor/platform/default/dso_loader.cc:44] Successfully opened dynamic library libcurand.so.10\n",
            "2020-09-26 13:17:38.610465: I tensorflow/stream_executor/platform/default/dso_loader.cc:44] Successfully opened dynamic library libcusolver.so.10\n",
            "2020-09-26 13:17:38.610490: I tensorflow/stream_executor/platform/default/dso_loader.cc:44] Successfully opened dynamic library libcusparse.so.10\n",
            "2020-09-26 13:17:38.610516: I tensorflow/stream_executor/platform/default/dso_loader.cc:44] Successfully opened dynamic library libcudnn.so.7\n",
            "2020-09-26 13:17:38.610605: I tensorflow/stream_executor/cuda/cuda_gpu_executor.cc:983] successful NUMA node read from SysFS had negative value (-1), but there must be at least one NUMA node, so returning NUMA node zero\n",
            "2020-09-26 13:17:38.611230: I tensorflow/stream_executor/cuda/cuda_gpu_executor.cc:983] successful NUMA node read from SysFS had negative value (-1), but there must be at least one NUMA node, so returning NUMA node zero\n",
            "2020-09-26 13:17:38.611772: I tensorflow/core/common_runtime/gpu/gpu_device.cc:1767] Adding visible gpu devices: 0\n",
            "2020-09-26 13:17:38.611817: I tensorflow/core/common_runtime/gpu/gpu_device.cc:1180] Device interconnect StreamExecutor with strength 1 edge matrix:\n",
            "2020-09-26 13:17:38.611834: I tensorflow/core/common_runtime/gpu/gpu_device.cc:1186]      0 \n",
            "2020-09-26 13:17:38.611844: I tensorflow/core/common_runtime/gpu/gpu_device.cc:1199] 0:   N \n",
            "2020-09-26 13:17:38.611943: I tensorflow/stream_executor/cuda/cuda_gpu_executor.cc:983] successful NUMA node read from SysFS had negative value (-1), but there must be at least one NUMA node, so returning NUMA node zero\n",
            "2020-09-26 13:17:38.612559: I tensorflow/stream_executor/cuda/cuda_gpu_executor.cc:983] successful NUMA node read from SysFS had negative value (-1), but there must be at least one NUMA node, so returning NUMA node zero\n",
            "2020-09-26 13:17:38.613157: I tensorflow/core/common_runtime/gpu/gpu_device.cc:1325] Created TensorFlow device (/job:localhost/replica:0/task:0/device:GPU:0 with 14221 MB memory) -> physical GPU (device: 0, name: Tesla T4, pci bus id: 0000:00:04.0, compute capability: 7.5)\n",
            "INFO:tensorflow:Restoring parameters from training/model.ckpt-5000\n",
            "I0926 13:17:38.614312 140386905995136 saver.py:1284] Restoring parameters from training/model.ckpt-5000\n",
            "WARNING:tensorflow:From /tensorflow-1.15.2/python3.6/tensorflow_core/python/tools/freeze_graph.py:233: convert_variables_to_constants (from tensorflow.python.framework.graph_util_impl) is deprecated and will be removed in a future version.\n",
            "Instructions for updating:\n",
            "Use `tf.compat.v1.graph_util.convert_variables_to_constants`\n",
            "W0926 13:17:39.333475 140386905995136 deprecation.py:323] From /tensorflow-1.15.2/python3.6/tensorflow_core/python/tools/freeze_graph.py:233: convert_variables_to_constants (from tensorflow.python.framework.graph_util_impl) is deprecated and will be removed in a future version.\n",
            "Instructions for updating:\n",
            "Use `tf.compat.v1.graph_util.convert_variables_to_constants`\n",
            "WARNING:tensorflow:From /tensorflow-1.15.2/python3.6/tensorflow_core/python/framework/graph_util_impl.py:277: extract_sub_graph (from tensorflow.python.framework.graph_util_impl) is deprecated and will be removed in a future version.\n",
            "Instructions for updating:\n",
            "Use `tf.compat.v1.graph_util.extract_sub_graph`\n",
            "W0926 13:17:39.333835 140386905995136 deprecation.py:323] From /tensorflow-1.15.2/python3.6/tensorflow_core/python/framework/graph_util_impl.py:277: extract_sub_graph (from tensorflow.python.framework.graph_util_impl) is deprecated and will be removed in a future version.\n",
            "Instructions for updating:\n",
            "Use `tf.compat.v1.graph_util.extract_sub_graph`\n",
            "INFO:tensorflow:Froze 324 variables.\n",
            "I0926 13:17:39.727124 140386905995136 graph_util_impl.py:334] Froze 324 variables.\n",
            "INFO:tensorflow:Converted 324 variables to const ops.\n",
            "I0926 13:17:39.809040 140386905995136 graph_util_impl.py:394] Converted 324 variables to const ops.\n",
            "2020-09-26 13:17:39.953736: I tensorflow/stream_executor/cuda/cuda_gpu_executor.cc:983] successful NUMA node read from SysFS had negative value (-1), but there must be at least one NUMA node, so returning NUMA node zero\n",
            "2020-09-26 13:17:39.954379: I tensorflow/core/common_runtime/gpu/gpu_device.cc:1639] Found device 0 with properties: \n",
            "name: Tesla T4 major: 7 minor: 5 memoryClockRate(GHz): 1.59\n",
            "pciBusID: 0000:00:04.0\n",
            "2020-09-26 13:17:39.954511: I tensorflow/stream_executor/platform/default/dso_loader.cc:44] Successfully opened dynamic library libcudart.so.10.1\n",
            "2020-09-26 13:17:39.954553: I tensorflow/stream_executor/platform/default/dso_loader.cc:44] Successfully opened dynamic library libcublas.so.10\n",
            "2020-09-26 13:17:39.954591: I tensorflow/stream_executor/platform/default/dso_loader.cc:44] Successfully opened dynamic library libcufft.so.10\n",
            "2020-09-26 13:17:39.954616: I tensorflow/stream_executor/platform/default/dso_loader.cc:44] Successfully opened dynamic library libcurand.so.10\n",
            "2020-09-26 13:17:39.954638: I tensorflow/stream_executor/platform/default/dso_loader.cc:44] Successfully opened dynamic library libcusolver.so.10\n",
            "2020-09-26 13:17:39.954707: I tensorflow/stream_executor/platform/default/dso_loader.cc:44] Successfully opened dynamic library libcusparse.so.10\n",
            "2020-09-26 13:17:39.954743: I tensorflow/stream_executor/platform/default/dso_loader.cc:44] Successfully opened dynamic library libcudnn.so.7\n",
            "2020-09-26 13:17:39.954850: I tensorflow/stream_executor/cuda/cuda_gpu_executor.cc:983] successful NUMA node read from SysFS had negative value (-1), but there must be at least one NUMA node, so returning NUMA node zero\n",
            "2020-09-26 13:17:39.955498: I tensorflow/stream_executor/cuda/cuda_gpu_executor.cc:983] successful NUMA node read from SysFS had negative value (-1), but there must be at least one NUMA node, so returning NUMA node zero\n",
            "2020-09-26 13:17:39.956258: I tensorflow/core/common_runtime/gpu/gpu_device.cc:1767] Adding visible gpu devices: 0\n",
            "2020-09-26 13:17:39.956320: I tensorflow/core/common_runtime/gpu/gpu_device.cc:1180] Device interconnect StreamExecutor with strength 1 edge matrix:\n",
            "2020-09-26 13:17:39.956339: I tensorflow/core/common_runtime/gpu/gpu_device.cc:1186]      0 \n",
            "2020-09-26 13:17:39.956350: I tensorflow/core/common_runtime/gpu/gpu_device.cc:1199] 0:   N \n",
            "2020-09-26 13:17:39.956473: I tensorflow/stream_executor/cuda/cuda_gpu_executor.cc:983] successful NUMA node read from SysFS had negative value (-1), but there must be at least one NUMA node, so returning NUMA node zero\n",
            "2020-09-26 13:17:39.957082: I tensorflow/stream_executor/cuda/cuda_gpu_executor.cc:983] successful NUMA node read from SysFS had negative value (-1), but there must be at least one NUMA node, so returning NUMA node zero\n",
            "2020-09-26 13:17:39.957627: I tensorflow/core/common_runtime/gpu/gpu_device.cc:1325] Created TensorFlow device (/job:localhost/replica:0/task:0/device:GPU:0 with 14221 MB memory) -> physical GPU (device: 0, name: Tesla T4, pci bus id: 0000:00:04.0, compute capability: 7.5)\n",
            "WARNING:tensorflow:From /content/models/research/object_detection/exporter.py:384: build_tensor_info (from tensorflow.python.saved_model.utils_impl) is deprecated and will be removed in a future version.\n",
            "Instructions for updating:\n",
            "This function will only be available through the v1 compatibility library as tf.compat.v1.saved_model.utils.build_tensor_info or tf.compat.v1.saved_model.build_tensor_info.\n",
            "W0926 13:17:40.561277 140386905995136 deprecation.py:323] From /content/models/research/object_detection/exporter.py:384: build_tensor_info (from tensorflow.python.saved_model.utils_impl) is deprecated and will be removed in a future version.\n",
            "Instructions for updating:\n",
            "This function will only be available through the v1 compatibility library as tf.compat.v1.saved_model.utils.build_tensor_info or tf.compat.v1.saved_model.build_tensor_info.\n",
            "INFO:tensorflow:No assets to save.\n",
            "I0926 13:17:40.562117 140386905995136 builder_impl.py:640] No assets to save.\n",
            "INFO:tensorflow:No assets to write.\n",
            "I0926 13:17:40.562273 140386905995136 builder_impl.py:460] No assets to write.\n",
            "INFO:tensorflow:SavedModel written to: ./fine_tuned_model/saved_model/saved_model.pb\n",
            "I0926 13:17:40.896591 140386905995136 builder_impl.py:425] SavedModel written to: ./fine_tuned_model/saved_model/saved_model.pb\n",
            "INFO:tensorflow:Writing pipeline config file to ./fine_tuned_model/pipeline.config\n",
            "I0926 13:17:40.928277 140386905995136 config_util.py:254] Writing pipeline config file to ./fine_tuned_model/pipeline.config\n"
          ],
          "name": "stdout"
        }
      ]
    },
    {
      "cell_type": "code",
      "metadata": {
        "id": "_L81QcXdu-CM",
        "outputId": "be2d3a62-6e94-496e-8e95-4a6b613e9b36",
        "colab": {
          "base_uri": "https://localhost:8080/",
          "height": 68
        }
      },
      "source": [
        "!ls {output_directory}"
      ],
      "execution_count": 42,
      "outputs": [
        {
          "output_type": "stream",
          "text": [
            "checkpoint\t\t\tmodel.ckpt.index  saved_model\n",
            "frozen_inference_graph.pb\tmodel.ckpt.meta\n",
            "model.ckpt.data-00000-of-00001\tpipeline.config\n"
          ],
          "name": "stdout"
        }
      ]
    },
    {
      "cell_type": "code",
      "metadata": {
        "id": "7dVFGLRQvE8A"
      },
      "source": [
        ""
      ],
      "execution_count": null,
      "outputs": []
    },
    {
      "cell_type": "markdown",
      "metadata": {
        "id": "hT6LOKfxvH97"
      },
      "source": [
        "## Download the model .pb file"
      ]
    },
    {
      "cell_type": "code",
      "metadata": {
        "id": "2dePJh3MvIoi"
      },
      "source": [
        "import os\n",
        "\n",
        "pb_fname = os.path.join(os.path.abspath(output_directory), \"frozen_inference_graph.pb\")\n",
        "assert os.path.isfile(pb_fname), '`{}` not exist'.format(pb_fname)"
      ],
      "execution_count": 43,
      "outputs": []
    },
    {
      "cell_type": "code",
      "metadata": {
        "id": "twyWJgccUmiF",
        "outputId": "55351ed7-d79f-429f-c4e6-c0aea4e92573",
        "colab": {
          "base_uri": "https://localhost:8080/",
          "height": 153
        }
      },
      "source": [
        "!ls"
      ],
      "execution_count": 31,
      "outputs": [
        {
          "output_type": "stream",
          "text": [
            "a3c_blogpost\t    deeplab\t\t   nst_blogpost\t\t   setup.py\n",
            "adversarial_text    deep_speech\t\t   object_detection\t   slim\n",
            "attention_ocr\t    delf\t\t   object-detection.pbtxt  test.record\n",
            "audioset\t    efficient-hrl\t   pcl_rl\t\t   training\n",
            "autoaugment\t    fine_tuned_model\t   pretrained_model\t   train.record\n",
            "cognitive_planning  lfads\t\t   README.md\t\t   vid2depth\n",
            "cvt_text\t    lstm_object_detection  rebar\n",
            "dataset.zip\t    marco\t\t   sequence_projection\n"
          ],
          "name": "stdout"
        }
      ]
    },
    {
      "cell_type": "code",
      "metadata": {
        "id": "fVqWUR9wUpnK"
      },
      "source": [
        "!rm -r /content/models/research/fine_tuned_model"
      ],
      "execution_count": 36,
      "outputs": []
    },
    {
      "cell_type": "code",
      "metadata": {
        "id": "yH7eXK5SvKCZ",
        "outputId": "686064ec-ea88-435a-d993-80d3d9889b1b",
        "colab": {
          "base_uri": "https://localhost:8080/",
          "height": 54
        }
      },
      "source": [
        "!ls -alh {pb_fname}"
      ],
      "execution_count": 37,
      "outputs": [
        {
          "output_type": "stream",
          "text": [
            "ls: cannot access '/content/models/research/fine_tuned_model/frozen_inference_graph.pb': No such file or directory\n"
          ],
          "name": "stdout"
        }
      ]
    },
    {
      "cell_type": "code",
      "metadata": {
        "id": "kUGA14pdvL0c",
        "outputId": "ea32ed8e-241f-4ae7-8a96-2653ccf323bf",
        "colab": {
          "base_uri": "https://localhost:8080/",
          "height": 17
        }
      },
      "source": [
        "from google.colab import files\n",
        "files.download(pb_fname)"
      ],
      "execution_count": 33,
      "outputs": [
        {
          "output_type": "display_data",
          "data": {
            "application/javascript": [
              "\n",
              "    async function download(id, filename, size) {\n",
              "      if (!google.colab.kernel.accessAllowed) {\n",
              "        return;\n",
              "      }\n",
              "      const div = document.createElement('div');\n",
              "      const label = document.createElement('label');\n",
              "      label.textContent = `Downloading \"${filename}\": `;\n",
              "      div.appendChild(label);\n",
              "      const progress = document.createElement('progress');\n",
              "      progress.max = size;\n",
              "      div.appendChild(progress);\n",
              "      document.body.appendChild(div);\n",
              "\n",
              "      const buffers = [];\n",
              "      let downloaded = 0;\n",
              "\n",
              "      const channel = await google.colab.kernel.comms.open(id);\n",
              "      // Send a message to notify the kernel that we're ready.\n",
              "      channel.send({})\n",
              "\n",
              "      for await (const message of channel.messages) {\n",
              "        // Send a message to notify the kernel that we're ready.\n",
              "        channel.send({})\n",
              "        if (message.buffers) {\n",
              "          for (const buffer of message.buffers) {\n",
              "            buffers.push(buffer);\n",
              "            downloaded += buffer.byteLength;\n",
              "            progress.value = downloaded;\n",
              "          }\n",
              "        }\n",
              "      }\n",
              "      const blob = new Blob(buffers, {type: 'application/binary'});\n",
              "      const a = document.createElement('a');\n",
              "      a.href = window.URL.createObjectURL(blob);\n",
              "      a.download = filename;\n",
              "      div.appendChild(a);\n",
              "      a.click();\n",
              "      div.remove();\n",
              "    }\n",
              "  "
            ],
            "text/plain": [
              "<IPython.core.display.Javascript object>"
            ]
          },
          "metadata": {
            "tags": []
          }
        },
        {
          "output_type": "display_data",
          "data": {
            "application/javascript": [
              "download(\"download_d7803305-aba7-4e30-870b-b52c7c3c6f35\", \"frozen_inference_graph.pb\", 19822115)"
            ],
            "text/plain": [
              "<IPython.core.display.Javascript object>"
            ]
          },
          "metadata": {
            "tags": []
          }
        }
      ]
    },
    {
      "cell_type": "code",
      "metadata": {
        "id": "CaOSdVmHvO_U"
      },
      "source": [
        ""
      ],
      "execution_count": null,
      "outputs": []
    },
    {
      "cell_type": "markdown",
      "metadata": {
        "id": "LADw5d_vvkNH"
      },
      "source": [
        "## Download the label_map.pbtxt file"
      ]
    },
    {
      "cell_type": "code",
      "metadata": {
        "id": "IUYn31KLvk3j",
        "outputId": "4d7c00b4-6ebb-49a3-e7e5-630727bb18ee",
        "colab": {
          "base_uri": "https://localhost:8080/",
          "height": 17
        }
      },
      "source": [
        "from google.colab import files\n",
        "files.download(label_map_pbtxt_fname)"
      ],
      "execution_count": 34,
      "outputs": [
        {
          "output_type": "display_data",
          "data": {
            "application/javascript": [
              "\n",
              "    async function download(id, filename, size) {\n",
              "      if (!google.colab.kernel.accessAllowed) {\n",
              "        return;\n",
              "      }\n",
              "      const div = document.createElement('div');\n",
              "      const label = document.createElement('label');\n",
              "      label.textContent = `Downloading \"${filename}\": `;\n",
              "      div.appendChild(label);\n",
              "      const progress = document.createElement('progress');\n",
              "      progress.max = size;\n",
              "      div.appendChild(progress);\n",
              "      document.body.appendChild(div);\n",
              "\n",
              "      const buffers = [];\n",
              "      let downloaded = 0;\n",
              "\n",
              "      const channel = await google.colab.kernel.comms.open(id);\n",
              "      // Send a message to notify the kernel that we're ready.\n",
              "      channel.send({})\n",
              "\n",
              "      for await (const message of channel.messages) {\n",
              "        // Send a message to notify the kernel that we're ready.\n",
              "        channel.send({})\n",
              "        if (message.buffers) {\n",
              "          for (const buffer of message.buffers) {\n",
              "            buffers.push(buffer);\n",
              "            downloaded += buffer.byteLength;\n",
              "            progress.value = downloaded;\n",
              "          }\n",
              "        }\n",
              "      }\n",
              "      const blob = new Blob(buffers, {type: 'application/binary'});\n",
              "      const a = document.createElement('a');\n",
              "      a.href = window.URL.createObjectURL(blob);\n",
              "      a.download = filename;\n",
              "      div.appendChild(a);\n",
              "      a.click();\n",
              "      div.remove();\n",
              "    }\n",
              "  "
            ],
            "text/plain": [
              "<IPython.core.display.Javascript object>"
            ]
          },
          "metadata": {
            "tags": []
          }
        },
        {
          "output_type": "display_data",
          "data": {
            "application/javascript": [
              "download(\"download_3e71a397-4927-4747-92c2-61983309d616\", \"object-detection.pbtxt\", 309)"
            ],
            "text/plain": [
              "<IPython.core.display.Javascript object>"
            ]
          },
          "metadata": {
            "tags": []
          }
        }
      ]
    },
    {
      "cell_type": "code",
      "metadata": {
        "id": "oGcwlDtfvmSv"
      },
      "source": [
        ""
      ],
      "execution_count": null,
      "outputs": []
    },
    {
      "cell_type": "code",
      "metadata": {
        "id": "RLHOzAPGwaq3",
        "outputId": "8c3bbaa7-cd13-4b15-bf0b-6bc767d8c37c",
        "colab": {
          "base_uri": "https://localhost:8080/",
          "height": 17
        }
      },
      "source": [
        "files.download(pipeline_fname)"
      ],
      "execution_count": 35,
      "outputs": [
        {
          "output_type": "display_data",
          "data": {
            "application/javascript": [
              "\n",
              "    async function download(id, filename, size) {\n",
              "      if (!google.colab.kernel.accessAllowed) {\n",
              "        return;\n",
              "      }\n",
              "      const div = document.createElement('div');\n",
              "      const label = document.createElement('label');\n",
              "      label.textContent = `Downloading \"${filename}\": `;\n",
              "      div.appendChild(label);\n",
              "      const progress = document.createElement('progress');\n",
              "      progress.max = size;\n",
              "      div.appendChild(progress);\n",
              "      document.body.appendChild(div);\n",
              "\n",
              "      const buffers = [];\n",
              "      let downloaded = 0;\n",
              "\n",
              "      const channel = await google.colab.kernel.comms.open(id);\n",
              "      // Send a message to notify the kernel that we're ready.\n",
              "      channel.send({})\n",
              "\n",
              "      for await (const message of channel.messages) {\n",
              "        // Send a message to notify the kernel that we're ready.\n",
              "        channel.send({})\n",
              "        if (message.buffers) {\n",
              "          for (const buffer of message.buffers) {\n",
              "            buffers.push(buffer);\n",
              "            downloaded += buffer.byteLength;\n",
              "            progress.value = downloaded;\n",
              "          }\n",
              "        }\n",
              "      }\n",
              "      const blob = new Blob(buffers, {type: 'application/binary'});\n",
              "      const a = document.createElement('a');\n",
              "      a.href = window.URL.createObjectURL(blob);\n",
              "      a.download = filename;\n",
              "      div.appendChild(a);\n",
              "      a.click();\n",
              "      div.remove();\n",
              "    }\n",
              "  "
            ],
            "text/plain": [
              "<IPython.core.display.Javascript object>"
            ]
          },
          "metadata": {
            "tags": []
          }
        },
        {
          "output_type": "display_data",
          "data": {
            "application/javascript": [
              "download(\"download_9dae99e9-6b79-4f40-847c-05ecce052a78\", \"ssd_mobilenet_v2_coco.config\", 4705)"
            ],
            "text/plain": [
              "<IPython.core.display.Javascript object>"
            ]
          },
          "metadata": {
            "tags": []
          }
        }
      ]
    },
    {
      "cell_type": "code",
      "metadata": {
        "id": "vEWXTo3K0lsz"
      },
      "source": [
        ""
      ],
      "execution_count": null,
      "outputs": []
    },
    {
      "cell_type": "code",
      "metadata": {
        "id": "PX92Ta8bwbDs"
      },
      "source": [
        ""
      ],
      "execution_count": null,
      "outputs": []
    },
    {
      "cell_type": "code",
      "metadata": {
        "id": "XFAmN5w61Lvq"
      },
      "source": [
        ""
      ],
      "execution_count": null,
      "outputs": []
    },
    {
      "cell_type": "code",
      "metadata": {
        "id": "Z--r5sj21LqY"
      },
      "source": [
        ""
      ],
      "execution_count": null,
      "outputs": []
    },
    {
      "cell_type": "code",
      "metadata": {
        "id": "HnGyBqFe3HaB"
      },
      "source": [
        ""
      ],
      "execution_count": null,
      "outputs": []
    },
    {
      "cell_type": "code",
      "metadata": {
        "id": "iEp-lgda3TRq"
      },
      "source": [
        ""
      ],
      "execution_count": null,
      "outputs": []
    }
  ]
}